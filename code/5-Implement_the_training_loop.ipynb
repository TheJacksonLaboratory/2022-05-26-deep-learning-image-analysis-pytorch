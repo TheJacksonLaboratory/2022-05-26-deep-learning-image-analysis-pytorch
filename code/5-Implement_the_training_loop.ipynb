{
 "cells": [
  {
   "cell_type": "markdown",
   "id": "177db554-5724-456f-9889-e63382b7c40a",
   "metadata": {},
   "source": [
    "# **Deep learning for image analysis with Python**"
   ]
  },
  {
   "cell_type": "markdown",
   "id": "34661982-88ba-41d0-b84d-04f47dbd478b",
   "metadata": {},
   "source": [
    "#### Fernando Cervantes, Systems Analyst I, Imaging Solutions, Research IT\n",
    "#### fernando.cervantes@jax.org    (slack) @fernando.cervantes"
   ]
  },
  {
   "cell_type": "markdown",
   "id": "a6dfa69a-253b-4de8-b057-8c6fe131ffed",
   "metadata": {},
   "source": [
    "## 5 Implement the training loop"
   ]
  },
  {
   "cell_type": "markdown",
   "id": "94c55f70-f389-4082-a1d3-0e14262a5310",
   "metadata": {},
   "source": [
    "### 5.1 _Data preparation_"
   ]
  },
  {
   "cell_type": "markdown",
   "id": "635cd20f-a6fd-49ce-8570-bbfaebe4d1bd",
   "metadata": {},
   "source": [
    "Using the *torchvision* library, pull the CIFAR 100 dataset.<br>\n",
    "We'll need to transform images from this dataset from PIL Images to PyTorch tensors."
   ]
  },
  {
   "cell_type": "code",
   "execution_count": 152,
   "id": "0bd8f2f4-74b3-42a6-8cdd-02a400d5da29",
   "metadata": {},
   "outputs": [],
   "source": [
    "from torchvision.datasets import CIFAR100"
   ]
  },
  {
   "cell_type": "code",
   "execution_count": 2,
   "id": "7b1320fb-cc62-4c9e-acff-244911794b66",
   "metadata": {},
   "outputs": [],
   "source": [
    "from torchvision.transforms import ToTensor, Normalize, Compose"
   ]
  },
  {
   "cell_type": "code",
   "execution_count": 3,
   "id": "35a77686-283f-4fef-8bb2-590fb38f93fb",
   "metadata": {},
   "outputs": [],
   "source": [
    "cifar_transform_list = [\n",
    "    ToTensor(),\n",
    "]\n",
    "\n",
    "cifar_transform = Compose(cifar_transform_list)"
   ]
  },
  {
   "cell_type": "code",
   "execution_count": 4,
   "id": "d12fc47d-4600-464d-9901-7f690506eeb3",
   "metadata": {
    "tags": []
   },
   "outputs": [],
   "source": [
    "cifar_trn_dataset = CIFAR100(root='/home/cervaf/data', download=False, train=True, transform=cifar_transform)"
   ]
  },
  {
   "cell_type": "code",
   "execution_count": 5,
   "id": "e1366671-3ec5-4955-84d8-f6466151cec2",
   "metadata": {},
   "outputs": [
    {
     "data": {
      "text/plain": [
       "Dataset CIFAR100\n",
       "    Number of datapoints: 50000\n",
       "    Root location: /home/cervaf/data\n",
       "    Split: Train\n",
       "    StandardTransform\n",
       "Transform: Compose(\n",
       "               ToTensor()\n",
       "           )"
      ]
     },
     "execution_count": 5,
     "metadata": {},
     "output_type": "execute_result"
    }
   ],
   "source": [
    "cifar_trn_dataset"
   ]
  },
  {
   "cell_type": "code",
   "execution_count": 6,
   "id": "f3a76947-705c-48a1-b5c3-678411c48e2b",
   "metadata": {},
   "outputs": [],
   "source": [
    "import matplotlib.pyplot as plt"
   ]
  },
  {
   "cell_type": "markdown",
   "id": "70120a47-90be-47eb-a51c-aa30f39dd2ff",
   "metadata": {},
   "source": [
    "Plot some of the CIFAR labeled examples. Check [here](https://huggingface.co/datasets/cifar100) the labels"
   ]
  },
  {
   "cell_type": "code",
   "execution_count": 7,
   "id": "7a76a5a3-c99e-4ba1-b720-edc0e674c808",
   "metadata": {},
   "outputs": [
    {
     "name": "stdout",
     "output_type": "stream",
     "text": [
      "torch.Size([3, 32, 32])\n"
     ]
    },
    {
     "data": {
      "image/png": "[encoded data removed]",
      "text/plain": [
       "<Figure size 432x288 with 2 Axes>"
      ]
     },
     "metadata": {
      "needs_background": "light"
     },
     "output_type": "display_data"
    }
   ],
   "source": [
    "x, t = cifar_trn_dataset[10000]\n",
    "print(x.size())\n",
    "plt.imshow(x.permute(1, 2, 0))\n",
    "plt.title(t)\n",
    "plt.colorbar()\n",
    "plt.show()"
   ]
  },
  {
   "cell_type": "markdown",
   "id": "0980f188-9be7-4987-a215-3ec009fa9fbb",
   "metadata": {},
   "source": [
    "***\n",
    "### 5.2 _Network preparation_"
   ]
  },
  {
   "cell_type": "markdown",
   "id": "7d37a6a1-0696-4d3a-9642-de96f31c2d8a",
   "metadata": {},
   "source": [
    "Implement a Residual Network ([ResNet](https://arxiv.org/pdf/1512.03385.pdf))<br>\n",
    "The torchvision module from pytorch provides models that have been pre-trained with the ImageNet dataset (1.2 million images natural images for training, with 1000 different classes)<br>\n",
    "This is usefull for *transfer the learning* to other applications, or use those as *warmed-up* models, instead of random initialization of the weights.<br>\n",
    "However, the architecture is fixed to work with input images of $224\\times224$ pixels with $3$ channels (RBG), and output $1000$ classes.<br>\n",
    "For our example with the CIFAR 100 dataset, that is composed by images of $32\\times32$ pixesl in RGB, and only has $100$ classes, thre pre-trained models won't be usefull.\n"
   ]
  },
  {
   "cell_type": "code",
   "execution_count": 8,
   "id": "0aa14287-1fa4-41a4-b5f0-8699c7d3f554",
   "metadata": {},
   "outputs": [],
   "source": [
    "import torchvision.models as models"
   ]
  },
  {
   "cell_type": "code",
   "execution_count": 9,
   "id": "66b166ad-27b1-4e89-b216-856b283d720d",
   "metadata": {
    "tags": []
   },
   "outputs": [
    {
     "name": "stdout",
     "output_type": "stream",
     "text": [
      "ResNet(\n",
      "  (conv1): Conv2d(3, 64, kernel_size=(7, 7), stride=(2, 2), padding=(3, 3), bias=False)\n",
      "  (bn1): BatchNorm2d(64, eps=1e-05, momentum=0.1, affine=True, track_running_stats=True)\n",
      "  (relu): ReLU(inplace=True)\n",
      "  (maxpool): MaxPool2d(kernel_size=3, stride=2, padding=1, dilation=1, ceil_mode=False)\n",
      "  (layer1): Sequential(\n",
      "    (0): BasicBlock(\n",
      "      (conv1): Conv2d(64, 64, kernel_size=(3, 3), stride=(1, 1), padding=(1, 1), bias=False)\n",
      "      (bn1): BatchNorm2d(64, eps=1e-05, momentum=0.1, affine=True, track_running_stats=True)\n",
      "      (relu): ReLU(inplace=True)\n",
      "      (conv2): Conv2d(64, 64, kernel_size=(3, 3), stride=(1, 1), padding=(1, 1), bias=False)\n",
      "      (bn2): BatchNorm2d(64, eps=1e-05, momentum=0.1, affine=True, track_running_stats=True)\n",
      "    )\n",
      "    (1): BasicBlock(\n",
      "      (conv1): Conv2d(64, 64, kernel_size=(3, 3), stride=(1, 1), padding=(1, 1), bias=False)\n",
      "      (bn1): BatchNorm2d(64, eps=1e-05, momentum=0.1, affine=True, track_running_stats=True)\n",
      "      (relu): ReLU(inplace=True)\n",
      "      (conv2): Conv2d(64, 64, kernel_size=(3, 3), stride=(1, 1), padding=(1, 1), bias=False)\n",
      "      (bn2): BatchNorm2d(64, eps=1e-05, momentum=0.1, affine=True, track_running_stats=True)\n",
      "    )\n",
      "  )\n",
      "  (layer2): Sequential(\n",
      "    (0): BasicBlock(\n",
      "      (conv1): Conv2d(64, 128, kernel_size=(3, 3), stride=(2, 2), padding=(1, 1), bias=False)\n",
      "      (bn1): BatchNorm2d(128, eps=1e-05, momentum=0.1, affine=True, track_running_stats=True)\n",
      "      (relu): ReLU(inplace=True)\n",
      "      (conv2): Conv2d(128, 128, kernel_size=(3, 3), stride=(1, 1), padding=(1, 1), bias=False)\n",
      "      (bn2): BatchNorm2d(128, eps=1e-05, momentum=0.1, affine=True, track_running_stats=True)\n",
      "      (downsample): Sequential(\n",
      "        (0): Conv2d(64, 128, kernel_size=(1, 1), stride=(2, 2), bias=False)\n",
      "        (1): BatchNorm2d(128, eps=1e-05, momentum=0.1, affine=True, track_running_stats=True)\n",
      "      )\n",
      "    )\n",
      "    (1): BasicBlock(\n",
      "      (conv1): Conv2d(128, 128, kernel_size=(3, 3), stride=(1, 1), padding=(1, 1), bias=False)\n",
      "      (bn1): BatchNorm2d(128, eps=1e-05, momentum=0.1, affine=True, track_running_stats=True)\n",
      "      (relu): ReLU(inplace=True)\n",
      "      (conv2): Conv2d(128, 128, kernel_size=(3, 3), stride=(1, 1), padding=(1, 1), bias=False)\n",
      "      (bn2): BatchNorm2d(128, eps=1e-05, momentum=0.1, affine=True, track_running_stats=True)\n",
      "    )\n",
      "  )\n",
      "  (layer3): Sequential(\n",
      "    (0): BasicBlock(\n",
      "      (conv1): Conv2d(128, 256, kernel_size=(3, 3), stride=(2, 2), padding=(1, 1), bias=False)\n",
      "      (bn1): BatchNorm2d(256, eps=1e-05, momentum=0.1, affine=True, track_running_stats=True)\n",
      "      (relu): ReLU(inplace=True)\n",
      "      (conv2): Conv2d(256, 256, kernel_size=(3, 3), stride=(1, 1), padding=(1, 1), bias=False)\n",
      "      (bn2): BatchNorm2d(256, eps=1e-05, momentum=0.1, affine=True, track_running_stats=True)\n",
      "      (downsample): Sequential(\n",
      "        (0): Conv2d(128, 256, kernel_size=(1, 1), stride=(2, 2), bias=False)\n",
      "        (1): BatchNorm2d(256, eps=1e-05, momentum=0.1, affine=True, track_running_stats=True)\n",
      "      )\n",
      "    )\n",
      "    (1): BasicBlock(\n",
      "      (conv1): Conv2d(256, 256, kernel_size=(3, 3), stride=(1, 1), padding=(1, 1), bias=False)\n",
      "      (bn1): BatchNorm2d(256, eps=1e-05, momentum=0.1, affine=True, track_running_stats=True)\n",
      "      (relu): ReLU(inplace=True)\n",
      "      (conv2): Conv2d(256, 256, kernel_size=(3, 3), stride=(1, 1), padding=(1, 1), bias=False)\n",
      "      (bn2): BatchNorm2d(256, eps=1e-05, momentum=0.1, affine=True, track_running_stats=True)\n",
      "    )\n",
      "  )\n",
      "  (layer4): Sequential(\n",
      "    (0): BasicBlock(\n",
      "      (conv1): Conv2d(256, 512, kernel_size=(3, 3), stride=(2, 2), padding=(1, 1), bias=False)\n",
      "      (bn1): BatchNorm2d(512, eps=1e-05, momentum=0.1, affine=True, track_running_stats=True)\n",
      "      (relu): ReLU(inplace=True)\n",
      "      (conv2): Conv2d(512, 512, kernel_size=(3, 3), stride=(1, 1), padding=(1, 1), bias=False)\n",
      "      (bn2): BatchNorm2d(512, eps=1e-05, momentum=0.1, affine=True, track_running_stats=True)\n",
      "      (downsample): Sequential(\n",
      "        (0): Conv2d(256, 512, kernel_size=(1, 1), stride=(2, 2), bias=False)\n",
      "        (1): BatchNorm2d(512, eps=1e-05, momentum=0.1, affine=True, track_running_stats=True)\n",
      "      )\n",
      "    )\n",
      "    (1): BasicBlock(\n",
      "      (conv1): Conv2d(512, 512, kernel_size=(3, 3), stride=(1, 1), padding=(1, 1), bias=False)\n",
      "      (bn1): BatchNorm2d(512, eps=1e-05, momentum=0.1, affine=True, track_running_stats=True)\n",
      "      (relu): ReLU(inplace=True)\n",
      "      (conv2): Conv2d(512, 512, kernel_size=(3, 3), stride=(1, 1), padding=(1, 1), bias=False)\n",
      "      (bn2): BatchNorm2d(512, eps=1e-05, momentum=0.1, affine=True, track_running_stats=True)\n",
      "    )\n",
      "  )\n",
      "  (avgpool): AdaptiveAvgPool2d(output_size=(1, 1))\n",
      "  (fc): Linear(in_features=512, out_features=1000, bias=True)\n",
      ")\n"
     ]
    }
   ],
   "source": [
    "print(models.resnet18())"
   ]
  },
  {
   "cell_type": "code",
   "execution_count": 10,
   "id": "21b8747a-1383-484c-9e0f-f24ad83b1134",
   "metadata": {},
   "outputs": [],
   "source": [
    "import torch\n",
    "import torch.nn as nn"
   ]
  },
  {
   "cell_type": "markdown",
   "id": "7315c626-cbff-4441-a675-ee64fc3bd50b",
   "metadata": {},
   "source": [
    "Lets implement the residual block of the ResNet as a custom pytorch Module"
   ]
  },
  {
   "cell_type": "code",
   "execution_count": 11,
   "id": "98681c16-65b9-4218-b155-70fc13d1ca05",
   "metadata": {},
   "outputs": [],
   "source": [
    "class ResNetBlock(nn.Module):\n",
    "    def __init__(self, in_channels, out_channels, downsample=False):\n",
    "        super(ResNetBlock, self).__init__()\n",
    "        \n",
    "        if downsample:\n",
    "            self.conv_1 = nn.Conv2d(in_channels=in_channels, out_channels=out_channels, kernel_size=3, stride=2, padding=1, bias=False)\n",
    "            self.downsample = nn.Conv2d(in_channels=in_channels, out_channels=out_channels, kernel_size=1, stride=2, padding=0, bias=False)\n",
    "        else:\n",
    "            self.conv_1 = nn.Conv2d(in_channels=in_channels, out_channels=out_channels, kernel_size=3, stride=1, padding=1, bias=False)\n",
    "            self.downsample = nn.Identity()\n",
    "        \n",
    "        self.bn1 = nn.BatchNorm2d(num_features=out_channels)\n",
    "        \n",
    "        self.conv_2 = nn.Conv2d(in_channels=out_channels, out_channels=out_channels, kernel_size=3, stride=1, padding=1, bias=False)        \n",
    "        self.bn2 = nn.BatchNorm2d(num_features=out_channels)\n",
    "        \n",
    "        self.relu = nn.ReLU()\n",
    "    \n",
    "    def forward(self, x):\n",
    "        identity = self.downsample(x)\n",
    "        \n",
    "        fx = self.relu(self.conv_1(x))\n",
    "        fx = self.bn1(fx)\n",
    "        \n",
    "        fx = self.conv_2(fx)\n",
    "        fx = self.bn2(fx)\n",
    "\n",
    "        fx = self.relu(fx + identity)\n",
    "        \n",
    "        return fx"
   ]
  },
  {
   "cell_type": "code",
   "execution_count": 72,
   "id": "7207aa5d-6a70-4953-aa0f-54b3657f25f7",
   "metadata": {},
   "outputs": [],
   "source": [
    "class ResNet(nn.Module):\n",
    "    def __init__(self, in_channels, num_classes):\n",
    "        super(ResNet, self).__init__()\n",
    "        \n",
    "        # Input 32x32x3\n",
    "        \n",
    "        self.embedding = nn.Conv2d(in_channels=in_channels, out_channels=64, kernel_size=3, stride=1, padding=1, bias=False)\n",
    "        self.bn = nn.BatchNorm2d(num_features=64) \n",
    "        self.relu = nn.ReLU()\n",
    "        # Output is 32x32x64\n",
    "        \n",
    "        self.block_1_1 = ResNetBlock(in_channels=64, out_channels=64, downsample=True)\n",
    "        # Output is 16x16x64\n",
    "        self.block_1_2 = ResNetBlock(in_channels=64, out_channels=64, downsample=False)\n",
    "        # Output is 16x16x64\n",
    "        \n",
    "        self.block_2_1 = ResNetBlock(in_channels=64, out_channels=128, downsample=True)\n",
    "        # Output is 8x8x128\n",
    "        self.block_2_2 = ResNetBlock(in_channels=128, out_channels=128, downsample=False)\n",
    "        # Output is 8x8x128\n",
    "            \n",
    "        self.block_3_1 = ResNetBlock(in_channels=128, out_channels=256, downsample=True)\n",
    "        # Output is 4x4x256\n",
    "        self.block_3_2 = ResNetBlock(in_channels=256, out_channels=256, downsample=False)\n",
    "        # Output is 4x4x256\n",
    "        \n",
    "        self.block_4_1 = ResNetBlock(in_channels=256, out_channels=512, downsample=True)\n",
    "        # Output is 2x2x512\n",
    "        self.block_4_2 = ResNetBlock(in_channels=512, out_channels=512, downsample=False)\n",
    "        # Output is 2x2x512\n",
    "        \n",
    "        self.avg_pool = nn.AvgPool2d(kernel_size=2, stride=2)\n",
    "        # Output is 1x1x512\n",
    "        \n",
    "        self.fc = nn.Linear(in_features=512, out_features=num_classes, bias=True)\n",
    "        # output is 1xnum_classes\n",
    "        \n",
    "    def forward(self, x):\n",
    "        fx = self.bn(self.relu(self.embedding(x)))\n",
    "        \n",
    "        fx = self.block_1_1(fx)\n",
    "        fx = self.block_1_2(fx)\n",
    "        \n",
    "        fx = self.block_2_1(fx)\n",
    "        fx = self.block_2_2(fx)\n",
    "        \n",
    "        fx = self.block_3_1(fx)\n",
    "        fx = self.block_3_2(fx)\n",
    "        \n",
    "        fx = self.block_4_1(fx)\n",
    "        fx = self.block_4_2(fx)\n",
    "        \n",
    "        fx = self.avg_pool(fx)\n",
    "        \n",
    "        logits = self.fc(fx.view(-1, 512))\n",
    "        \n",
    "        return logits"
   ]
  },
  {
   "cell_type": "markdown",
   "id": "902c2359-6936-4c6e-8bb2-8990285bb88c",
   "metadata": {},
   "source": [
    "Alternatively, we can define the layers of our network using the Sequential function to reduce the code in the forward pass"
   ]
  },
  {
   "cell_type": "code",
   "execution_count": 73,
   "id": "98b8b7d8-069d-4088-82bc-bfa43f176e63",
   "metadata": {
    "tags": []
   },
   "outputs": [],
   "source": [
    "class ResNet(nn.Module):\n",
    "    def __init__(self, in_channels, num_classes):\n",
    "        super(ResNet, self).__init__()\n",
    "        \n",
    "        self.embedding = nn.Conv2d(in_channels=in_channels, out_channels=64, kernel_size=3, stride=1, padding=1, bias=False)\n",
    "        self.bn = nn.BatchNorm2d(num_features=64) \n",
    "        self.relu = nn.ReLU()\n",
    "        # Output is 32x32x64\n",
    "        \n",
    "        self.layer_1 = nn.Sequential(\n",
    "            ResNetBlock(in_channels=64, out_channels=64, downsample=True),\n",
    "            ResNetBlock(in_channels=64, out_channels=64, downsample=False)\n",
    "        )\n",
    "        # Output is 16x16x64\n",
    "        \n",
    "        self.layer_2 = nn.Sequential(\n",
    "            ResNetBlock(in_channels=64, out_channels=128, downsample=True),\n",
    "            ResNetBlock(in_channels=128, out_channels=128, downsample=False)\n",
    "        )\n",
    "        # Output is 8x8x128\n",
    "            \n",
    "        self.layer_3 = nn.Sequential(\n",
    "            ResNetBlock(in_channels=128, out_channels=256, downsample=True),\n",
    "            ResNetBlock(in_channels=256, out_channels=256, downsample=False)\n",
    "        )\n",
    "        # Output is 4x4x256\n",
    "        \n",
    "        self.layer_4 = nn.Sequential(\n",
    "            ResNetBlock(in_channels=256, out_channels=512, downsample=True),\n",
    "            ResNetBlock(in_channels=512, out_channels=512, downsample=False)\n",
    "        )\n",
    "        # Output is 2x2x512\n",
    "        \n",
    "        self.avg_pool = nn.AvgPool2d(kernel_size=2, stride=2)\n",
    "        # Output is 1x1x512\n",
    "        \n",
    "        self.fc = nn.Linear(in_features=512, out_features=num_classes, bias=True)\n",
    "        # output is 1xnum_classes\n",
    "        \n",
    "    def forward(self, x):\n",
    "        fx = self.bn(self.relu(self.embedding(x)))\n",
    "        \n",
    "        fx = self.layer_1(fx)\n",
    "        \n",
    "        fx = self.layer_2(fx)\n",
    "        \n",
    "        fx = self.layer_3(fx)\n",
    "        \n",
    "        fx = self.layer_4(fx)\n",
    "        \n",
    "        fx = self.avg_pool(fx)\n",
    "        \n",
    "        logits = self.fc(fx.view(-1, 512))\n",
    "        \n",
    "        return logits        "
   ]
  },
  {
   "cell_type": "markdown",
   "id": "b375085a-01dd-4f74-928d-9416babf96d9",
   "metadata": {},
   "source": [
    "Or even have all layers as a single operation"
   ]
  },
  {
   "cell_type": "code",
   "execution_count": 74,
   "id": "89137644-aa5b-4ada-b9f7-608f7a4a712c",
   "metadata": {
    "tags": []
   },
   "outputs": [],
   "source": [
    "class ResNet(nn.Module):\n",
    "    def __init__(self, in_channels, num_classes):\n",
    "        super(ResNet, self).__init__()\n",
    "        \n",
    "        self.embedding = nn.Conv2d(in_channels=in_channels, out_channels=64, kernel_size=3, stride=1, padding=1, bias=False)        \n",
    "        self.bn = nn.BatchNorm2d(num_features=64) \n",
    "        self.relu = nn.ReLU()\n",
    "        # Output is 32x32x64\n",
    "        \n",
    "        self.layers = nn.Sequential(\n",
    "            ResNetBlock(in_channels=64, out_channels=64, downsample=True),\n",
    "            ResNetBlock(in_channels=64, out_channels=64, downsample=False),\n",
    "            ResNetBlock(in_channels=64, out_channels=128, downsample=True),\n",
    "            ResNetBlock(in_channels=128, out_channels=128, downsample=False),\n",
    "            ResNetBlock(in_channels=128, out_channels=256, downsample=True),\n",
    "            ResNetBlock(in_channels=256, out_channels=256, downsample=False),\n",
    "            ResNetBlock(in_channels=256, out_channels=512, downsample=True),\n",
    "            ResNetBlock(in_channels=512, out_channels=512, downsample=False)\n",
    "        )\n",
    "        # Output is 2x2x512\n",
    "        \n",
    "        self.avg_pool = nn.AvgPool2d(kernel_size=2, stride=2)\n",
    "        # Output is 1x1x512\n",
    "        \n",
    "        self.fc = nn.Linear(in_features=512, out_features=num_classes, bias=True)\n",
    "        # output is 1xnum_classes\n",
    "        \n",
    "    def forward(self, x):\n",
    "        fx = self.bn(self.relu(self.embedding(x)))\n",
    "        \n",
    "        fx = self.layers(fx)\n",
    "        \n",
    "        fx = self.avg_pool(fx)\n",
    "        \n",
    "        logits = self.fc(fx.view(-1, 512))\n",
    "        \n",
    "        return logits        "
   ]
  },
  {
   "cell_type": "code",
   "execution_count": 75,
   "id": "6c452b4f-47d9-47c1-877a-1f7361118ce0",
   "metadata": {},
   "outputs": [
    {
     "name": "stdout",
     "output_type": "stream",
     "text": [
      "ResNet(\n",
      "  (embedding): Conv2d(3, 64, kernel_size=(3, 3), stride=(1, 1), padding=(1, 1), bias=False)\n",
      "  (bn): BatchNorm2d(64, eps=1e-05, momentum=0.1, affine=True, track_running_stats=True)\n",
      "  (relu): ReLU()\n",
      "  (layers): Sequential(\n",
      "    (0): ResNetBlock(\n",
      "      (conv_1): Conv2d(64, 64, kernel_size=(3, 3), stride=(2, 2), padding=(1, 1), bias=False)\n",
      "      (downsample): Conv2d(64, 64, kernel_size=(1, 1), stride=(2, 2), bias=False)\n",
      "      (bn1): BatchNorm2d(64, eps=1e-05, momentum=0.1, affine=True, track_running_stats=True)\n",
      "      (conv_2): Conv2d(64, 64, kernel_size=(3, 3), stride=(1, 1), padding=(1, 1), bias=False)\n",
      "      (bn2): BatchNorm2d(64, eps=1e-05, momentum=0.1, affine=True, track_running_stats=True)\n",
      "      (relu): ReLU()\n",
      "    )\n",
      "    (1): ResNetBlock(\n",
      "      (conv_1): Conv2d(64, 64, kernel_size=(3, 3), stride=(1, 1), padding=(1, 1), bias=False)\n",
      "      (downsample): Identity()\n",
      "      (bn1): BatchNorm2d(64, eps=1e-05, momentum=0.1, affine=True, track_running_stats=True)\n",
      "      (conv_2): Conv2d(64, 64, kernel_size=(3, 3), stride=(1, 1), padding=(1, 1), bias=False)\n",
      "      (bn2): BatchNorm2d(64, eps=1e-05, momentum=0.1, affine=True, track_running_stats=True)\n",
      "      (relu): ReLU()\n",
      "    )\n",
      "    (2): ResNetBlock(\n",
      "      (conv_1): Conv2d(64, 128, kernel_size=(3, 3), stride=(2, 2), padding=(1, 1), bias=False)\n",
      "      (downsample): Conv2d(64, 128, kernel_size=(1, 1), stride=(2, 2), bias=False)\n",
      "      (bn1): BatchNorm2d(128, eps=1e-05, momentum=0.1, affine=True, track_running_stats=True)\n",
      "      (conv_2): Conv2d(128, 128, kernel_size=(3, 3), stride=(1, 1), padding=(1, 1), bias=False)\n",
      "      (bn2): BatchNorm2d(128, eps=1e-05, momentum=0.1, affine=True, track_running_stats=True)\n",
      "      (relu): ReLU()\n",
      "    )\n",
      "    (3): ResNetBlock(\n",
      "      (conv_1): Conv2d(128, 128, kernel_size=(3, 3), stride=(1, 1), padding=(1, 1), bias=False)\n",
      "      (downsample): Identity()\n",
      "      (bn1): BatchNorm2d(128, eps=1e-05, momentum=0.1, affine=True, track_running_stats=True)\n",
      "      (conv_2): Conv2d(128, 128, kernel_size=(3, 3), stride=(1, 1), padding=(1, 1), bias=False)\n",
      "      (bn2): BatchNorm2d(128, eps=1e-05, momentum=0.1, affine=True, track_running_stats=True)\n",
      "      (relu): ReLU()\n",
      "    )\n",
      "    (4): ResNetBlock(\n",
      "      (conv_1): Conv2d(128, 256, kernel_size=(3, 3), stride=(2, 2), padding=(1, 1), bias=False)\n",
      "      (downsample): Conv2d(128, 256, kernel_size=(1, 1), stride=(2, 2), bias=False)\n",
      "      (bn1): BatchNorm2d(256, eps=1e-05, momentum=0.1, affine=True, track_running_stats=True)\n",
      "      (conv_2): Conv2d(256, 256, kernel_size=(3, 3), stride=(1, 1), padding=(1, 1), bias=False)\n",
      "      (bn2): BatchNorm2d(256, eps=1e-05, momentum=0.1, affine=True, track_running_stats=True)\n",
      "      (relu): ReLU()\n",
      "    )\n",
      "    (5): ResNetBlock(\n",
      "      (conv_1): Conv2d(256, 256, kernel_size=(3, 3), stride=(1, 1), padding=(1, 1), bias=False)\n",
      "      (downsample): Identity()\n",
      "      (bn1): BatchNorm2d(256, eps=1e-05, momentum=0.1, affine=True, track_running_stats=True)\n",
      "      (conv_2): Conv2d(256, 256, kernel_size=(3, 3), stride=(1, 1), padding=(1, 1), bias=False)\n",
      "      (bn2): BatchNorm2d(256, eps=1e-05, momentum=0.1, affine=True, track_running_stats=True)\n",
      "      (relu): ReLU()\n",
      "    )\n",
      "    (6): ResNetBlock(\n",
      "      (conv_1): Conv2d(256, 512, kernel_size=(3, 3), stride=(2, 2), padding=(1, 1), bias=False)\n",
      "      (downsample): Conv2d(256, 512, kernel_size=(1, 1), stride=(2, 2), bias=False)\n",
      "      (bn1): BatchNorm2d(512, eps=1e-05, momentum=0.1, affine=True, track_running_stats=True)\n",
      "      (conv_2): Conv2d(512, 512, kernel_size=(3, 3), stride=(1, 1), padding=(1, 1), bias=False)\n",
      "      (bn2): BatchNorm2d(512, eps=1e-05, momentum=0.1, affine=True, track_running_stats=True)\n",
      "      (relu): ReLU()\n",
      "    )\n",
      "    (7): ResNetBlock(\n",
      "      (conv_1): Conv2d(512, 512, kernel_size=(3, 3), stride=(1, 1), padding=(1, 1), bias=False)\n",
      "      (downsample): Identity()\n",
      "      (bn1): BatchNorm2d(512, eps=1e-05, momentum=0.1, affine=True, track_running_stats=True)\n",
      "      (conv_2): Conv2d(512, 512, kernel_size=(3, 3), stride=(1, 1), padding=(1, 1), bias=False)\n",
      "      (bn2): BatchNorm2d(512, eps=1e-05, momentum=0.1, affine=True, track_running_stats=True)\n",
      "      (relu): ReLU()\n",
      "    )\n",
      "  )\n",
      "  (avg_pool): AvgPool2d(kernel_size=2, stride=2, padding=0)\n",
      "  (fc): Linear(in_features=512, out_features=100, bias=True)\n",
      ")\n"
     ]
    }
   ],
   "source": [
    "net = ResNet(in_channels=3, num_classes=100)\n",
    "print(net)"
   ]
  },
  {
   "cell_type": "markdown",
   "id": "f1b03364-f644-47c8-91f2-43bbb615934d",
   "metadata": {},
   "source": [
    "***\n",
    "Test our ResNet implementation"
   ]
  },
  {
   "cell_type": "code",
   "execution_count": 76,
   "id": "4f6ce55f-09d5-4222-b72e-4382524d2710",
   "metadata": {},
   "outputs": [
    {
     "name": "stdout",
     "output_type": "stream",
     "text": [
      "torch.Size([3, 32, 32])\n"
     ]
    }
   ],
   "source": [
    "x, t = cifar_trn_dataset[1]\n",
    "print(x.size())"
   ]
  },
  {
   "cell_type": "code",
   "execution_count": 77,
   "id": "9939e82a-938f-4735-807e-7f6f8a494bb8",
   "metadata": {
    "tags": []
   },
   "outputs": [
    {
     "ename": "RuntimeError",
     "evalue": "Expected 4-dimensional input for 4-dimensional weight [64, 3, 3, 3], but got 3-dimensional input of size [3, 32, 32] instead",
     "output_type": "error",
     "traceback": [
      "\u001b[0;31m---------------------------------------------------------------------------\u001b[0m",
      "\u001b[0;31mRuntimeError\u001b[0m                              Traceback (most recent call last)",
      "Input \u001b[0;32mIn [77]\u001b[0m, in \u001b[0;36m<cell line: 2>\u001b[0;34m()\u001b[0m\n\u001b[1;32m      1\u001b[0m \u001b[38;5;66;03m# This will fail because the size of x is not what is expected by net\u001b[39;00m\n\u001b[0;32m----> 2\u001b[0m y \u001b[38;5;241m=\u001b[39m \u001b[43mnet\u001b[49m\u001b[43m(\u001b[49m\u001b[43mx\u001b[49m\u001b[43m)\u001b[49m\n",
      "File \u001b[0;32m/usr/local/lib/python3.9/dist-packages/torch/nn/modules/module.py:1102\u001b[0m, in \u001b[0;36mModule._call_impl\u001b[0;34m(self, *input, **kwargs)\u001b[0m\n\u001b[1;32m   1098\u001b[0m \u001b[38;5;66;03m# If we don't have any hooks, we want to skip the rest of the logic in\u001b[39;00m\n\u001b[1;32m   1099\u001b[0m \u001b[38;5;66;03m# this function, and just call forward.\u001b[39;00m\n\u001b[1;32m   1100\u001b[0m \u001b[38;5;28;01mif\u001b[39;00m \u001b[38;5;129;01mnot\u001b[39;00m (\u001b[38;5;28mself\u001b[39m\u001b[38;5;241m.\u001b[39m_backward_hooks \u001b[38;5;129;01mor\u001b[39;00m \u001b[38;5;28mself\u001b[39m\u001b[38;5;241m.\u001b[39m_forward_hooks \u001b[38;5;129;01mor\u001b[39;00m \u001b[38;5;28mself\u001b[39m\u001b[38;5;241m.\u001b[39m_forward_pre_hooks \u001b[38;5;129;01mor\u001b[39;00m _global_backward_hooks\n\u001b[1;32m   1101\u001b[0m         \u001b[38;5;129;01mor\u001b[39;00m _global_forward_hooks \u001b[38;5;129;01mor\u001b[39;00m _global_forward_pre_hooks):\n\u001b[0;32m-> 1102\u001b[0m     \u001b[38;5;28;01mreturn\u001b[39;00m \u001b[43mforward_call\u001b[49m\u001b[43m(\u001b[49m\u001b[38;5;241;43m*\u001b[39;49m\u001b[38;5;28;43minput\u001b[39;49m\u001b[43m,\u001b[49m\u001b[43m \u001b[49m\u001b[38;5;241;43m*\u001b[39;49m\u001b[38;5;241;43m*\u001b[39;49m\u001b[43mkwargs\u001b[49m\u001b[43m)\u001b[49m\n\u001b[1;32m   1103\u001b[0m \u001b[38;5;66;03m# Do not call functions when jit is used\u001b[39;00m\n\u001b[1;32m   1104\u001b[0m full_backward_hooks, non_full_backward_hooks \u001b[38;5;241m=\u001b[39m [], []\n",
      "Input \u001b[0;32mIn [74]\u001b[0m, in \u001b[0;36mResNet.forward\u001b[0;34m(self, x)\u001b[0m\n\u001b[1;32m     28\u001b[0m \u001b[38;5;28;01mdef\u001b[39;00m \u001b[38;5;21mforward\u001b[39m(\u001b[38;5;28mself\u001b[39m, x):\n\u001b[0;32m---> 29\u001b[0m     fx \u001b[38;5;241m=\u001b[39m \u001b[38;5;28mself\u001b[39m\u001b[38;5;241m.\u001b[39mbn(\u001b[38;5;28mself\u001b[39m\u001b[38;5;241m.\u001b[39mrelu(\u001b[38;5;28;43mself\u001b[39;49m\u001b[38;5;241;43m.\u001b[39;49m\u001b[43membedding\u001b[49m\u001b[43m(\u001b[49m\u001b[43mx\u001b[49m\u001b[43m)\u001b[49m))\n\u001b[1;32m     31\u001b[0m     fx \u001b[38;5;241m=\u001b[39m \u001b[38;5;28mself\u001b[39m\u001b[38;5;241m.\u001b[39mlayers(fx)\n\u001b[1;32m     33\u001b[0m     fx \u001b[38;5;241m=\u001b[39m \u001b[38;5;28mself\u001b[39m\u001b[38;5;241m.\u001b[39mavg_pool(fx)\n",
      "File \u001b[0;32m/usr/local/lib/python3.9/dist-packages/torch/nn/modules/module.py:1102\u001b[0m, in \u001b[0;36mModule._call_impl\u001b[0;34m(self, *input, **kwargs)\u001b[0m\n\u001b[1;32m   1098\u001b[0m \u001b[38;5;66;03m# If we don't have any hooks, we want to skip the rest of the logic in\u001b[39;00m\n\u001b[1;32m   1099\u001b[0m \u001b[38;5;66;03m# this function, and just call forward.\u001b[39;00m\n\u001b[1;32m   1100\u001b[0m \u001b[38;5;28;01mif\u001b[39;00m \u001b[38;5;129;01mnot\u001b[39;00m (\u001b[38;5;28mself\u001b[39m\u001b[38;5;241m.\u001b[39m_backward_hooks \u001b[38;5;129;01mor\u001b[39;00m \u001b[38;5;28mself\u001b[39m\u001b[38;5;241m.\u001b[39m_forward_hooks \u001b[38;5;129;01mor\u001b[39;00m \u001b[38;5;28mself\u001b[39m\u001b[38;5;241m.\u001b[39m_forward_pre_hooks \u001b[38;5;129;01mor\u001b[39;00m _global_backward_hooks\n\u001b[1;32m   1101\u001b[0m         \u001b[38;5;129;01mor\u001b[39;00m _global_forward_hooks \u001b[38;5;129;01mor\u001b[39;00m _global_forward_pre_hooks):\n\u001b[0;32m-> 1102\u001b[0m     \u001b[38;5;28;01mreturn\u001b[39;00m \u001b[43mforward_call\u001b[49m\u001b[43m(\u001b[49m\u001b[38;5;241;43m*\u001b[39;49m\u001b[38;5;28;43minput\u001b[39;49m\u001b[43m,\u001b[49m\u001b[43m \u001b[49m\u001b[38;5;241;43m*\u001b[39;49m\u001b[38;5;241;43m*\u001b[39;49m\u001b[43mkwargs\u001b[49m\u001b[43m)\u001b[49m\n\u001b[1;32m   1103\u001b[0m \u001b[38;5;66;03m# Do not call functions when jit is used\u001b[39;00m\n\u001b[1;32m   1104\u001b[0m full_backward_hooks, non_full_backward_hooks \u001b[38;5;241m=\u001b[39m [], []\n",
      "File \u001b[0;32m/usr/local/lib/python3.9/dist-packages/torch/nn/modules/conv.py:446\u001b[0m, in \u001b[0;36mConv2d.forward\u001b[0;34m(self, input)\u001b[0m\n\u001b[1;32m    445\u001b[0m \u001b[38;5;28;01mdef\u001b[39;00m \u001b[38;5;21mforward\u001b[39m(\u001b[38;5;28mself\u001b[39m, \u001b[38;5;28minput\u001b[39m: Tensor) \u001b[38;5;241m-\u001b[39m\u001b[38;5;241m>\u001b[39m Tensor:\n\u001b[0;32m--> 446\u001b[0m     \u001b[38;5;28;01mreturn\u001b[39;00m \u001b[38;5;28;43mself\u001b[39;49m\u001b[38;5;241;43m.\u001b[39;49m\u001b[43m_conv_forward\u001b[49m\u001b[43m(\u001b[49m\u001b[38;5;28;43minput\u001b[39;49m\u001b[43m,\u001b[49m\u001b[43m \u001b[49m\u001b[38;5;28;43mself\u001b[39;49m\u001b[38;5;241;43m.\u001b[39;49m\u001b[43mweight\u001b[49m\u001b[43m,\u001b[49m\u001b[43m \u001b[49m\u001b[38;5;28;43mself\u001b[39;49m\u001b[38;5;241;43m.\u001b[39;49m\u001b[43mbias\u001b[49m\u001b[43m)\u001b[49m\n",
      "File \u001b[0;32m/usr/local/lib/python3.9/dist-packages/torch/nn/modules/conv.py:442\u001b[0m, in \u001b[0;36mConv2d._conv_forward\u001b[0;34m(self, input, weight, bias)\u001b[0m\n\u001b[1;32m    438\u001b[0m \u001b[38;5;28;01mif\u001b[39;00m \u001b[38;5;28mself\u001b[39m\u001b[38;5;241m.\u001b[39mpadding_mode \u001b[38;5;241m!=\u001b[39m \u001b[38;5;124m'\u001b[39m\u001b[38;5;124mzeros\u001b[39m\u001b[38;5;124m'\u001b[39m:\n\u001b[1;32m    439\u001b[0m     \u001b[38;5;28;01mreturn\u001b[39;00m F\u001b[38;5;241m.\u001b[39mconv2d(F\u001b[38;5;241m.\u001b[39mpad(\u001b[38;5;28minput\u001b[39m, \u001b[38;5;28mself\u001b[39m\u001b[38;5;241m.\u001b[39m_reversed_padding_repeated_twice, mode\u001b[38;5;241m=\u001b[39m\u001b[38;5;28mself\u001b[39m\u001b[38;5;241m.\u001b[39mpadding_mode),\n\u001b[1;32m    440\u001b[0m                     weight, bias, \u001b[38;5;28mself\u001b[39m\u001b[38;5;241m.\u001b[39mstride,\n\u001b[1;32m    441\u001b[0m                     _pair(\u001b[38;5;241m0\u001b[39m), \u001b[38;5;28mself\u001b[39m\u001b[38;5;241m.\u001b[39mdilation, \u001b[38;5;28mself\u001b[39m\u001b[38;5;241m.\u001b[39mgroups)\n\u001b[0;32m--> 442\u001b[0m \u001b[38;5;28;01mreturn\u001b[39;00m \u001b[43mF\u001b[49m\u001b[38;5;241;43m.\u001b[39;49m\u001b[43mconv2d\u001b[49m\u001b[43m(\u001b[49m\u001b[38;5;28;43minput\u001b[39;49m\u001b[43m,\u001b[49m\u001b[43m \u001b[49m\u001b[43mweight\u001b[49m\u001b[43m,\u001b[49m\u001b[43m \u001b[49m\u001b[43mbias\u001b[49m\u001b[43m,\u001b[49m\u001b[43m \u001b[49m\u001b[38;5;28;43mself\u001b[39;49m\u001b[38;5;241;43m.\u001b[39;49m\u001b[43mstride\u001b[49m\u001b[43m,\u001b[49m\n\u001b[1;32m    443\u001b[0m \u001b[43m                \u001b[49m\u001b[38;5;28;43mself\u001b[39;49m\u001b[38;5;241;43m.\u001b[39;49m\u001b[43mpadding\u001b[49m\u001b[43m,\u001b[49m\u001b[43m \u001b[49m\u001b[38;5;28;43mself\u001b[39;49m\u001b[38;5;241;43m.\u001b[39;49m\u001b[43mdilation\u001b[49m\u001b[43m,\u001b[49m\u001b[43m \u001b[49m\u001b[38;5;28;43mself\u001b[39;49m\u001b[38;5;241;43m.\u001b[39;49m\u001b[43mgroups\u001b[49m\u001b[43m)\u001b[49m\n",
      "\u001b[0;31mRuntimeError\u001b[0m: Expected 4-dimensional input for 4-dimensional weight [64, 3, 3, 3], but got 3-dimensional input of size [3, 32, 32] instead"
     ]
    }
   ],
   "source": [
    "# This will fail because the size of x is not what is expected by net\n",
    "y = net(x)"
   ]
  },
  {
   "cell_type": "code",
   "execution_count": 79,
   "id": "6e5f5d60-95f6-4a07-8d41-d9824fc8d983",
   "metadata": {},
   "outputs": [
    {
     "name": "stdout",
     "output_type": "stream",
     "text": [
      "torch.Size([1, 100])\n",
      "tensor([1.1885], grad_fn=<SumBackward1>)\n",
      "tensor([[ 0.7682, -0.9198, -0.4656, -0.3155, -0.0148,  0.2102,  0.0134,  0.1363,\n",
      "         -0.1538, -0.2796,  0.3549, -0.4964,  0.1597,  0.4472, -0.6782, -0.6241,\n",
      "         -0.6091,  0.5730, -0.2939,  0.2387, -0.2310, -0.5138, -0.7074, -0.5439,\n",
      "         -0.9275, -0.2792,  0.5270, -0.0719,  0.8597, -0.8239, -0.2392,  0.6188,\n",
      "          0.0203,  0.3874,  0.1777,  0.2709,  0.3435,  0.0477,  0.5461, -1.4005,\n",
      "         -0.5754,  0.0962, -0.1667,  1.0541,  0.0373, -0.3617,  0.1829, -0.6936,\n",
      "          0.7303,  0.5240, -0.6582,  1.0047,  0.1160, -0.0509, -0.4605,  0.0807,\n",
      "          0.3868,  0.0814,  0.2990, -0.2222,  0.3234,  0.7954,  0.2371, -1.0289,\n",
      "         -0.3986,  0.5613,  0.3617,  0.8207,  0.3197,  0.8696,  0.2645, -0.2022,\n",
      "         -0.3575, -0.3321, -0.4513,  0.1940,  0.3550, -0.2696,  0.6424, -0.1760,\n",
      "         -0.2067,  0.0916, -1.3552,  0.5074,  0.9258,  0.1812, -0.8788, -0.1726,\n",
      "          0.6985,  0.0292, -0.2175, -0.3770,  1.6073,  0.0588,  0.4423, -0.6790,\n",
      "          0.4163,  0.0703,  0.4994, -0.4974]], grad_fn=<AddmmBackward0>)\n"
     ]
    }
   ],
   "source": [
    "# But after viewing x as a batch with a single example, we can fed it to the network\n",
    "y = net(x.view(1, 3, 32, 32))\n",
    "\n",
    "print(y.size())\n",
    "print(y.sum(dim=1))\n",
    "print(y)"
   ]
  },
  {
   "cell_type": "markdown",
   "id": "5e655b22-236f-475c-92b5-655f157c6b6c",
   "metadata": {},
   "source": [
    "***\n",
    "### 5.3 _Definition of the optimization problem_"
   ]
  },
  {
   "cell_type": "markdown",
   "id": "5ad9b73f-fed1-4a8a-a376-e5817ccad8a4",
   "metadata": {},
   "source": [
    "Define the loss function.<br>\n",
    "For this classification problem we can use the CrossEntropyLoss function from PyTorch.<br>\n",
    "The default behavior of calling this function is to compute the cross-entropy loss between the probability predicted by our network, and the index of the real class."
   ]
  },
  {
   "cell_type": "code",
   "execution_count": 80,
   "id": "2dc7a4da-6c87-4933-a182-cc26085a592d",
   "metadata": {},
   "outputs": [],
   "source": [
    "criterion = nn.CrossEntropyLoss()"
   ]
  },
  {
   "cell_type": "code",
   "execution_count": 81,
   "id": "5bd02624-f07b-4a47-bbe7-827d514b4e39",
   "metadata": {},
   "outputs": [
    {
     "data": {
      "text/plain": [
       "tensor(5.5880, grad_fn=<NllLossBackward0>)"
      ]
     },
     "execution_count": 81,
     "metadata": {},
     "output_type": "execute_result"
    }
   ],
   "source": [
    "# Convert the target t to a tensor, because it is a single integer\n",
    "loss = criterion(y, torch.tensor([t]))\n",
    "loss"
   ]
  },
  {
   "cell_type": "markdown",
   "id": "cd9dda2e-ebae-40a6-b6bd-fe69c79651e4",
   "metadata": {},
   "source": [
    "***\n",
    "Define our optimizer."
   ]
  },
  {
   "cell_type": "code",
   "execution_count": 82,
   "id": "3baaa1f1-0ab2-40ee-b9f8-dba1f16a37c1",
   "metadata": {},
   "outputs": [],
   "source": [
    "import torch.optim as optim"
   ]
  },
  {
   "cell_type": "code",
   "execution_count": 83,
   "id": "e1748691-7456-44a5-b293-7997b2b24478",
   "metadata": {},
   "outputs": [],
   "source": [
    "optimizer = optim.Adam(\n",
    "    params=net.parameters(),\n",
    "    lr=1e-4\n",
    ")"
   ]
  },
  {
   "cell_type": "markdown",
   "id": "adb6e5d8-d48a-4825-8a15-eb08e34a3d77",
   "metadata": {},
   "source": [
    "Test our optimizer"
   ]
  },
  {
   "cell_type": "code",
   "execution_count": 84,
   "id": "4e6d7e80-236c-43d5-8da7-8d492dee0d92",
   "metadata": {},
   "outputs": [],
   "source": [
    "optimizer.zero_grad() # Clean the gradient accumulator\n",
    "\n",
    "x, t = cifar_trn_dataset[1]\n",
    "\n",
    "y = net(x.view(1, 3, 32, 32))\n",
    "loss = criterion(y, torch.tensor([t]))\n",
    "\n",
    "loss.backward()\n",
    "\n",
    "optimizer.step() # In this command, the parameters of the network are updated"
   ]
  },
  {
   "cell_type": "code",
   "execution_count": 85,
   "id": "dc8868ae-cf1f-43d9-9a4e-3184b352186b",
   "metadata": {},
   "outputs": [
    {
     "name": "stdout",
     "output_type": "stream",
     "text": [
      "Loss before one step of optimization 5.58801746\n"
     ]
    }
   ],
   "source": [
    "print('Loss before one step of optimization %.8f' % loss)"
   ]
  },
  {
   "cell_type": "code",
   "execution_count": 86,
   "id": "0e966028-99b2-4b8d-90a5-83484fe6b35a",
   "metadata": {},
   "outputs": [],
   "source": [
    "starter = torch.cuda.Event(enable_timing=True)\n",
    "ender = torch.cuda.Event(enable_timing=True)"
   ]
  },
  {
   "cell_type": "code",
   "execution_count": 87,
   "id": "269618c0-fc28-43ee-8f51-cdc426dd3dda",
   "metadata": {},
   "outputs": [],
   "source": [
    "starter.record()\n",
    "x, t = cifar_trn_dataset[1]\n",
    "\n",
    "optimizer.zero_grad() # Clean the gradient accumulator\n",
    "\n",
    "y = net(x.view(1, 3, 32, 32))\n",
    "loss = criterion(y, torch.tensor([t]))\n",
    "\n",
    "loss.backward()\n",
    "\n",
    "optimizer.step()\n",
    "ender.record()\n",
    "torch.cuda.synchronize()"
   ]
  },
  {
   "cell_type": "code",
   "execution_count": 88,
   "id": "c4dbca2a-5f5b-43db-bcb1-aff59496a46a",
   "metadata": {},
   "outputs": [
    {
     "name": "stdout",
     "output_type": "stream",
     "text": [
      "Loss after one step of optimization 5.11485863 (312.3460 ms)\n"
     ]
    }
   ],
   "source": [
    "print('Loss after one step of optimization %.8f (%.4f ms)' % (loss, starter.elapsed_time(ender)))"
   ]
  },
  {
   "cell_type": "markdown",
   "id": "1fe603bb-e940-4d6f-9d75-468c5f2a18bf",
   "metadata": {},
   "source": [
    "***\n",
    "### Setup for training in GPU"
   ]
  },
  {
   "cell_type": "code",
   "execution_count": 89,
   "id": "b0917bda-8597-4ef8-a300-ba4562a33e10",
   "metadata": {},
   "outputs": [],
   "source": [
    "# Move our network to the GPU memory, as well as our criterion\n",
    "net.cuda()\n",
    "criterion.cuda()\n",
    "\n",
    "# Define the optimizer after we have moved the network to the GPU, so the update is perfomred in GPU momory\n",
    "optimizer = optim.Adam(\n",
    "    params=net.parameters(),\n",
    "    lr=1e-4\n",
    ")"
   ]
  },
  {
   "cell_type": "code",
   "execution_count": 90,
   "id": "ebf14981-9117-48a1-9b80-c1e5f76a82d7",
   "metadata": {},
   "outputs": [],
   "source": [
    "starter.record()\n",
    "x, t = cifar_trn_dataset[1]\n",
    "\n",
    "optimizer.zero_grad() # Clean the gradient accumulator\n",
    "\n",
    "# Move the input to GPU memory before feeding the network with it\n",
    "y = net(x.view(1, 3, 32, 32).cuda())\n",
    "\n",
    "# Move the target as well to compute the loss on the GPU\n",
    "loss = criterion(y, torch.tensor([t]).cuda())\n",
    "\n",
    "loss.backward()\n",
    "\n",
    "optimizer.step()\n",
    "\n",
    "# this is necesary only when measuring the execution time\n",
    "ender.record()\n",
    "torch.cuda.synchronize()"
   ]
  },
  {
   "cell_type": "code",
   "execution_count": 91,
   "id": "0404794e-cc19-48fa-9cb7-1ff83559a16a",
   "metadata": {},
   "outputs": [
    {
     "name": "stdout",
     "output_type": "stream",
     "text": [
      "Loss after one step of optimization 4.5383162498474121 (151.3937225341796875 ms)\n"
     ]
    }
   ],
   "source": [
    "print('Loss after one step of optimization %.16f (%.16f ms)' % (loss, starter.elapsed_time(ender)))"
   ]
  },
  {
   "cell_type": "markdown",
   "id": "fccd03a1-dbfe-44d5-a451-c9c36e5dd7af",
   "metadata": {},
   "source": [
    "***\n",
    "### 5.4 _Implement the training loop_"
   ]
  },
  {
   "cell_type": "markdown",
   "id": "4f4bf9ea-3a7b-4d2d-a352-26ead6360ca4",
   "metadata": {},
   "source": [
    "The DataLoader class in PyTorch is usefull to split the dataset into batches.<br>\n",
    "It also convert the individual targets to tensors that can be used directly by the loss function"
   ]
  },
  {
   "cell_type": "code",
   "execution_count": 92,
   "id": "c0d742e7-02dc-499b-a01e-339a4c660381",
   "metadata": {},
   "outputs": [],
   "source": [
    "from torch.utils.data import DataLoader"
   ]
  },
  {
   "cell_type": "markdown",
   "id": "01b641cd-cc6e-44a4-a51b-565c053fe45e",
   "metadata": {},
   "source": [
    "Generate a data loader for our training data from MNIST"
   ]
  },
  {
   "cell_type": "code",
   "execution_count": 93,
   "id": "cf9bc740-d5bb-4826-9253-10152cd0613e",
   "metadata": {},
   "outputs": [],
   "source": [
    "cifar_trn_loader = DataLoader(\n",
    "    cifar_trn_dataset,\n",
    "    batch_size=128,\n",
    "    shuffle=True,\n",
    "    pin_memory=True\n",
    ")"
   ]
  },
  {
   "cell_type": "code",
   "execution_count": 94,
   "id": "2d163500-5833-48d4-b99f-93c86726ceb2",
   "metadata": {},
   "outputs": [
    {
     "name": "stdout",
     "output_type": "stream",
     "text": [
      "Dataset size: 50000\n",
      "DataLoader size: 391\n"
     ]
    }
   ],
   "source": [
    "print('Dataset size:', len(cifar_trn_dataset))\n",
    "print('DataLoader size:', len(cifar_trn_loader))"
   ]
  },
  {
   "cell_type": "markdown",
   "id": "756a57fb-30e1-42c3-9683-9cbf286dd313",
   "metadata": {},
   "source": [
    "#### Run one *epoch* of training"
   ]
  },
  {
   "cell_type": "code",
   "execution_count": 95,
   "id": "8e50e8e5-260c-4c9b-9b3f-4a5366c4291d",
   "metadata": {},
   "outputs": [
    {
     "name": "stdout",
     "output_type": "stream",
     "text": [
      "[0] Loss 4.81175327\n",
      "[100] Loss 3.89317751\n",
      "[200] Loss 3.62282014\n",
      "[300] Loss 3.34649014\n"
     ]
    }
   ],
   "source": [
    "starter.record()\n",
    "trn_loss = []\n",
    "for i, (x, t) in enumerate(cifar_trn_loader):\n",
    "    optimizer.zero_grad()\n",
    "    \n",
    "    x = x.cuda()\n",
    "    t = t.cuda()\n",
    "    \n",
    "    y = net(x)\n",
    "    \n",
    "    loss = criterion(y, t)\n",
    "    \n",
    "    loss.backward()\n",
    "    \n",
    "    trn_loss.append(loss.item())\n",
    "    \n",
    "    optimizer.step()\n",
    "    \n",
    "    if i % 100 == 0:\n",
    "        print('[%i] Loss %.8f' % (i, loss))\n",
    "        \n",
    "ender.record()\n",
    "torch.cuda.synchronize()"
   ]
  },
  {
   "cell_type": "code",
   "execution_count": 96,
   "id": "4ad25d6d-013a-4ace-ab89-0917451450cd",
   "metadata": {},
   "outputs": [
    {
     "data": {
      "text/plain": [
       "25.8020234375"
      ]
     },
     "execution_count": 96,
     "metadata": {},
     "output_type": "execute_result"
    }
   ],
   "source": [
    "starter.elapsed_time(ender) / 1000"
   ]
  },
  {
   "cell_type": "code",
   "execution_count": 97,
   "id": "2e51dfe8-7c57-43f1-80a1-690e4115d84c",
   "metadata": {},
   "outputs": [
    {
     "data": {
      "text/plain": [
       "[<matplotlib.lines.Line2D at 0x2aaba4df5a00>]"
      ]
     },
     "execution_count": 97,
     "metadata": {},
     "output_type": "execute_result"
    },
    {
     "data": {
      "image/png": "[encoded data removed]",
      "text/plain": [
       "<Figure size 432x288 with 1 Axes>"
      ]
     },
     "metadata": {
      "needs_background": "light"
     },
     "output_type": "display_data"
    }
   ],
   "source": [
    "plt.plot(trn_loss)"
   ]
  },
  {
   "cell_type": "markdown",
   "id": "69e4e5c2-1321-4049-9446-1fd860561a21",
   "metadata": {},
   "source": [
    "#### Run several *epochs*"
   ]
  },
  {
   "cell_type": "code",
   "execution_count": 98,
   "id": "f73264f5-67a0-40e4-8b38-1c90caed3a99",
   "metadata": {
    "tags": []
   },
   "outputs": [
    {
     "name": "stdout",
     "output_type": "stream",
     "text": [
      "[Epoch 00] 2.93849048\n",
      "[Epoch 01] 2.44811500\n",
      "[Epoch 02] 2.02072319\n",
      "[Epoch 03] 1.59845660\n",
      "[Epoch 04] 1.14853404\n",
      "[Epoch 05] 0.72458910\n",
      "[Epoch 06] 0.41159044\n",
      "[Epoch 07] 0.26905134\n",
      "[Epoch 08] 0.19039435\n",
      "[Epoch 09] 0.18367449\n"
     ]
    }
   ],
   "source": [
    "trn_loss = []\n",
    "net.train()\n",
    "\n",
    "starter.record()\n",
    "\n",
    "for e  in range(10):\n",
    "    avg_loss = 0\n",
    "    for i, (x, t) in enumerate(cifar_trn_loader):\n",
    "        optimizer.zero_grad()\n",
    "\n",
    "        x = x.cuda()\n",
    "        t = t.cuda()\n",
    "        \n",
    "        y = net(x)\n",
    "\n",
    "        loss = criterion(y, t)\n",
    "\n",
    "        loss.backward()\n",
    "        \n",
    "        avg_loss += loss.item()\n",
    "        trn_loss.append(loss.item())\n",
    "\n",
    "        optimizer.step()\n",
    "    \n",
    "    avg_loss = avg_loss / len(cifar_trn_loader)\n",
    "    print('[Epoch %02i] %.8f' % (e, avg_loss))\n",
    "\n",
    "ender.record()\n",
    "torch.cuda.synchronize()"
   ]
  },
  {
   "cell_type": "code",
   "execution_count": 99,
   "id": "5c4bfb74-42dd-47e3-a252-ddeef6dd61fb",
   "metadata": {},
   "outputs": [
    {
     "data": {
      "text/plain": [
       "253.455125"
      ]
     },
     "execution_count": 99,
     "metadata": {},
     "output_type": "execute_result"
    }
   ],
   "source": [
    "starter.elapsed_time(ender) / 1000"
   ]
  },
  {
   "cell_type": "code",
   "execution_count": 100,
   "id": "d0b9a845-cfb0-47a4-8a5c-63a6cb3b3b4f",
   "metadata": {},
   "outputs": [
    {
     "data": {
      "text/plain": [
       "[<matplotlib.lines.Line2D at 0x2aaba4ed8ac0>]"
      ]
     },
     "execution_count": 100,
     "metadata": {},
     "output_type": "execute_result"
    },
    {
     "data": {
      "image/png": "[encoded data removed]",
      "text/plain": [
       "<Figure size 432x288 with 1 Axes>"
      ]
     },
     "metadata": {
      "needs_background": "light"
     },
     "output_type": "display_data"
    }
   ],
   "source": [
    "plt.plot(trn_loss)"
   ]
  },
  {
   "cell_type": "markdown",
   "id": "2cde7592-0182-4bd1-9149-09e39d02e87c",
   "metadata": {},
   "source": [
    "#### Save the trained model (checkpoint)"
   ]
  },
  {
   "cell_type": "code",
   "execution_count": 104,
   "id": "4747d070-9288-4bca-aea1-82f797cd4db4",
   "metadata": {},
   "outputs": [],
   "source": [
    "torch.save(net.state_dict(), 'resnet_20220420.pth')"
   ]
  },
  {
   "cell_type": "markdown",
   "id": "2198b928-2b30-49b8-b6cb-c3affee87b17",
   "metadata": {},
   "source": [
    "***\n",
    "#### Test the trained model\n",
    "Use the test partition of the CIFAR 100 dataset"
   ]
  },
  {
   "cell_type": "code",
   "execution_count": 105,
   "id": "ee59c010-1989-409a-b4ae-2ec101dcb245",
   "metadata": {},
   "outputs": [],
   "source": [
    "cifar_tst_dataset = CIFAR100(root='/home/cervaf/data', download=False, train=False, transform=cifar_transform)\n",
    "cifar_tst_loader = DataLoader(cifar_tst_dataset, batch_size=128, shuffle=False, pin_memory=True)"
   ]
  },
  {
   "cell_type": "code",
   "execution_count": 106,
   "id": "13c498ae-4b60-49bd-9552-b8d99370efda",
   "metadata": {},
   "outputs": [],
   "source": [
    "import sklearn.metrics\n",
    "import numpy as np"
   ]
  },
  {
   "cell_type": "code",
   "execution_count": 154,
   "id": "34ef41bd-44cc-455a-91b0-a48c2620d8e4",
   "metadata": {},
   "outputs": [],
   "source": [
    "# Load the checkpoint\n",
    "state_dict = torch.load('resnet_20220420.pth')"
   ]
  },
  {
   "cell_type": "code",
   "execution_count": 155,
   "id": "493c8ff2-176c-4f6f-92f9-cf2d5ba33cd7",
   "metadata": {},
   "outputs": [
    {
     "name": "stdout",
     "output_type": "stream",
     "text": [
      "embedding.weight\n",
      "bn.weight\n",
      "bn.bias\n",
      "bn.running_mean\n",
      "bn.running_var\n",
      "bn.num_batches_tracked\n",
      "layers.0.conv_1.weight\n",
      "layers.0.downsample.weight\n",
      "layers.0.bn1.weight\n",
      "layers.0.bn1.bias\n",
      "layers.0.bn1.running_mean\n",
      "layers.0.bn1.running_var\n",
      "layers.0.bn1.num_batches_tracked\n",
      "layers.0.conv_2.weight\n",
      "layers.0.bn2.weight\n",
      "layers.0.bn2.bias\n",
      "layers.0.bn2.running_mean\n",
      "layers.0.bn2.running_var\n",
      "layers.0.bn2.num_batches_tracked\n",
      "layers.1.conv_1.weight\n",
      "layers.1.bn1.weight\n",
      "layers.1.bn1.bias\n",
      "layers.1.bn1.running_mean\n",
      "layers.1.bn1.running_var\n",
      "layers.1.bn1.num_batches_tracked\n",
      "layers.1.conv_2.weight\n",
      "layers.1.bn2.weight\n",
      "layers.1.bn2.bias\n",
      "layers.1.bn2.running_mean\n",
      "layers.1.bn2.running_var\n",
      "layers.1.bn2.num_batches_tracked\n",
      "layers.2.conv_1.weight\n",
      "layers.2.downsample.weight\n",
      "layers.2.bn1.weight\n",
      "layers.2.bn1.bias\n",
      "layers.2.bn1.running_mean\n",
      "layers.2.bn1.running_var\n",
      "layers.2.bn1.num_batches_tracked\n",
      "layers.2.conv_2.weight\n",
      "layers.2.bn2.weight\n",
      "layers.2.bn2.bias\n",
      "layers.2.bn2.running_mean\n",
      "layers.2.bn2.running_var\n",
      "layers.2.bn2.num_batches_tracked\n",
      "layers.3.conv_1.weight\n",
      "layers.3.bn1.weight\n",
      "layers.3.bn1.bias\n",
      "layers.3.bn1.running_mean\n",
      "layers.3.bn1.running_var\n",
      "layers.3.bn1.num_batches_tracked\n",
      "layers.3.conv_2.weight\n",
      "layers.3.bn2.weight\n",
      "layers.3.bn2.bias\n",
      "layers.3.bn2.running_mean\n",
      "layers.3.bn2.running_var\n",
      "layers.3.bn2.num_batches_tracked\n",
      "layers.4.conv_1.weight\n",
      "layers.4.downsample.weight\n",
      "layers.4.bn1.weight\n",
      "layers.4.bn1.bias\n",
      "layers.4.bn1.running_mean\n",
      "layers.4.bn1.running_var\n",
      "layers.4.bn1.num_batches_tracked\n",
      "layers.4.conv_2.weight\n",
      "layers.4.bn2.weight\n",
      "layers.4.bn2.bias\n",
      "layers.4.bn2.running_mean\n",
      "layers.4.bn2.running_var\n",
      "layers.4.bn2.num_batches_tracked\n",
      "layers.5.conv_1.weight\n",
      "layers.5.bn1.weight\n",
      "layers.5.bn1.bias\n",
      "layers.5.bn1.running_mean\n",
      "layers.5.bn1.running_var\n",
      "layers.5.bn1.num_batches_tracked\n",
      "layers.5.conv_2.weight\n",
      "layers.5.bn2.weight\n",
      "layers.5.bn2.bias\n",
      "layers.5.bn2.running_mean\n",
      "layers.5.bn2.running_var\n",
      "layers.5.bn2.num_batches_tracked\n",
      "layers.6.conv_1.weight\n",
      "layers.6.downsample.weight\n",
      "layers.6.bn1.weight\n",
      "layers.6.bn1.bias\n",
      "layers.6.bn1.running_mean\n",
      "layers.6.bn1.running_var\n",
      "layers.6.bn1.num_batches_tracked\n",
      "layers.6.conv_2.weight\n",
      "layers.6.bn2.weight\n",
      "layers.6.bn2.bias\n",
      "layers.6.bn2.running_mean\n",
      "layers.6.bn2.running_var\n",
      "layers.6.bn2.num_batches_tracked\n",
      "layers.7.conv_1.weight\n",
      "layers.7.bn1.weight\n",
      "layers.7.bn1.bias\n",
      "layers.7.bn1.running_mean\n",
      "layers.7.bn1.running_var\n",
      "layers.7.bn1.num_batches_tracked\n",
      "layers.7.conv_2.weight\n",
      "layers.7.bn2.weight\n",
      "layers.7.bn2.bias\n",
      "layers.7.bn2.running_mean\n",
      "layers.7.bn2.running_var\n",
      "layers.7.bn2.num_batches_tracked\n",
      "fc.weight\n",
      "fc.bias\n"
     ]
    }
   ],
   "source": [
    "for k in state_dict.keys():\n",
    "    print(k)"
   ]
  },
  {
   "cell_type": "code",
   "execution_count": 156,
   "id": "41a30fa8-0d10-46f0-9404-8f2571504a72",
   "metadata": {},
   "outputs": [],
   "source": [
    "# Create a new network object\n",
    "test_net = ResNet(in_channels=3, num_classes=100)"
   ]
  },
  {
   "cell_type": "code",
   "execution_count": 157,
   "id": "4ec51378-b4e1-4061-b34a-10e7135c5f3b",
   "metadata": {},
   "outputs": [
    {
     "data": {
      "text/plain": [
       "<All keys matched successfully>"
      ]
     },
     "execution_count": 157,
     "metadata": {},
     "output_type": "execute_result"
    }
   ],
   "source": [
    "# Load the trained weights\n",
    "test_net.load_state_dict(state_dict)"
   ]
  },
  {
   "cell_type": "markdown",
   "id": "b697691f-4195-43a1-8ed2-cc15fd8a7231",
   "metadata": {},
   "source": [
    "#### Test the accuracy of the trained network"
   ]
  },
  {
   "cell_type": "code",
   "execution_count": 158,
   "id": "22795fcf-2837-4001-887d-5c8b492dcd7b",
   "metadata": {},
   "outputs": [
    {
     "name": "stdout",
     "output_type": "stream",
     "text": [
      "Average test loss 4.78111167, average accuracy 46.62 %, average accuracy@5 73.20 %, average accuracy@10 82.53 %\n"
     ]
    }
   ],
   "source": [
    "tst_avg_loss = 0\n",
    "tst_avg_acc = 0\n",
    "tst_avg_acc_5 = 0\n",
    "tst_avg_acc_10 = 0\n",
    "\n",
    "test_net.cuda()\n",
    "test_net.eval()\n",
    "\n",
    "for i, (x, t) in enumerate(cifar_tst_loader):\n",
    "    with torch.no_grad():\n",
    "        x = x.cuda()\n",
    "        t = t.cuda()\n",
    "        \n",
    "        y = test_net(x)\n",
    "        loss = criterion(y, t)\n",
    "    \n",
    "    tst_avg_loss += loss.item()\n",
    "\n",
    "    tst_avg_acc += sklearn.metrics.accuracy_score(t.cpu().numpy(), y.cpu().argmax(dim=1).numpy(), normalize=False)\n",
    "    tst_avg_acc_5 += sklearn.metrics.top_k_accuracy_score(t.cpu().numpy(), y.cpu().numpy(), k=5, labels=np.arange(100), normalize=False)\n",
    "    tst_avg_acc_10 += sklearn.metrics.top_k_accuracy_score(t.cpu().numpy(), y.cpu().numpy(), k=10, labels=np.arange(100), normalize=False)\n",
    "\n",
    "tst_avg_loss = tst_avg_loss / len(cifar_tst_loader)\n",
    "tst_avg_acc = tst_avg_acc / len(cifar_tst_dataset) * 100\n",
    "tst_avg_acc_5 = tst_avg_acc_5 / len(cifar_tst_dataset) * 100\n",
    "tst_avg_acc_10 = tst_avg_acc_10 / len(cifar_tst_dataset) * 100\n",
    "print('Average test loss %.8f, average accuracy %.2f %%, average accuracy@5 %.2f %%, average accuracy@10 %.2f %%' % (tst_avg_loss, tst_avg_acc, tst_avg_acc_5, tst_avg_acc_10))"
   ]
  },
  {
   "cell_type": "markdown",
   "id": "6b3cdbe9-4df9-490d-9b43-20aa52593ae7",
   "metadata": {},
   "source": [
    "Check with a sample image from the training set"
   ]
  },
  {
   "cell_type": "code",
   "execution_count": 159,
   "id": "db1af41c-1259-463d-87a2-82702a6ef650",
   "metadata": {},
   "outputs": [],
   "source": [
    "x, t = cifar_trn_dataset[100]\n",
    "x = x.cuda()\n",
    "y = test_net(x.view(1, 3, 32, 32))"
   ]
  },
  {
   "cell_type": "code",
   "execution_count": 160,
   "id": "09c341d8-f37a-4344-be88-656e6e2669d3",
   "metadata": {},
   "outputs": [
    {
     "data": {
      "image/png": "[encoded data removed]",
      "text/plain": [
       "<Figure size 432x288 with 1 Axes>"
      ]
     },
     "metadata": {
      "needs_background": "light"
     },
     "output_type": "display_data"
    }
   ],
   "source": [
    "plt.imshow(x.cpu().permute(1, 2, 0))\n",
    "plt.title('Real %i (%.2f %%), Predicted %i (%.2f %%)' % (t, torch.softmax(y, dim=1)[0, t].item() * 100, y.cpu().argmax(dim=1)[0].item(), torch.softmax(y, dim=1).max().item() * 100))\n",
    "plt.show()"
   ]
  },
  {
   "cell_type": "markdown",
   "id": "b48001d9-8d3e-4d35-8a4a-3c3b4b668457",
   "metadata": {},
   "source": [
    "Check the labels [here](https://huggingface.co/datasets/cifar100)"
   ]
  },
  {
   "cell_type": "markdown",
   "id": "3b341f7d-55c7-4817-9467-aa9eca701f13",
   "metadata": {},
   "source": [
    "Check one image from the test set"
   ]
  },
  {
   "cell_type": "code",
   "execution_count": 189,
   "id": "57f5b239-30fa-4334-ac55-19fa2df79fe4",
   "metadata": {},
   "outputs": [],
   "source": [
    "x, t = cifar_tst_dataset[5550]\n",
    "x = x.cuda()\n",
    "y = test_net(x.view(1, 3, 32, 32))"
   ]
  },
  {
   "cell_type": "code",
   "execution_count": 190,
   "id": "eaecbe78-c3aa-44a4-b297-b05aa48250f6",
   "metadata": {},
   "outputs": [
    {
     "data": {
      "image/png": "[encoded data removed]",
      "text/plain": [
       "<Figure size 432x288 with 1 Axes>"
      ]
     },
     "metadata": {
      "needs_background": "light"
     },
     "output_type": "display_data"
    }
   ],
   "source": [
    "plt.imshow(x.cpu().permute(1, 2, 0))\n",
    "plt.title('Real %i (%.2f %%), Predicted %i (%.2f %%)' % (t, torch.softmax(y, dim=1)[0, t].item() * 100, y.cpu().argmax(dim=1)[0].item(), torch.softmax(y, dim=1).max().item() * 100))\n",
    "plt.show()"
   ]
  },
  {
   "cell_type": "code",
   "execution_count": null,
   "id": "09875a83-ecbd-4bdd-8c07-ec90e9e92b66",
   "metadata": {},
   "outputs": [],
   "source": []
  }
 ],
 "metadata": {
  "kernelspec": {
   "display_name": "Python 3 (ipykernel)",
   "language": "python",
   "name": "python3"
  },
  "language_info": {
   "codemirror_mode": {
    "name": "ipython",
    "version": 3
   },
   "file_extension": ".py",
   "mimetype": "text/x-python",
   "name": "python",
   "nbconvert_exporter": "python",
   "pygments_lexer": "ipython3",
   "version": "3.9.10"
  }
 },
 "nbformat": 4,
 "nbformat_minor": 5
}
