{
 "cells": [
  {
   "cell_type": "markdown",
   "id": "177db554-5724-456f-9889-e63382b7c40a",
   "metadata": {},
   "source": [
    "# **Deep learning for image analysis with Python**"
   ]
  },
  {
   "cell_type": "markdown",
   "id": "34661982-88ba-41d0-b84d-04f47dbd478b",
   "metadata": {},
   "source": [
    "#### Fernando Cervantes, Systems Analyst I, Imaging Solutions, Research IT\n",
    "#### fernando.cervantes@jax.org    (slack) @fernando.cervantes"
   ]
  },
  {
   "cell_type": "markdown",
   "id": "a6dfa69a-253b-4de8-b057-8c6fe131ffed",
   "metadata": {},
   "source": [
    "## 5 Implement the training loop"
   ]
  },
  {
   "cell_type": "markdown",
   "id": "94c55f70-f389-4082-a1d3-0e14262a5310",
   "metadata": {},
   "source": [
    "### 5.1 _Data preparation_"
   ]
  },
  {
   "cell_type": "markdown",
   "id": "635cd20f-a6fd-49ce-8570-bbfaebe4d1bd",
   "metadata": {},
   "source": [
    "Using the *torchvision* library, pull the CIFAR 100 dataset.<br>\n",
    "We'll need to transform images from this dataset from PIL Images to PyTorch tensors."
   ]
  },
  {
   "cell_type": "code",
   "execution_count": 1,
   "id": "38077afa-c02a-48a8-bd95-31bba43c126a",
   "metadata": {},
   "outputs": [],
   "source": [
    "from torchvision.datasets import CIFAR100\n",
    "from torch.utils.data import DataLoader\n",
    "from torchvision.transforms import ToTensor"
   ]
  },
  {
   "cell_type": "code",
   "execution_count": 8,
   "id": "d12fc47d-4600-464d-9901-7f690506eeb3",
   "metadata": {
    "tags": []
   },
   "outputs": [],
   "source": [
    "cifar_data = CIFAR100(root='/home/cervaf/data',\n",
    "                             download=False,\n",
    "                             train=True,\n",
    "                             transform=ToTensor()\n",
    "                            )"
   ]
  },
  {
   "cell_type": "code",
   "execution_count": 9,
   "id": "0c2c1592-8396-47e3-b4f2-29e9c5550b23",
   "metadata": {},
   "outputs": [],
   "source": [
    "cifar_loader = DataLoader(cifar_data,\n",
    "                              batch_size=128,\n",
    "                              shuffle=True,\n",
    "                              pin_memory=True\n",
    "                             )"
   ]
  },
  {
   "cell_type": "code",
   "execution_count": 10,
   "id": "2d163500-5833-48d4-b99f-93c86726ceb2",
   "metadata": {},
   "outputs": [
    {
     "name": "stdout",
     "output_type": "stream",
     "text": [
      "Dataset size: 50000\n",
      "DataLoader size: 391\n"
     ]
    }
   ],
   "source": [
    "print('Dataset size:', len(cifar_data))\n",
    "print('DataLoader size:', len(cifar_loader))"
   ]
  },
  {
   "cell_type": "markdown",
   "id": "70120a47-90be-47eb-a51c-aa30f39dd2ff",
   "metadata": {},
   "source": [
    "Plot some of the CIFAR labeled examples. Check [here](https://huggingface.co/datasets/cifar100) the labels"
   ]
  },
  {
   "cell_type": "code",
   "execution_count": 11,
   "id": "7a76a5a3-c99e-4ba1-b720-edc0e674c808",
   "metadata": {},
   "outputs": [
    {
     "name": "stdout",
     "output_type": "stream",
     "text": [
      "torch.Size([3, 32, 32])\n"
     ]
    },
    {
     "data": {
      "image/png": "[encoded data removed]",
      "text/plain": [
       "<Figure size 432x288 with 2 Axes>"
      ]
     },
     "metadata": {
      "needs_background": "light"
     },
     "output_type": "display_data"
    }
   ],
   "source": [
    "import matplotlib.pyplot as plt\n",
    "\n",
    "x, t = cifar_data[10000]\n",
    "print(x.size())\n",
    "plt.imshow(x.permute(1, 2, 0))\n",
    "plt.title(t)\n",
    "plt.colorbar()\n",
    "plt.show()"
   ]
  },
  {
   "cell_type": "markdown",
   "id": "0980f188-9be7-4987-a215-3ec009fa9fbb",
   "metadata": {},
   "source": [
    "***\n",
    "### 5.2 _Network preparation_"
   ]
  },
  {
   "cell_type": "markdown",
   "id": "7d37a6a1-0696-4d3a-9642-de96f31c2d8a",
   "metadata": {
    "jupyter": {
     "source_hidden": true
    },
    "tags": []
   },
   "source": [
    "Implement a Residual Network ([ResNet](https://arxiv.org/pdf/1512.03385.pdf))<br>\n",
    "The torchvision module from pytorch provides models that have been pre-trained with the ImageNet dataset (1.2 million images natural images for training, with 1000 different classes)<br>\n",
    "This is usefull for *transfer the learning* to other applications, or use those as *warmed-up* models, instead of random initialization of the weights.<br>\n",
    "However, the architecture is fixed to work with input images of $224\\times224$ pixels with $3$ channels (RBG), and output $1000$ classes.<br>\n",
    "For our example with the CIFAR 100 dataset, that is composed by images of $32\\times32$ pixesl in RGB, and only has $100$ classes, thre pre-trained models won't be usefull.\n"
   ]
  },
  {
   "cell_type": "code",
   "execution_count": 50,
   "id": "0aa14287-1fa4-41a4-b5f0-8699c7d3f554",
   "metadata": {
    "jupyter": {
     "source_hidden": true
    },
    "tags": []
   },
   "outputs": [],
   "source": [
    "import torchvision.models as models"
   ]
  },
  {
   "cell_type": "code",
   "execution_count": 51,
   "id": "66b166ad-27b1-4e89-b216-856b283d720d",
   "metadata": {
    "collapsed": true,
    "jupyter": {
     "outputs_hidden": true,
     "source_hidden": true
    },
    "tags": []
   },
   "outputs": [
    {
     "name": "stdout",
     "output_type": "stream",
     "text": [
      "ResNet(\n",
      "  (conv1): Conv2d(3, 64, kernel_size=(7, 7), stride=(2, 2), padding=(3, 3), bias=False)\n",
      "  (bn1): BatchNorm2d(64, eps=1e-05, momentum=0.1, affine=True, track_running_stats=True)\n",
      "  (relu): ReLU(inplace=True)\n",
      "  (maxpool): MaxPool2d(kernel_size=3, stride=2, padding=1, dilation=1, ceil_mode=False)\n",
      "  (layer1): Sequential(\n",
      "    (0): BasicBlock(\n",
      "      (conv1): Conv2d(64, 64, kernel_size=(3, 3), stride=(1, 1), padding=(1, 1), bias=False)\n",
      "      (bn1): BatchNorm2d(64, eps=1e-05, momentum=0.1, affine=True, track_running_stats=True)\n",
      "      (relu): ReLU(inplace=True)\n",
      "      (conv2): Conv2d(64, 64, kernel_size=(3, 3), stride=(1, 1), padding=(1, 1), bias=False)\n",
      "      (bn2): BatchNorm2d(64, eps=1e-05, momentum=0.1, affine=True, track_running_stats=True)\n",
      "    )\n",
      "    (1): BasicBlock(\n",
      "      (conv1): Conv2d(64, 64, kernel_size=(3, 3), stride=(1, 1), padding=(1, 1), bias=False)\n",
      "      (bn1): BatchNorm2d(64, eps=1e-05, momentum=0.1, affine=True, track_running_stats=True)\n",
      "      (relu): ReLU(inplace=True)\n",
      "      (conv2): Conv2d(64, 64, kernel_size=(3, 3), stride=(1, 1), padding=(1, 1), bias=False)\n",
      "      (bn2): BatchNorm2d(64, eps=1e-05, momentum=0.1, affine=True, track_running_stats=True)\n",
      "    )\n",
      "  )\n",
      "  (layer2): Sequential(\n",
      "    (0): BasicBlock(\n",
      "      (conv1): Conv2d(64, 128, kernel_size=(3, 3), stride=(2, 2), padding=(1, 1), bias=False)\n",
      "      (bn1): BatchNorm2d(128, eps=1e-05, momentum=0.1, affine=True, track_running_stats=True)\n",
      "      (relu): ReLU(inplace=True)\n",
      "      (conv2): Conv2d(128, 128, kernel_size=(3, 3), stride=(1, 1), padding=(1, 1), bias=False)\n",
      "      (bn2): BatchNorm2d(128, eps=1e-05, momentum=0.1, affine=True, track_running_stats=True)\n",
      "      (downsample): Sequential(\n",
      "        (0): Conv2d(64, 128, kernel_size=(1, 1), stride=(2, 2), bias=False)\n",
      "        (1): BatchNorm2d(128, eps=1e-05, momentum=0.1, affine=True, track_running_stats=True)\n",
      "      )\n",
      "    )\n",
      "    (1): BasicBlock(\n",
      "      (conv1): Conv2d(128, 128, kernel_size=(3, 3), stride=(1, 1), padding=(1, 1), bias=False)\n",
      "      (bn1): BatchNorm2d(128, eps=1e-05, momentum=0.1, affine=True, track_running_stats=True)\n",
      "      (relu): ReLU(inplace=True)\n",
      "      (conv2): Conv2d(128, 128, kernel_size=(3, 3), stride=(1, 1), padding=(1, 1), bias=False)\n",
      "      (bn2): BatchNorm2d(128, eps=1e-05, momentum=0.1, affine=True, track_running_stats=True)\n",
      "    )\n",
      "  )\n",
      "  (layer3): Sequential(\n",
      "    (0): BasicBlock(\n",
      "      (conv1): Conv2d(128, 256, kernel_size=(3, 3), stride=(2, 2), padding=(1, 1), bias=False)\n",
      "      (bn1): BatchNorm2d(256, eps=1e-05, momentum=0.1, affine=True, track_running_stats=True)\n",
      "      (relu): ReLU(inplace=True)\n",
      "      (conv2): Conv2d(256, 256, kernel_size=(3, 3), stride=(1, 1), padding=(1, 1), bias=False)\n",
      "      (bn2): BatchNorm2d(256, eps=1e-05, momentum=0.1, affine=True, track_running_stats=True)\n",
      "      (downsample): Sequential(\n",
      "        (0): Conv2d(128, 256, kernel_size=(1, 1), stride=(2, 2), bias=False)\n",
      "        (1): BatchNorm2d(256, eps=1e-05, momentum=0.1, affine=True, track_running_stats=True)\n",
      "      )\n",
      "    )\n",
      "    (1): BasicBlock(\n",
      "      (conv1): Conv2d(256, 256, kernel_size=(3, 3), stride=(1, 1), padding=(1, 1), bias=False)\n",
      "      (bn1): BatchNorm2d(256, eps=1e-05, momentum=0.1, affine=True, track_running_stats=True)\n",
      "      (relu): ReLU(inplace=True)\n",
      "      (conv2): Conv2d(256, 256, kernel_size=(3, 3), stride=(1, 1), padding=(1, 1), bias=False)\n",
      "      (bn2): BatchNorm2d(256, eps=1e-05, momentum=0.1, affine=True, track_running_stats=True)\n",
      "    )\n",
      "  )\n",
      "  (layer4): Sequential(\n",
      "    (0): BasicBlock(\n",
      "      (conv1): Conv2d(256, 512, kernel_size=(3, 3), stride=(2, 2), padding=(1, 1), bias=False)\n",
      "      (bn1): BatchNorm2d(512, eps=1e-05, momentum=0.1, affine=True, track_running_stats=True)\n",
      "      (relu): ReLU(inplace=True)\n",
      "      (conv2): Conv2d(512, 512, kernel_size=(3, 3), stride=(1, 1), padding=(1, 1), bias=False)\n",
      "      (bn2): BatchNorm2d(512, eps=1e-05, momentum=0.1, affine=True, track_running_stats=True)\n",
      "      (downsample): Sequential(\n",
      "        (0): Conv2d(256, 512, kernel_size=(1, 1), stride=(2, 2), bias=False)\n",
      "        (1): BatchNorm2d(512, eps=1e-05, momentum=0.1, affine=True, track_running_stats=True)\n",
      "      )\n",
      "    )\n",
      "    (1): BasicBlock(\n",
      "      (conv1): Conv2d(512, 512, kernel_size=(3, 3), stride=(1, 1), padding=(1, 1), bias=False)\n",
      "      (bn1): BatchNorm2d(512, eps=1e-05, momentum=0.1, affine=True, track_running_stats=True)\n",
      "      (relu): ReLU(inplace=True)\n",
      "      (conv2): Conv2d(512, 512, kernel_size=(3, 3), stride=(1, 1), padding=(1, 1), bias=False)\n",
      "      (bn2): BatchNorm2d(512, eps=1e-05, momentum=0.1, affine=True, track_running_stats=True)\n",
      "    )\n",
      "  )\n",
      "  (avgpool): AdaptiveAvgPool2d(output_size=(1, 1))\n",
      "  (fc): Linear(in_features=512, out_features=1000, bias=True)\n",
      ")\n"
     ]
    }
   ],
   "source": [
    "print(models.resnet18())"
   ]
  },
  {
   "cell_type": "markdown",
   "id": "7315c626-cbff-4441-a675-ee64fc3bd50b",
   "metadata": {},
   "source": [
    "Lets use our LeNet network that we implemented as a custom pytorch Module"
   ]
  },
  {
   "cell_type": "code",
   "execution_count": 12,
   "id": "7207aa5d-6a70-4953-aa0f-54b3657f25f7",
   "metadata": {},
   "outputs": [],
   "source": [
    "import torch\n",
    "import torch.nn as nn\n",
    "\n",
    "\n",
    "class LeNet(nn.Module):\n",
    "    def __init__(self, in_channels=1, num_classes=10):\n",
    "        \"\"\"\n",
    "        Always call the initialization function from the nn.Module parent class.\n",
    "        This way all parameters from the operations defined as members of *this* class are tracked for their optimization.\n",
    "        \"\"\"\n",
    "        super(LeNet, self).__init__()\n",
    "        \n",
    "        self.conv_1 = nn.Conv2d(in_channels=in_channels, out_channels=6, kernel_size=5)\n",
    "        self.sub_1 = nn.MaxPool2d(kernel_size=2, stride=2)\n",
    "        \n",
    "        self.conv_2 = nn.Conv2d(in_channels=6, out_channels=16, kernel_size=5)\n",
    "        self.sub_2 = nn.MaxPool2d(kernel_size=2, stride=2)\n",
    "        \n",
    "        self.fc_1 = nn.Linear(in_features=5*5*16, out_features=120)\n",
    "        self.fc_2 = nn.Linear(in_features=120, out_features=84)\n",
    "        self.fc_3 = nn.Linear(in_features=84, out_features=num_classes)\n",
    "        \n",
    "        self.act_fn = nn.ReLU()\n",
    "\n",
    "    def forward(self, x):\n",
    "        # Apply convolution layers to extract feature maps with image context\n",
    "        fx = self.act_fn(self.conv_1(x))\n",
    "        fx = self.sub_1(fx)\n",
    "        \n",
    "        fx = self.act_fn(self.conv_2(fx))\n",
    "        fx = self.sub_2(fx)\n",
    "        \n",
    "        # Flatten the feature maps to perform linear operations\n",
    "        fx = fx.view(-1, 16*5*5)\n",
    "        \n",
    "        fx = self.act_fn(self.fc_1(fx))\n",
    "        fx = self.act_fn(self.fc_2(fx))\n",
    "        y = self.fc_3(fx)\n",
    "        \n",
    "        return y"
   ]
  },
  {
   "cell_type": "markdown",
   "id": "902c2359-6936-4c6e-8bb2-8990285bb88c",
   "metadata": {
    "jupyter": {
     "source_hidden": true
    },
    "tags": []
   },
   "source": [
    "Alternatively, we can define the layers of our network using the Sequential function to reduce the code in the forward pass"
   ]
  },
  {
   "cell_type": "code",
   "execution_count": 73,
   "id": "98b8b7d8-069d-4088-82bc-bfa43f176e63",
   "metadata": {
    "jupyter": {
     "source_hidden": true
    },
    "tags": []
   },
   "outputs": [],
   "source": [
    "class LeNet(nn.Module):\n",
    "    def __init__(self, in_channels=1, num_classes=10):\n",
    "        \"\"\"\n",
    "        Always call the initialization function from the nn.Module parent class.\n",
    "        This way all parameters from the operations defined as members of *this* class are tracked for their optimization.\n",
    "        \"\"\"\n",
    "        super(LeNet, self).__init__()\n",
    "        \n",
    "        self.layer_1 = nn.Sequential(\n",
    "            nn.Conv2d(in_channels=in_channels, out_channels=6, kernel_size=5, stride=1, padding=0, bias=False),\n",
    "            nn.ReLU(),\n",
    "            nn.MaxPool2d(kernel_size=2, stride=2, padding=0)\n",
    "        )\n",
    "        \n",
    "        self.layer_2 = nn.Sequential(\n",
    "            nn.Conv2d(in_channels=6, out_channels=16, kernel_size=5, stride=1, padding=0, bias=False),\n",
    "            nn.ReLU(),\n",
    "            nn.MaxPool2d(kernel_size=2, stride=2, padding=0)\n",
    "        )\n",
    "        \n",
    "        self.layer_fc = nn.Sequential(\n",
    "            nn.Linear(in_features=5*5*16, out_features=120, bias=True),\n",
    "            nn.ReLU(),\n",
    "            nn.Linear(in_features=120, out_features=84, bias=True),\n",
    "            nn.ReLU(),        \n",
    "            nn.Linear(in_features=84, out_features=num_classes, bias=True)\n",
    "        )\n",
    "\n",
    "    def forward(self, x):    \n",
    "        fx = self.layer_1(x) \n",
    "        fx = self.layer_2(x)\n",
    "\n",
    "        fx = fx.flatten()\n",
    "\n",
    "        logits = self.layer_fc(x)\n",
    "        \n",
    "        return logits\n"
   ]
  },
  {
   "cell_type": "markdown",
   "id": "b375085a-01dd-4f74-928d-9416babf96d9",
   "metadata": {
    "jupyter": {
     "source_hidden": true
    },
    "tags": []
   },
   "source": [
    "Or even have all layers as a single operation"
   ]
  },
  {
   "cell_type": "code",
   "execution_count": 74,
   "id": "89137644-aa5b-4ada-b9f7-608f7a4a712c",
   "metadata": {
    "jupyter": {
     "source_hidden": true
    },
    "tags": []
   },
   "outputs": [],
   "source": [
    "class LeNet(nn.Module):\n",
    "    def __init__(self, in_channels=1, num_classes=10):\n",
    "        \"\"\"\n",
    "        Always call the initialization function from the nn.Module parent class.\n",
    "        This way all parameters from the operations defined as members of *this* class are tracked for their optimization.\n",
    "        \"\"\"\n",
    "        super(LeNet, self).__init__()\n",
    "        \n",
    "        self.layers = nn.Sequential(\n",
    "            nn.Conv2d(in_channels=in_channels, out_channels=6, kernel_size=5, stride=1, padding=0, bias=False),\n",
    "            nn.ReLU(),\n",
    "            nn.MaxPool2d(kernel_size=2, stride=2, padding=0),            \n",
    "            nn.Conv2d(in_channels=6, out_channels=16, kernel_size=5, stride=1, padding=0, bias=False),\n",
    "            nn.ReLU(),\n",
    "            nn.MaxPool2d(kernel_size=2, stride=2, padding=0),\n",
    "            nn.Flatten(),\n",
    "            nn.Linear(in_features=5*5*16, out_features=120, bias=True),\n",
    "            nn.ReLU(),\n",
    "            nn.Linear(in_features=120, out_features=84, bias=True),\n",
    "            nn.ReLU(),        \n",
    "            nn.Linear(in_features=84, out_features=num_classes, bias=True)\n",
    "        )\n",
    "\n",
    "    def forward(self, x):\n",
    "        logits = self.layers(x)\n",
    "        \n",
    "        return logits"
   ]
  },
  {
   "cell_type": "markdown",
   "id": "5e655b22-236f-475c-92b5-655f157c6b6c",
   "metadata": {},
   "source": [
    "***\n",
    "### 5.3 _Definition of the optimization problem_"
   ]
  },
  {
   "cell_type": "markdown",
   "id": "5ad9b73f-fed1-4a8a-a376-e5817ccad8a4",
   "metadata": {},
   "source": [
    "Define the loss function and the optimizer, and test it."
   ]
  },
  {
   "cell_type": "code",
   "execution_count": 74,
   "id": "2488acd8-fdf0-4f50-bd64-21af77316066",
   "metadata": {},
   "outputs": [],
   "source": [
    "import torch.optim as optim\n",
    "\n",
    "net = LeNet(in_channels=3, num_classes=100)\n",
    "\n",
    "criterion = nn.CrossEntropyLoss()\n",
    "\n",
    "optimizer = optim.Adam(\n",
    "    params=net.parameters(),\n",
    "    lr=1e-3\n",
    ")"
   ]
  },
  {
   "cell_type": "code",
   "execution_count": 57,
   "id": "4e6d7e80-236c-43d5-8da7-8d492dee0d92",
   "metadata": {},
   "outputs": [],
   "source": [
    "optimizer.zero_grad() # Clean the gradient accumulator\n",
    "\n",
    "x, t = cifar_data[1]\n",
    "\n",
    "y = net(x.view(1, 3, 32, 32))\n",
    "loss = criterion(y, torch.tensor([t]))\n",
    "\n",
    "loss.backward()\n",
    "\n",
    "optimizer.step() # In this command, the parameters of the network are updated"
   ]
  },
  {
   "cell_type": "code",
   "execution_count": 58,
   "id": "dc8868ae-cf1f-43d9-9a4e-3184b352186b",
   "metadata": {},
   "outputs": [
    {
     "name": "stdout",
     "output_type": "stream",
     "text": [
      "Loss before one step of optimization 4.65875435\n"
     ]
    }
   ],
   "source": [
    "print('Loss before one step of optimization %.8f' % loss)"
   ]
  },
  {
   "cell_type": "code",
   "execution_count": 59,
   "id": "0e966028-99b2-4b8d-90a5-83484fe6b35a",
   "metadata": {},
   "outputs": [],
   "source": [
    "starter = torch.cuda.Event(enable_timing=True)\n",
    "ender = torch.cuda.Event(enable_timing=True)"
   ]
  },
  {
   "cell_type": "code",
   "execution_count": 60,
   "id": "269618c0-fc28-43ee-8f51-cdc426dd3dda",
   "metadata": {},
   "outputs": [],
   "source": [
    "starter.record()\n",
    "x, t = cifar_data[1]\n",
    "\n",
    "optimizer.zero_grad() # Clean the gradient accumulator\n",
    "\n",
    "y = net(x.view(1, 3, 32, 32))\n",
    "loss = criterion(y, torch.tensor([t]))\n",
    "\n",
    "loss.backward()\n",
    "\n",
    "optimizer.step()\n",
    "ender.record()\n",
    "torch.cuda.synchronize()"
   ]
  },
  {
   "cell_type": "code",
   "execution_count": 61,
   "id": "c4dbca2a-5f5b-43db-bcb1-aff59496a46a",
   "metadata": {},
   "outputs": [
    {
     "name": "stdout",
     "output_type": "stream",
     "text": [
      "Loss after one step of optimization 4.56975365 (5.3052 ms)\n"
     ]
    }
   ],
   "source": [
    "print('Loss after one step of optimization %.8f (%.4f ms)' % (loss, starter.elapsed_time(ender)))"
   ]
  },
  {
   "cell_type": "markdown",
   "id": "1fe603bb-e940-4d6f-9d75-468c5f2a18bf",
   "metadata": {},
   "source": [
    "***\n",
    "### Setup for training in GPU"
   ]
  },
  {
   "cell_type": "code",
   "execution_count": 79,
   "id": "b0917bda-8597-4ef8-a300-ba4562a33e10",
   "metadata": {},
   "outputs": [],
   "source": [
    "net = LeNet(in_channels=3, num_classes=100)\n",
    "criterion = nn.CrossEntropyLoss()\n",
    "\n",
    "# Move our network to the GPU memory, as well as our criterion\n",
    "\n",
    "net.cuda()\n",
    "criterion.cuda()\n",
    "\n",
    "# Define the optimizer after we have moved the network to the GPU, so the update is perfomred in GPU momory\n",
    "optimizer = optim.Adam(\n",
    "    params=net.parameters(),\n",
    "    lr=1e-4\n",
    ")"
   ]
  },
  {
   "cell_type": "code",
   "execution_count": 80,
   "id": "ebf14981-9117-48a1-9b80-c1e5f76a82d7",
   "metadata": {},
   "outputs": [],
   "source": [
    "starter.record()\n",
    "x, t = cifar_data[1]\n",
    "\n",
    "optimizer.zero_grad() # Clean the gradient accumulator\n",
    "\n",
    "# Move the input to GPU memory before feeding the network with it\n",
    "y = net(x.view(1, 3, 32, 32).cuda())\n",
    "\n",
    "# Move the target as well to compute the loss on the GPU\n",
    "loss = criterion(y, torch.tensor([t]).cuda())\n",
    "\n",
    "loss.backward()\n",
    "\n",
    "optimizer.step()\n",
    "\n",
    "# this is necesary only when measuring the execution time\n",
    "ender.record()\n",
    "torch.cuda.synchronize()"
   ]
  },
  {
   "cell_type": "code",
   "execution_count": 81,
   "id": "0404794e-cc19-48fa-9cb7-1ff83559a16a",
   "metadata": {},
   "outputs": [
    {
     "name": "stdout",
     "output_type": "stream",
     "text": [
      "Loss after one step of optimization 4.5440969467163086 (6.7426238059997559 ms)\n"
     ]
    }
   ],
   "source": [
    "print('Loss after one step of optimization %.16f (%.16f ms)' % (loss, starter.elapsed_time(ender)))"
   ]
  },
  {
   "cell_type": "markdown",
   "id": "fccd03a1-dbfe-44d5-a451-c9c36e5dd7af",
   "metadata": {},
   "source": [
    "***\n",
    "### 5.4 _Implement the training loop_"
   ]
  },
  {
   "cell_type": "markdown",
   "id": "4f4bf9ea-3a7b-4d2d-a352-26ead6360ca4",
   "metadata": {},
   "source": [
    "The DataLoader class in PyTorch is usefull to split the dataset into batches.<br>\n",
    "It also convert the individual targets to tensors that can be used directly by the loss function"
   ]
  },
  {
   "cell_type": "markdown",
   "id": "756a57fb-30e1-42c3-9683-9cbf286dd313",
   "metadata": {},
   "source": [
    "#### Run one *epoch* of training"
   ]
  },
  {
   "cell_type": "code",
   "execution_count": 82,
   "id": "8e50e8e5-260c-4c9b-9b3f-4a5366c4291d",
   "metadata": {},
   "outputs": [
    {
     "name": "stdout",
     "output_type": "stream",
     "text": [
      "[0] Loss 4.61580658\n",
      "[100] Loss 4.60999680\n",
      "[200] Loss 4.60738468\n",
      "[300] Loss 4.58368683\n"
     ]
    }
   ],
   "source": [
    "starter.record()\n",
    "trn_loss = []\n",
    "for i, (x, t) in enumerate(cifar_loader):\n",
    "    optimizer.zero_grad()\n",
    "    \n",
    "    x = x.cuda()\n",
    "    t = t.cuda()\n",
    "    \n",
    "    y = net(x)\n",
    "    \n",
    "    loss = criterion(y, t)\n",
    "    \n",
    "    loss.backward()\n",
    "    \n",
    "    trn_loss.append(loss.item())\n",
    "    \n",
    "    optimizer.step()\n",
    "    \n",
    "    if i % 100 == 0:\n",
    "        print('[%i] Loss %.8f' % (i, loss))\n",
    "        \n",
    "ender.record()\n",
    "torch.cuda.synchronize()"
   ]
  },
  {
   "cell_type": "code",
   "execution_count": 83,
   "id": "4ad25d6d-013a-4ace-ab89-0917451450cd",
   "metadata": {},
   "outputs": [
    {
     "data": {
      "text/plain": [
       "8.3254638671875"
      ]
     },
     "execution_count": 83,
     "metadata": {},
     "output_type": "execute_result"
    }
   ],
   "source": [
    "starter.elapsed_time(ender) / 1000"
   ]
  },
  {
   "cell_type": "code",
   "execution_count": 84,
   "id": "2e51dfe8-7c57-43f1-80a1-690e4115d84c",
   "metadata": {},
   "outputs": [
    {
     "data": {
      "text/plain": [
       "[<matplotlib.lines.Line2D at 0x2aab450e4970>]"
      ]
     },
     "execution_count": 84,
     "metadata": {},
     "output_type": "execute_result"
    },
    {
     "data": {
      "image/png": "[encoded data removed]",
      "text/plain": [
       "<Figure size 432x288 with 1 Axes>"
      ]
     },
     "metadata": {
      "needs_background": "light"
     },
     "output_type": "display_data"
    }
   ],
   "source": [
    "plt.plot(trn_loss)"
   ]
  },
  {
   "cell_type": "markdown",
   "id": "69e4e5c2-1321-4049-9446-1fd860561a21",
   "metadata": {},
   "source": [
    "#### Run several *epochs*"
   ]
  },
  {
   "cell_type": "code",
   "execution_count": 85,
   "id": "f73264f5-67a0-40e4-8b38-1c90caed3a99",
   "metadata": {
    "tags": []
   },
   "outputs": [
    {
     "name": "stdout",
     "output_type": "stream",
     "text": [
      "[Epoch 00] 4.22050981\n",
      "[Epoch 01] 4.05877465\n",
      "[Epoch 02] 3.98134269\n",
      "[Epoch 03] 3.92504284\n",
      "[Epoch 04] 3.87726392\n",
      "[Epoch 05] 3.83519708\n",
      "[Epoch 06] 3.79661869\n",
      "[Epoch 07] 3.75771317\n",
      "[Epoch 08] 3.72181185\n",
      "[Epoch 09] 3.68597978\n"
     ]
    }
   ],
   "source": [
    "trn_loss = []\n",
    "net.train()\n",
    "\n",
    "starter.record()\n",
    "\n",
    "for e  in range(10):\n",
    "    avg_loss = 0\n",
    "    for i, (x, t) in enumerate(cifar_loader):\n",
    "        optimizer.zero_grad()\n",
    "\n",
    "        x = x.cuda()\n",
    "        t = t.cuda()\n",
    "        \n",
    "        y = net(x)\n",
    "\n",
    "        loss = criterion(y, t)\n",
    "\n",
    "        loss.backward()\n",
    "        \n",
    "        avg_loss += loss.item()\n",
    "        trn_loss.append(loss.item())\n",
    "\n",
    "        optimizer.step()\n",
    "    \n",
    "    avg_loss = avg_loss / len(cifar_loader)\n",
    "    print('[Epoch %02i] %.8f' % (e, avg_loss))\n",
    "\n",
    "ender.record()\n",
    "torch.cuda.synchronize()"
   ]
  },
  {
   "cell_type": "code",
   "execution_count": 86,
   "id": "5c4bfb74-42dd-47e3-a252-ddeef6dd61fb",
   "metadata": {},
   "outputs": [
    {
     "data": {
      "text/plain": [
       "86.3834609375"
      ]
     },
     "execution_count": 86,
     "metadata": {},
     "output_type": "execute_result"
    }
   ],
   "source": [
    "starter.elapsed_time(ender) / 1000"
   ]
  },
  {
   "cell_type": "code",
   "execution_count": 87,
   "id": "d0b9a845-cfb0-47a4-8a5c-63a6cb3b3b4f",
   "metadata": {},
   "outputs": [
    {
     "data": {
      "text/plain": [
       "[<matplotlib.lines.Line2D at 0x2aab473a5340>]"
      ]
     },
     "execution_count": 87,
     "metadata": {},
     "output_type": "execute_result"
    },
    {
     "data": {
      "image/png": "[encoded data removed]",
      "text/plain": [
       "<Figure size 432x288 with 1 Axes>"
      ]
     },
     "metadata": {
      "needs_background": "light"
     },
     "output_type": "display_data"
    }
   ],
   "source": [
    "plt.plot(trn_loss)"
   ]
  },
  {
   "cell_type": "markdown",
   "id": "2cde7592-0182-4bd1-9149-09e39d02e87c",
   "metadata": {},
   "source": [
    "#### Save the trained model (checkpoint)"
   ]
  },
  {
   "cell_type": "code",
   "execution_count": 104,
   "id": "4747d070-9288-4bca-aea1-82f797cd4db4",
   "metadata": {},
   "outputs": [],
   "source": [
    "torch.save(net.state_dict(), 'lenet_20220420.pth')"
   ]
  },
  {
   "cell_type": "markdown",
   "id": "2198b928-2b30-49b8-b6cb-c3affee87b17",
   "metadata": {
    "jupyter": {
     "source_hidden": true
    },
    "tags": []
   },
   "source": [
    "***\n",
    "#### Test the trained model\n",
    "Use the test partition of the CIFAR 100 dataset"
   ]
  },
  {
   "cell_type": "code",
   "execution_count": 105,
   "id": "ee59c010-1989-409a-b4ae-2ec101dcb245",
   "metadata": {
    "jupyter": {
     "source_hidden": true
    },
    "tags": []
   },
   "outputs": [],
   "source": [
    "cifar_tst_dataset = CIFAR100(root='/home/cervaf/data', download=False, train=False, transform=cifar_transform)\n",
    "cifar_tst_loader = DataLoader(cifar_tst_dataset, batch_size=128, shuffle=False, pin_memory=True)"
   ]
  },
  {
   "cell_type": "code",
   "execution_count": 106,
   "id": "13c498ae-4b60-49bd-9552-b8d99370efda",
   "metadata": {
    "jupyter": {
     "source_hidden": true
    },
    "tags": []
   },
   "outputs": [],
   "source": [
    "import sklearn.metrics\n",
    "import numpy as np"
   ]
  },
  {
   "cell_type": "code",
   "execution_count": 154,
   "id": "34ef41bd-44cc-455a-91b0-a48c2620d8e4",
   "metadata": {
    "jupyter": {
     "source_hidden": true
    },
    "tags": []
   },
   "outputs": [],
   "source": [
    "# Load the checkpoint\n",
    "state_dict = torch.load('lenet_20220420.pth')"
   ]
  },
  {
   "cell_type": "code",
   "execution_count": 155,
   "id": "493c8ff2-176c-4f6f-92f9-cf2d5ba33cd7",
   "metadata": {
    "collapsed": true,
    "jupyter": {
     "outputs_hidden": true,
     "source_hidden": true
    },
    "tags": []
   },
   "outputs": [
    {
     "name": "stdout",
     "output_type": "stream",
     "text": [
      "embedding.weight\n",
      "bn.weight\n",
      "bn.bias\n",
      "bn.running_mean\n",
      "bn.running_var\n",
      "bn.num_batches_tracked\n",
      "layers.0.conv_1.weight\n",
      "layers.0.downsample.weight\n",
      "layers.0.bn1.weight\n",
      "layers.0.bn1.bias\n",
      "layers.0.bn1.running_mean\n",
      "layers.0.bn1.running_var\n",
      "layers.0.bn1.num_batches_tracked\n",
      "layers.0.conv_2.weight\n",
      "layers.0.bn2.weight\n",
      "layers.0.bn2.bias\n",
      "layers.0.bn2.running_mean\n",
      "layers.0.bn2.running_var\n",
      "layers.0.bn2.num_batches_tracked\n",
      "layers.1.conv_1.weight\n",
      "layers.1.bn1.weight\n",
      "layers.1.bn1.bias\n",
      "layers.1.bn1.running_mean\n",
      "layers.1.bn1.running_var\n",
      "layers.1.bn1.num_batches_tracked\n",
      "layers.1.conv_2.weight\n",
      "layers.1.bn2.weight\n",
      "layers.1.bn2.bias\n",
      "layers.1.bn2.running_mean\n",
      "layers.1.bn2.running_var\n",
      "layers.1.bn2.num_batches_tracked\n",
      "layers.2.conv_1.weight\n",
      "layers.2.downsample.weight\n",
      "layers.2.bn1.weight\n",
      "layers.2.bn1.bias\n",
      "layers.2.bn1.running_mean\n",
      "layers.2.bn1.running_var\n",
      "layers.2.bn1.num_batches_tracked\n",
      "layers.2.conv_2.weight\n",
      "layers.2.bn2.weight\n",
      "layers.2.bn2.bias\n",
      "layers.2.bn2.running_mean\n",
      "layers.2.bn2.running_var\n",
      "layers.2.bn2.num_batches_tracked\n",
      "layers.3.conv_1.weight\n",
      "layers.3.bn1.weight\n",
      "layers.3.bn1.bias\n",
      "layers.3.bn1.running_mean\n",
      "layers.3.bn1.running_var\n",
      "layers.3.bn1.num_batches_tracked\n",
      "layers.3.conv_2.weight\n",
      "layers.3.bn2.weight\n",
      "layers.3.bn2.bias\n",
      "layers.3.bn2.running_mean\n",
      "layers.3.bn2.running_var\n",
      "layers.3.bn2.num_batches_tracked\n",
      "layers.4.conv_1.weight\n",
      "layers.4.downsample.weight\n",
      "layers.4.bn1.weight\n",
      "layers.4.bn1.bias\n",
      "layers.4.bn1.running_mean\n",
      "layers.4.bn1.running_var\n",
      "layers.4.bn1.num_batches_tracked\n",
      "layers.4.conv_2.weight\n",
      "layers.4.bn2.weight\n",
      "layers.4.bn2.bias\n",
      "layers.4.bn2.running_mean\n",
      "layers.4.bn2.running_var\n",
      "layers.4.bn2.num_batches_tracked\n",
      "layers.5.conv_1.weight\n",
      "layers.5.bn1.weight\n",
      "layers.5.bn1.bias\n",
      "layers.5.bn1.running_mean\n",
      "layers.5.bn1.running_var\n",
      "layers.5.bn1.num_batches_tracked\n",
      "layers.5.conv_2.weight\n",
      "layers.5.bn2.weight\n",
      "layers.5.bn2.bias\n",
      "layers.5.bn2.running_mean\n",
      "layers.5.bn2.running_var\n",
      "layers.5.bn2.num_batches_tracked\n",
      "layers.6.conv_1.weight\n",
      "layers.6.downsample.weight\n",
      "layers.6.bn1.weight\n",
      "layers.6.bn1.bias\n",
      "layers.6.bn1.running_mean\n",
      "layers.6.bn1.running_var\n",
      "layers.6.bn1.num_batches_tracked\n",
      "layers.6.conv_2.weight\n",
      "layers.6.bn2.weight\n",
      "layers.6.bn2.bias\n",
      "layers.6.bn2.running_mean\n",
      "layers.6.bn2.running_var\n",
      "layers.6.bn2.num_batches_tracked\n",
      "layers.7.conv_1.weight\n",
      "layers.7.bn1.weight\n",
      "layers.7.bn1.bias\n",
      "layers.7.bn1.running_mean\n",
      "layers.7.bn1.running_var\n",
      "layers.7.bn1.num_batches_tracked\n",
      "layers.7.conv_2.weight\n",
      "layers.7.bn2.weight\n",
      "layers.7.bn2.bias\n",
      "layers.7.bn2.running_mean\n",
      "layers.7.bn2.running_var\n",
      "layers.7.bn2.num_batches_tracked\n",
      "fc.weight\n",
      "fc.bias\n"
     ]
    }
   ],
   "source": [
    "for k in state_dict.keys():\n",
    "    print(k)"
   ]
  },
  {
   "cell_type": "code",
   "execution_count": 156,
   "id": "41a30fa8-0d10-46f0-9404-8f2571504a72",
   "metadata": {
    "jupyter": {
     "source_hidden": true
    },
    "tags": []
   },
   "outputs": [],
   "source": [
    "# Create a new network object\n",
    "test_net = LeNet(in_channels=3, num_classes=100)"
   ]
  },
  {
   "cell_type": "code",
   "execution_count": 157,
   "id": "4ec51378-b4e1-4061-b34a-10e7135c5f3b",
   "metadata": {
    "collapsed": true,
    "jupyter": {
     "outputs_hidden": true,
     "source_hidden": true
    },
    "tags": []
   },
   "outputs": [
    {
     "data": {
      "text/plain": [
       "<All keys matched successfully>"
      ]
     },
     "execution_count": 157,
     "metadata": {},
     "output_type": "execute_result"
    }
   ],
   "source": [
    "# Load the trained weights\n",
    "test_net.load_state_dict(state_dict)"
   ]
  },
  {
   "cell_type": "markdown",
   "id": "b697691f-4195-43a1-8ed2-cc15fd8a7231",
   "metadata": {
    "jupyter": {
     "source_hidden": true
    },
    "tags": []
   },
   "source": [
    "#### Test the accuracy of the trained network"
   ]
  },
  {
   "cell_type": "code",
   "execution_count": 158,
   "id": "22795fcf-2837-4001-887d-5c8b492dcd7b",
   "metadata": {
    "collapsed": true,
    "jupyter": {
     "outputs_hidden": true,
     "source_hidden": true
    },
    "tags": []
   },
   "outputs": [
    {
     "name": "stdout",
     "output_type": "stream",
     "text": [
      "Average test loss 4.78111167, average accuracy 46.62 %, average accuracy@5 73.20 %, average accuracy@10 82.53 %\n"
     ]
    }
   ],
   "source": [
    "tst_avg_loss = 0\n",
    "tst_avg_acc = 0\n",
    "tst_avg_acc_5 = 0\n",
    "tst_avg_acc_10 = 0\n",
    "\n",
    "test_net.cuda()\n",
    "test_net.eval()\n",
    "\n",
    "for i, (x, t) in enumerate(cifar_tst_loader):\n",
    "    with torch.no_grad():\n",
    "        x = x.cuda()\n",
    "        t = t.cuda()\n",
    "        \n",
    "        y = test_net(x)\n",
    "        loss = criterion(y, t)\n",
    "    \n",
    "    tst_avg_loss += loss.item()\n",
    "\n",
    "    tst_avg_acc += sklearn.metrics.accuracy_score(t.cpu().numpy(), y.cpu().argmax(dim=1).numpy(), normalize=False)\n",
    "    tst_avg_acc_5 += sklearn.metrics.top_k_accuracy_score(t.cpu().numpy(), y.cpu().numpy(), k=5, labels=np.arange(100), normalize=False)\n",
    "    tst_avg_acc_10 += sklearn.metrics.top_k_accuracy_score(t.cpu().numpy(), y.cpu().numpy(), k=10, labels=np.arange(100), normalize=False)\n",
    "\n",
    "tst_avg_loss = tst_avg_loss / len(cifar_tst_loader)\n",
    "tst_avg_acc = tst_avg_acc / len(cifar_tst_dataset) * 100\n",
    "tst_avg_acc_5 = tst_avg_acc_5 / len(cifar_tst_dataset) * 100\n",
    "tst_avg_acc_10 = tst_avg_acc_10 / len(cifar_tst_dataset) * 100\n",
    "print('Average test loss %.8f, average accuracy %.2f %%, average accuracy@5 %.2f %%, average accuracy@10 %.2f %%' % (tst_avg_loss, tst_avg_acc, tst_avg_acc_5, tst_avg_acc_10))"
   ]
  },
  {
   "cell_type": "markdown",
   "id": "6b3cdbe9-4df9-490d-9b43-20aa52593ae7",
   "metadata": {
    "jupyter": {
     "source_hidden": true
    },
    "tags": []
   },
   "source": [
    "Check with a sample image from the training set"
   ]
  },
  {
   "cell_type": "code",
   "execution_count": 159,
   "id": "db1af41c-1259-463d-87a2-82702a6ef650",
   "metadata": {
    "jupyter": {
     "source_hidden": true
    },
    "tags": []
   },
   "outputs": [],
   "source": [
    "x, t = cifar_trn_dataset[100]\n",
    "x = x.cuda()\n",
    "y = test_net(x.view(1, 3, 32, 32))"
   ]
  },
  {
   "cell_type": "code",
   "execution_count": 160,
   "id": "09c341d8-f37a-4344-be88-656e6e2669d3",
   "metadata": {},
   "outputs": [
    {
     "data": {
      "image/png": "[encoded data removed]",
      "text/plain": [
       "<Figure size 432x288 with 1 Axes>"
      ]
     },
     "metadata": {
      "needs_background": "light"
     },
     "output_type": "display_data"
    }
   ],
   "source": [
    "plt.imshow(x.cpu().permute(1, 2, 0))\n",
    "plt.title('Real %i (%.2f %%), Predicted %i (%.2f %%)' % (t, torch.softmax(y, dim=1)[0, t].item() * 100, y.cpu().argmax(dim=1)[0].item(), torch.softmax(y, dim=1).max().item() * 100))\n",
    "plt.show()"
   ]
  },
  {
   "cell_type": "markdown",
   "id": "b48001d9-8d3e-4d35-8a4a-3c3b4b668457",
   "metadata": {},
   "source": [
    "Check the labels [here](https://huggingface.co/datasets/cifar100)"
   ]
  },
  {
   "cell_type": "markdown",
   "id": "3b341f7d-55c7-4817-9467-aa9eca701f13",
   "metadata": {},
   "source": [
    "Check one image from the test set"
   ]
  },
  {
   "cell_type": "code",
   "execution_count": 189,
   "id": "57f5b239-30fa-4334-ac55-19fa2df79fe4",
   "metadata": {
    "jupyter": {
     "source_hidden": true
    },
    "tags": []
   },
   "outputs": [],
   "source": [
    "x, t = cifar_tst_dataset[5550]\n",
    "x = x.cuda()\n",
    "y = test_net(x.view(1, 3, 32, 32))"
   ]
  },
  {
   "cell_type": "code",
   "execution_count": 190,
   "id": "eaecbe78-c3aa-44a4-b297-b05aa48250f6",
   "metadata": {
    "collapsed": true,
    "jupyter": {
     "outputs_hidden": true,
     "source_hidden": true
    },
    "tags": []
   },
   "outputs": [
    {
     "data": {
      "image/png": "[encoded data removed]",
      "text/plain": [
       "<Figure size 432x288 with 1 Axes>"
      ]
     },
     "metadata": {
      "needs_background": "light"
     },
     "output_type": "display_data"
    }
   ],
   "source": [
    "plt.imshow(x.cpu().permute(1, 2, 0))\n",
    "plt.title('Real %i (%.2f %%), Predicted %i (%.2f %%)' % (t, torch.softmax(y, dim=1)[0, t].item() * 100, y.cpu().argmax(dim=1)[0].item(), torch.softmax(y, dim=1).max().item() * 100))\n",
    "plt.show()"
   ]
  },
  {
   "cell_type": "code",
   "execution_count": null,
   "id": "09875a83-ecbd-4bdd-8c07-ec90e9e92b66",
   "metadata": {},
   "outputs": [],
   "source": []
  }
 ],
 "metadata": {
  "kernelspec": {
   "display_name": "Python 3 (ipykernel)",
   "language": "python",
   "name": "python3"
  },
  "language_info": {
   "codemirror_mode": {
    "name": "ipython",
    "version": 3
   },
   "file_extension": ".py",
   "mimetype": "text/x-python",
   "name": "python",
   "nbconvert_exporter": "python",
   "pygments_lexer": "ipython3",
   "version": "3.9.10"
  }
 },
 "nbformat": 4,
 "nbformat_minor": 5
}
