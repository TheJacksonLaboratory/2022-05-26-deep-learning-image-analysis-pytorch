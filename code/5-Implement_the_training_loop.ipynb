{
 "cells": [
  {
   "cell_type": "markdown",
   "id": "177db554-5724-456f-9889-e63382b7c40a",
   "metadata": {},
   "source": [
    "# **Deep learning for image analysis with Python**"
   ]
  },
  {
   "cell_type": "markdown",
   "id": "34661982-88ba-41d0-b84d-04f47dbd478b",
   "metadata": {},
   "source": [
    "#### Fernando Cervantes, Systems Analyst I, Imaging Solutions, Research IT\n",
    "#### fernando.cervantes@jax.org    (slack) @fernando.cervantes"
   ]
  },
  {
   "cell_type": "markdown",
   "id": "a6dfa69a-253b-4de8-b057-8c6fe131ffed",
   "metadata": {},
   "source": [
    "## 5 Implement the training loop"
   ]
  },
  {
   "cell_type": "markdown",
   "id": "94c55f70-f389-4082-a1d3-0e14262a5310",
   "metadata": {},
   "source": [
    "### 5.1 _Data preparation_"
   ]
  },
  {
   "cell_type": "markdown",
   "id": "635cd20f-a6fd-49ce-8570-bbfaebe4d1bd",
   "metadata": {},
   "source": [
    "Using the *torchvision* library, pull the CIFAR 100 dataset.<br>\n",
    "We'll need to transform images from this dataset from PIL Images to PyTorch tensors."
   ]
  },
  {
   "cell_type": "code",
   "execution_count": 45,
   "id": "38077afa-c02a-48a8-bd95-31bba43c126a",
   "metadata": {},
   "outputs": [],
   "source": [
    "from torchvision.datasets import CIFAR100\n",
    "from torch.utils.data import DataLoader\n",
    "from torchvision.transforms import ToTensor"
   ]
  },
  {
   "cell_type": "code",
   "execution_count": 46,
   "id": "d12fc47d-4600-464d-9901-7f690506eeb3",
   "metadata": {
    "tags": []
   },
   "outputs": [],
   "source": [
    "cifar_data = CIFAR100(root=r'C:\\Users\\cervaf\\Documents\\Datasets',\n",
    "                             download=False,\n",
    "                             train=True,\n",
    "                             transform=ToTensor()\n",
    "                            )"
   ]
  },
  {
   "cell_type": "code",
   "execution_count": 47,
   "id": "0c2c1592-8396-47e3-b4f2-29e9c5550b23",
   "metadata": {},
   "outputs": [],
   "source": [
    "cifar_loader = DataLoader(cifar_data,\n",
    "                              batch_size=128,\n",
    "                              shuffle=True,\n",
    "                              pin_memory=True\n",
    "                             )"
   ]
  },
  {
   "cell_type": "code",
   "execution_count": 48,
   "id": "2d163500-5833-48d4-b99f-93c86726ceb2",
   "metadata": {},
   "outputs": [
    {
     "name": "stdout",
     "output_type": "stream",
     "text": [
      "Dataset size: 50000\n",
      "DataLoader size: 391\n"
     ]
    }
   ],
   "source": [
    "print('Dataset size:', len(cifar_data))\n",
    "print('DataLoader size:', len(cifar_loader))"
   ]
  },
  {
   "cell_type": "markdown",
   "id": "70120a47-90be-47eb-a51c-aa30f39dd2ff",
   "metadata": {},
   "source": [
    "Plot some of the CIFAR labeled examples. Check [here](https://huggingface.co/datasets/cifar100) the labels"
   ]
  },
  {
   "cell_type": "code",
   "execution_count": 49,
   "id": "7a76a5a3-c99e-4ba1-b720-edc0e674c808",
   "metadata": {},
   "outputs": [
    {
     "name": "stdout",
     "output_type": "stream",
     "text": [
      "torch.Size([3, 32, 32])\n"
     ]
    },
    {
     "data": {
      "image/png": "[encoded data removed]",
      "text/plain": [
       "<Figure size 432x288 with 2 Axes>"
      ]
     },
     "metadata": {
      "needs_background": "light"
     },
     "output_type": "display_data"
    }
   ],
   "source": [
    "import matplotlib.pyplot as plt\n",
    "\n",
    "x, t = cifar_data[10000]\n",
    "print(x.size())\n",
    "plt.imshow(x.permute(1, 2, 0))\n",
    "plt.title(t)\n",
    "plt.colorbar()\n",
    "plt.show()"
   ]
  },
  {
   "cell_type": "markdown",
   "id": "0980f188-9be7-4987-a215-3ec009fa9fbb",
   "metadata": {},
   "source": [
    "***\n",
    "### 5.2 _Network preparation_"
   ]
  },
  {
   "cell_type": "markdown",
   "id": "7d37a6a1-0696-4d3a-9642-de96f31c2d8a",
   "metadata": {},
   "source": [
    "Implement a Residual Network ([ResNet](https://arxiv.org/pdf/1512.03385.pdf))<br>\n",
    "The torchvision module from pytorch provides models that have been pre-trained with the ImageNet dataset (1.2 million images natural images for training, with 1000 different classes)<br>\n",
    "This is usefull for *transfer the learning* to other applications, or use those as *warmed-up* models, instead of random initialization of the weights.<br>\n",
    "However, the architecture is fixed to work with input images of $224\\times224$ pixels with $3$ channels (RBG), and output $1000$ classes.<br>\n",
    "For our example with the CIFAR 100 dataset, that is composed by images of $32\\times32$ pixesl in RGB, and only has $100$ classes, thre pre-trained models won't be usefull.\n"
   ]
  },
  {
   "cell_type": "code",
   "execution_count": 50,
   "id": "0aa14287-1fa4-41a4-b5f0-8699c7d3f554",
   "metadata": {},
   "outputs": [],
   "source": [
    "import torchvision.models as models"
   ]
  },
  {
   "cell_type": "code",
   "execution_count": 51,
   "id": "66b166ad-27b1-4e89-b216-856b283d720d",
   "metadata": {
    "tags": []
   },
   "outputs": [
    {
     "name": "stdout",
     "output_type": "stream",
     "text": [
      "ResNet(\n",
      "  (conv1): Conv2d(3, 64, kernel_size=(7, 7), stride=(2, 2), padding=(3, 3), bias=False)\n",
      "  (bn1): BatchNorm2d(64, eps=1e-05, momentum=0.1, affine=True, track_running_stats=True)\n",
      "  (relu): ReLU(inplace=True)\n",
      "  (maxpool): MaxPool2d(kernel_size=3, stride=2, padding=1, dilation=1, ceil_mode=False)\n",
      "  (layer1): Sequential(\n",
      "    (0): BasicBlock(\n",
      "      (conv1): Conv2d(64, 64, kernel_size=(3, 3), stride=(1, 1), padding=(1, 1), bias=False)\n",
      "      (bn1): BatchNorm2d(64, eps=1e-05, momentum=0.1, affine=True, track_running_stats=True)\n",
      "      (relu): ReLU(inplace=True)\n",
      "      (conv2): Conv2d(64, 64, kernel_size=(3, 3), stride=(1, 1), padding=(1, 1), bias=False)\n",
      "      (bn2): BatchNorm2d(64, eps=1e-05, momentum=0.1, affine=True, track_running_stats=True)\n",
      "    )\n",
      "    (1): BasicBlock(\n",
      "      (conv1): Conv2d(64, 64, kernel_size=(3, 3), stride=(1, 1), padding=(1, 1), bias=False)\n",
      "      (bn1): BatchNorm2d(64, eps=1e-05, momentum=0.1, affine=True, track_running_stats=True)\n",
      "      (relu): ReLU(inplace=True)\n",
      "      (conv2): Conv2d(64, 64, kernel_size=(3, 3), stride=(1, 1), padding=(1, 1), bias=False)\n",
      "      (bn2): BatchNorm2d(64, eps=1e-05, momentum=0.1, affine=True, track_running_stats=True)\n",
      "    )\n",
      "  )\n",
      "  (layer2): Sequential(\n",
      "    (0): BasicBlock(\n",
      "      (conv1): Conv2d(64, 128, kernel_size=(3, 3), stride=(2, 2), padding=(1, 1), bias=False)\n",
      "      (bn1): BatchNorm2d(128, eps=1e-05, momentum=0.1, affine=True, track_running_stats=True)\n",
      "      (relu): ReLU(inplace=True)\n",
      "      (conv2): Conv2d(128, 128, kernel_size=(3, 3), stride=(1, 1), padding=(1, 1), bias=False)\n",
      "      (bn2): BatchNorm2d(128, eps=1e-05, momentum=0.1, affine=True, track_running_stats=True)\n",
      "      (downsample): Sequential(\n",
      "        (0): Conv2d(64, 128, kernel_size=(1, 1), stride=(2, 2), bias=False)\n",
      "        (1): BatchNorm2d(128, eps=1e-05, momentum=0.1, affine=True, track_running_stats=True)\n",
      "      )\n",
      "    )\n",
      "    (1): BasicBlock(\n",
      "      (conv1): Conv2d(128, 128, kernel_size=(3, 3), stride=(1, 1), padding=(1, 1), bias=False)\n",
      "      (bn1): BatchNorm2d(128, eps=1e-05, momentum=0.1, affine=True, track_running_stats=True)\n",
      "      (relu): ReLU(inplace=True)\n",
      "      (conv2): Conv2d(128, 128, kernel_size=(3, 3), stride=(1, 1), padding=(1, 1), bias=False)\n",
      "      (bn2): BatchNorm2d(128, eps=1e-05, momentum=0.1, affine=True, track_running_stats=True)\n",
      "    )\n",
      "  )\n",
      "  (layer3): Sequential(\n",
      "    (0): BasicBlock(\n",
      "      (conv1): Conv2d(128, 256, kernel_size=(3, 3), stride=(2, 2), padding=(1, 1), bias=False)\n",
      "      (bn1): BatchNorm2d(256, eps=1e-05, momentum=0.1, affine=True, track_running_stats=True)\n",
      "      (relu): ReLU(inplace=True)\n",
      "      (conv2): Conv2d(256, 256, kernel_size=(3, 3), stride=(1, 1), padding=(1, 1), bias=False)\n",
      "      (bn2): BatchNorm2d(256, eps=1e-05, momentum=0.1, affine=True, track_running_stats=True)\n",
      "      (downsample): Sequential(\n",
      "        (0): Conv2d(128, 256, kernel_size=(1, 1), stride=(2, 2), bias=False)\n",
      "        (1): BatchNorm2d(256, eps=1e-05, momentum=0.1, affine=True, track_running_stats=True)\n",
      "      )\n",
      "    )\n",
      "    (1): BasicBlock(\n",
      "      (conv1): Conv2d(256, 256, kernel_size=(3, 3), stride=(1, 1), padding=(1, 1), bias=False)\n",
      "      (bn1): BatchNorm2d(256, eps=1e-05, momentum=0.1, affine=True, track_running_stats=True)\n",
      "      (relu): ReLU(inplace=True)\n",
      "      (conv2): Conv2d(256, 256, kernel_size=(3, 3), stride=(1, 1), padding=(1, 1), bias=False)\n",
      "      (bn2): BatchNorm2d(256, eps=1e-05, momentum=0.1, affine=True, track_running_stats=True)\n",
      "    )\n",
      "  )\n",
      "  (layer4): Sequential(\n",
      "    (0): BasicBlock(\n",
      "      (conv1): Conv2d(256, 512, kernel_size=(3, 3), stride=(2, 2), padding=(1, 1), bias=False)\n",
      "      (bn1): BatchNorm2d(512, eps=1e-05, momentum=0.1, affine=True, track_running_stats=True)\n",
      "      (relu): ReLU(inplace=True)\n",
      "      (conv2): Conv2d(512, 512, kernel_size=(3, 3), stride=(1, 1), padding=(1, 1), bias=False)\n",
      "      (bn2): BatchNorm2d(512, eps=1e-05, momentum=0.1, affine=True, track_running_stats=True)\n",
      "      (downsample): Sequential(\n",
      "        (0): Conv2d(256, 512, kernel_size=(1, 1), stride=(2, 2), bias=False)\n",
      "        (1): BatchNorm2d(512, eps=1e-05, momentum=0.1, affine=True, track_running_stats=True)\n",
      "      )\n",
      "    )\n",
      "    (1): BasicBlock(\n",
      "      (conv1): Conv2d(512, 512, kernel_size=(3, 3), stride=(1, 1), padding=(1, 1), bias=False)\n",
      "      (bn1): BatchNorm2d(512, eps=1e-05, momentum=0.1, affine=True, track_running_stats=True)\n",
      "      (relu): ReLU(inplace=True)\n",
      "      (conv2): Conv2d(512, 512, kernel_size=(3, 3), stride=(1, 1), padding=(1, 1), bias=False)\n",
      "      (bn2): BatchNorm2d(512, eps=1e-05, momentum=0.1, affine=True, track_running_stats=True)\n",
      "    )\n",
      "  )\n",
      "  (avgpool): AdaptiveAvgPool2d(output_size=(1, 1))\n",
      "  (fc): Linear(in_features=512, out_features=1000, bias=True)\n",
      ")\n"
     ]
    }
   ],
   "source": [
    "print(models.resnet18())"
   ]
  },
  {
   "cell_type": "markdown",
   "id": "7315c626-cbff-4441-a675-ee64fc3bd50b",
   "metadata": {},
   "source": [
    "Lets use our LeNet network that we implemented as a custom pytorch Module"
   ]
  },
  {
   "cell_type": "code",
   "execution_count": 63,
   "id": "7207aa5d-6a70-4953-aa0f-54b3657f25f7",
   "metadata": {},
   "outputs": [],
   "source": [
    "import torch\n",
    "import torch.nn as nn\n",
    "\n",
    "\n",
    "class LeNet(nn.Module):\n",
    "    def __init__(self, in_channels=1, num_classes=10):\n",
    "        \"\"\"\n",
    "        Always call the initialization function from the nn.Module parent class.\n",
    "        This way all parameters from the operations defined as members of *this* class are tracked for their optimization.\n",
    "        \"\"\"\n",
    "        super(LeNet, self).__init__()\n",
    "        \n",
    "        self.conv_1 = nn.Conv2d(in_channels=in_channels, out_channels=6, kernel_size=5)\n",
    "        self.sub_1 = nn.MaxPool2d(kernel_size=2, stride=2)\n",
    "        \n",
    "        self.conv_2 = nn.Conv2d(in_channels=6, out_channels=16, kernel_size=5)\n",
    "        self.sub_2 = nn.MaxPool2d(kernel_size=2, stride=2)\n",
    "        \n",
    "        self.fc_1 = nn.Linear(in_features=5*5*16, out_features=120)\n",
    "        self.fc_2 = nn.Linear(in_features=120, out_features=84)\n",
    "        self.fc_3 = nn.Linear(in_features=84, out_features=num_classes)\n",
    "        \n",
    "        self.act_fn = nn.ReLU()\n",
    "\n",
    "    def forward(self, x):\n",
    "        # Apply convolution layers to extract feature maps with image context\n",
    "        fx = self.act_fn(self.conv_1(x))\n",
    "        fx = self.sub_1(fx)\n",
    "        \n",
    "        fx = self.act_fn(self.conv_2(fx))\n",
    "        fx = self.sub_2(fx)\n",
    "        \n",
    "        # Flatten the feature maps to perform linear operations\n",
    "        fx = fx.view(-1, 16*5*5)\n",
    "        \n",
    "        fx = self.act_fn(self.fc_1(fx))\n",
    "        fx = self.act_fn(self.fc_2(fx))\n",
    "        y = self.fc_3(fx)\n",
    "        \n",
    "        return y"
   ]
  },
  {
   "cell_type": "markdown",
   "id": "902c2359-6936-4c6e-8bb2-8990285bb88c",
   "metadata": {
    "jupyter": {
     "source_hidden": true
    },
    "tags": []
   },
   "source": [
    "Alternatively, we can define the layers of our network using the Sequential function to reduce the code in the forward pass"
   ]
  },
  {
   "cell_type": "code",
   "execution_count": 73,
   "id": "98b8b7d8-069d-4088-82bc-bfa43f176e63",
   "metadata": {
    "jupyter": {
     "source_hidden": true
    },
    "tags": []
   },
   "outputs": [],
   "source": [
    "class LeNet(nn.Module):\n",
    "    def __init__(self, in_channels=1, num_classes=10):\n",
    "        \"\"\"\n",
    "        Always call the initialization function from the nn.Module parent class.\n",
    "        This way all parameters from the operations defined as members of *this* class are tracked for their optimization.\n",
    "        \"\"\"\n",
    "        super(LeNet, self).__init__()\n",
    "        \n",
    "        self.layer_1 = nn.Sequential(\n",
    "            nn.Conv2d(in_channels=in_channels, out_channels=6, kernel_size=5, stride=1, padding=0, bias=False),\n",
    "            nn.ReLU(),\n",
    "            nn.MaxPool2d(kernel_size=2, stride=2, padding=0)\n",
    "        )\n",
    "        \n",
    "        self.layer_2 = nn.Sequential(\n",
    "            nn.Conv2d(in_channels=6, out_channels=16, kernel_size=5, stride=1, padding=0, bias=False),\n",
    "            nn.ReLU(),\n",
    "            nn.MaxPool2d(kernel_size=2, stride=2, padding=0)\n",
    "        )\n",
    "        \n",
    "        self.layer_fc = nn.Sequential(\n",
    "            nn.Linear(in_features=5*5*16, out_features=120, bias=True),\n",
    "            nn.ReLU(),\n",
    "            nn.Linear(in_features=120, out_features=84, bias=True),\n",
    "            nn.ReLU(),        \n",
    "            nn.Linear(in_features=84, out_features=num_classes, bias=True)\n",
    "        )\n",
    "\n",
    "    def forward(self, x):    \n",
    "        fx = self.layer_1(x) \n",
    "        fx = self.layer_2(x)\n",
    "\n",
    "        fx = fx.flatten()\n",
    "\n",
    "        logits = self.layer_fc(x)\n",
    "        \n",
    "        return logits\n"
   ]
  },
  {
   "cell_type": "markdown",
   "id": "b375085a-01dd-4f74-928d-9416babf96d9",
   "metadata": {
    "jupyter": {
     "source_hidden": true
    },
    "tags": []
   },
   "source": [
    "Or even have all layers as a single operation"
   ]
  },
  {
   "cell_type": "code",
   "execution_count": 74,
   "id": "89137644-aa5b-4ada-b9f7-608f7a4a712c",
   "metadata": {
    "jupyter": {
     "source_hidden": true
    },
    "tags": []
   },
   "outputs": [],
   "source": [
    "class LeNet(nn.Module):\n",
    "    def __init__(self, in_channels=1, num_classes=10):\n",
    "        \"\"\"\n",
    "        Always call the initialization function from the nn.Module parent class.\n",
    "        This way all parameters from the operations defined as members of *this* class are tracked for their optimization.\n",
    "        \"\"\"\n",
    "        super(LeNet, self).__init__()\n",
    "        \n",
    "        self.layers = nn.Sequential(\n",
    "            nn.Conv2d(in_channels=in_channels, out_channels=6, kernel_size=5, stride=1, padding=0, bias=False),\n",
    "            nn.ReLU(),\n",
    "            nn.MaxPool2d(kernel_size=2, stride=2, padding=0),            \n",
    "            nn.Conv2d(in_channels=6, out_channels=16, kernel_size=5, stride=1, padding=0, bias=False),\n",
    "            nn.ReLU(),\n",
    "            nn.MaxPool2d(kernel_size=2, stride=2, padding=0),\n",
    "            nn.Flatten(),\n",
    "            nn.Linear(in_features=5*5*16, out_features=120, bias=True),\n",
    "            nn.ReLU(),\n",
    "            nn.Linear(in_features=120, out_features=84, bias=True),\n",
    "            nn.ReLU(),        \n",
    "            nn.Linear(in_features=84, out_features=num_classes, bias=True)\n",
    "        )\n",
    "\n",
    "    def forward(self, x):\n",
    "        logits = self.layers(x)\n",
    "        \n",
    "        return logits"
   ]
  },
  {
   "cell_type": "code",
   "execution_count": 54,
   "id": "6c452b4f-47d9-47c1-877a-1f7361118ce0",
   "metadata": {},
   "outputs": [
    {
     "name": "stdout",
     "output_type": "stream",
     "text": [
      "LeNet(\n",
      "  (conv_1): Conv2d(3, 6, kernel_size=(5, 5), stride=(1, 1))\n",
      "  (sub_1): MaxPool2d(kernel_size=2, stride=2, padding=0, dilation=1, ceil_mode=False)\n",
      "  (conv_2): Conv2d(6, 16, kernel_size=(5, 5), stride=(1, 1))\n",
      "  (sub_2): MaxPool2d(kernel_size=2, stride=2, padding=0, dilation=1, ceil_mode=False)\n",
      "  (fc_1): Linear(in_features=400, out_features=120, bias=True)\n",
      "  (fc_2): Linear(in_features=120, out_features=84, bias=True)\n",
      "  (fc_3): Linear(in_features=84, out_features=100, bias=True)\n",
      "  (act_fn): ReLU()\n",
      ")\n"
     ]
    }
   ],
   "source": [
    "net = LeNet(in_channels=3, num_classes=100)\n",
    "print(net)"
   ]
  },
  {
   "cell_type": "markdown",
   "id": "5e655b22-236f-475c-92b5-655f157c6b6c",
   "metadata": {},
   "source": [
    "***\n",
    "### 5.3 _Definition of the optimization problem_"
   ]
  },
  {
   "cell_type": "markdown",
   "id": "5ad9b73f-fed1-4a8a-a376-e5817ccad8a4",
   "metadata": {},
   "source": [
    "Define the loss function and the optimizer."
   ]
  },
  {
   "cell_type": "code",
   "execution_count": 55,
   "id": "2488acd8-fdf0-4f50-bd64-21af77316066",
   "metadata": {},
   "outputs": [],
   "source": [
    "import torch.optim as optim\n",
    "\n",
    "criterion = nn.CrossEntropyLoss()\n",
    "\n",
    "optimizer = optim.Adam(\n",
    "    params=net.parameters(),\n",
    "    lr=1e-3\n",
    ")"
   ]
  },
  {
   "cell_type": "markdown",
   "id": "adb6e5d8-d48a-4825-8a15-eb08e34a3d77",
   "metadata": {},
   "source": [
    "Test our optimizer"
   ]
  },
  {
   "cell_type": "code",
   "execution_count": 56,
   "id": "4e6d7e80-236c-43d5-8da7-8d492dee0d92",
   "metadata": {},
   "outputs": [],
   "source": [
    "optimizer.zero_grad() # Clean the gradient accumulator\n",
    "\n",
    "x, t = cifar_data[1]\n",
    "\n",
    "y = net(x.view(1, 3, 32, 32))\n",
    "loss = criterion(y, torch.tensor([t]))\n",
    "\n",
    "loss.backward()\n",
    "\n",
    "optimizer.step() # In this command, the parameters of the network are updated"
   ]
  },
  {
   "cell_type": "code",
   "execution_count": 57,
   "id": "dc8868ae-cf1f-43d9-9a4e-3184b352186b",
   "metadata": {},
   "outputs": [
    {
     "name": "stdout",
     "output_type": "stream",
     "text": [
      "Loss before one step of optimization 4.57208300\n"
     ]
    }
   ],
   "source": [
    "print('Loss before one step of optimization %.8f' % loss)"
   ]
  },
  {
   "cell_type": "code",
   "execution_count": 58,
   "id": "0e966028-99b2-4b8d-90a5-83484fe6b35a",
   "metadata": {},
   "outputs": [
    {
     "ename": "TypeError",
     "evalue": "object.__new__() takes exactly one argument (the type to instantiate)",
     "output_type": "error",
     "traceback": [
      "\u001b[1;31m---------------------------------------------------------------------------\u001b[0m",
      "\u001b[1;31mTypeError\u001b[0m                                 Traceback (most recent call last)",
      "Input \u001b[1;32mIn [58]\u001b[0m, in \u001b[0;36m<cell line: 1>\u001b[1;34m()\u001b[0m\n\u001b[1;32m----> 1\u001b[0m starter \u001b[38;5;241m=\u001b[39m \u001b[43mtorch\u001b[49m\u001b[38;5;241;43m.\u001b[39;49m\u001b[43mcuda\u001b[49m\u001b[38;5;241;43m.\u001b[39;49m\u001b[43mEvent\u001b[49m\u001b[43m(\u001b[49m\u001b[43menable_timing\u001b[49m\u001b[38;5;241;43m=\u001b[39;49m\u001b[38;5;28;43;01mTrue\u001b[39;49;00m\u001b[43m)\u001b[49m\n\u001b[0;32m      2\u001b[0m ender \u001b[38;5;241m=\u001b[39m torch\u001b[38;5;241m.\u001b[39mcuda\u001b[38;5;241m.\u001b[39mEvent(enable_timing\u001b[38;5;241m=\u001b[39m\u001b[38;5;28;01mTrue\u001b[39;00m)\n",
      "File \u001b[1;32m~\\Miniconda3\\envs\\cnn_comp\\lib\\site-packages\\torch\\cuda\\streams.py:160\u001b[0m, in \u001b[0;36mEvent.__new__\u001b[1;34m(cls, enable_timing, blocking, interprocess)\u001b[0m\n\u001b[0;32m    159\u001b[0m \u001b[38;5;28;01mdef\u001b[39;00m \u001b[38;5;21m__new__\u001b[39m(\u001b[38;5;28mcls\u001b[39m, enable_timing\u001b[38;5;241m=\u001b[39m\u001b[38;5;28;01mFalse\u001b[39;00m, blocking\u001b[38;5;241m=\u001b[39m\u001b[38;5;28;01mFalse\u001b[39;00m, interprocess\u001b[38;5;241m=\u001b[39m\u001b[38;5;28;01mFalse\u001b[39;00m):\n\u001b[1;32m--> 160\u001b[0m     \u001b[38;5;28;01mreturn\u001b[39;00m \u001b[38;5;28;43msuper\u001b[39;49m\u001b[43m(\u001b[49m\u001b[43mEvent\u001b[49m\u001b[43m,\u001b[49m\u001b[43m \u001b[49m\u001b[38;5;28;43mcls\u001b[39;49m\u001b[43m)\u001b[49m\u001b[38;5;241;43m.\u001b[39;49m\u001b[38;5;21;43m__new__\u001b[39;49m\u001b[43m(\u001b[49m\n\u001b[0;32m    161\u001b[0m \u001b[43m        \u001b[49m\u001b[38;5;28;43mcls\u001b[39;49m\u001b[43m,\u001b[49m\n\u001b[0;32m    162\u001b[0m \u001b[43m        \u001b[49m\u001b[43menable_timing\u001b[49m\u001b[38;5;241;43m=\u001b[39;49m\u001b[43menable_timing\u001b[49m\u001b[43m,\u001b[49m\u001b[43m \u001b[49m\u001b[43mblocking\u001b[49m\u001b[38;5;241;43m=\u001b[39;49m\u001b[43mblocking\u001b[49m\u001b[43m,\u001b[49m\u001b[43m \u001b[49m\u001b[43minterprocess\u001b[49m\u001b[38;5;241;43m=\u001b[39;49m\u001b[43minterprocess\u001b[49m\u001b[43m)\u001b[49m\n",
      "\u001b[1;31mTypeError\u001b[0m: object.__new__() takes exactly one argument (the type to instantiate)"
     ]
    }
   ],
   "source": [
    "starter = torch.cuda.Event(enable_timing=True)\n",
    "ender = torch.cuda.Event(enable_timing=True)"
   ]
  },
  {
   "cell_type": "code",
   "execution_count": 59,
   "id": "269618c0-fc28-43ee-8f51-cdc426dd3dda",
   "metadata": {},
   "outputs": [
    {
     "ename": "NameError",
     "evalue": "name 'starter' is not defined",
     "output_type": "error",
     "traceback": [
      "\u001b[1;31m---------------------------------------------------------------------------\u001b[0m",
      "\u001b[1;31mNameError\u001b[0m                                 Traceback (most recent call last)",
      "Input \u001b[1;32mIn [59]\u001b[0m, in \u001b[0;36m<cell line: 1>\u001b[1;34m()\u001b[0m\n\u001b[1;32m----> 1\u001b[0m \u001b[43mstarter\u001b[49m\u001b[38;5;241m.\u001b[39mrecord()\n\u001b[0;32m      2\u001b[0m x, t \u001b[38;5;241m=\u001b[39m cifar_trn_dataset[\u001b[38;5;241m1\u001b[39m]\n\u001b[0;32m      4\u001b[0m optimizer\u001b[38;5;241m.\u001b[39mzero_grad() \u001b[38;5;66;03m# Clean the gradient accumulator\u001b[39;00m\n",
      "\u001b[1;31mNameError\u001b[0m: name 'starter' is not defined"
     ]
    }
   ],
   "source": [
    "starter.record()\n",
    "x, t = cifar_trn_dataset[1]\n",
    "\n",
    "optimizer.zero_grad() # Clean the gradient accumulator\n",
    "\n",
    "y = net(x.view(1, 3, 32, 32))\n",
    "loss = criterion(y, torch.tensor([t]))\n",
    "\n",
    "loss.backward()\n",
    "\n",
    "optimizer.step()\n",
    "ender.record()\n",
    "torch.cuda.synchronize()"
   ]
  },
  {
   "cell_type": "code",
   "execution_count": 60,
   "id": "c4dbca2a-5f5b-43db-bcb1-aff59496a46a",
   "metadata": {},
   "outputs": [
    {
     "ename": "NameError",
     "evalue": "name 'starter' is not defined",
     "output_type": "error",
     "traceback": [
      "\u001b[1;31m---------------------------------------------------------------------------\u001b[0m",
      "\u001b[1;31mNameError\u001b[0m                                 Traceback (most recent call last)",
      "Input \u001b[1;32mIn [60]\u001b[0m, in \u001b[0;36m<cell line: 1>\u001b[1;34m()\u001b[0m\n\u001b[1;32m----> 1\u001b[0m \u001b[38;5;28mprint\u001b[39m(\u001b[38;5;124m'\u001b[39m\u001b[38;5;124mLoss after one step of optimization \u001b[39m\u001b[38;5;132;01m%.8f\u001b[39;00m\u001b[38;5;124m (\u001b[39m\u001b[38;5;132;01m%.4f\u001b[39;00m\u001b[38;5;124m ms)\u001b[39m\u001b[38;5;124m'\u001b[39m \u001b[38;5;241m%\u001b[39m (loss, \u001b[43mstarter\u001b[49m\u001b[38;5;241m.\u001b[39melapsed_time(ender)))\n",
      "\u001b[1;31mNameError\u001b[0m: name 'starter' is not defined"
     ]
    }
   ],
   "source": [
    "print('Loss after one step of optimization %.8f (%.4f ms)' % (loss, starter.elapsed_time(ender)))"
   ]
  },
  {
   "cell_type": "markdown",
   "id": "1fe603bb-e940-4d6f-9d75-468c5f2a18bf",
   "metadata": {},
   "source": [
    "***\n",
    "### Setup for training in GPU"
   ]
  },
  {
   "cell_type": "code",
   "execution_count": 61,
   "id": "b0917bda-8597-4ef8-a300-ba4562a33e10",
   "metadata": {},
   "outputs": [
    {
     "ename": "AssertionError",
     "evalue": "Torch not compiled with CUDA enabled",
     "output_type": "error",
     "traceback": [
      "\u001b[1;31m---------------------------------------------------------------------------\u001b[0m",
      "\u001b[1;31mAssertionError\u001b[0m                            Traceback (most recent call last)",
      "Input \u001b[1;32mIn [61]\u001b[0m, in \u001b[0;36m<cell line: 2>\u001b[1;34m()\u001b[0m\n\u001b[0;32m      1\u001b[0m \u001b[38;5;66;03m# Move our network to the GPU memory, as well as our criterion\u001b[39;00m\n\u001b[1;32m----> 2\u001b[0m \u001b[43mnet\u001b[49m\u001b[38;5;241;43m.\u001b[39;49m\u001b[43mcuda\u001b[49m\u001b[43m(\u001b[49m\u001b[43m)\u001b[49m\n\u001b[0;32m      3\u001b[0m criterion\u001b[38;5;241m.\u001b[39mcuda()\n\u001b[0;32m      5\u001b[0m \u001b[38;5;66;03m# Define the optimizer after we have moved the network to the GPU, so the update is perfomred in GPU momory\u001b[39;00m\n",
      "File \u001b[1;32m~\\Miniconda3\\envs\\cnn_comp\\lib\\site-packages\\torch\\nn\\modules\\module.py:680\u001b[0m, in \u001b[0;36mModule.cuda\u001b[1;34m(self, device)\u001b[0m\n\u001b[0;32m    663\u001b[0m \u001b[38;5;28;01mdef\u001b[39;00m \u001b[38;5;21mcuda\u001b[39m(\u001b[38;5;28mself\u001b[39m: T, device: Optional[Union[\u001b[38;5;28mint\u001b[39m, device]] \u001b[38;5;241m=\u001b[39m \u001b[38;5;28;01mNone\u001b[39;00m) \u001b[38;5;241m-\u001b[39m\u001b[38;5;241m>\u001b[39m T:\n\u001b[0;32m    664\u001b[0m     \u001b[38;5;124mr\u001b[39m\u001b[38;5;124;03m\"\"\"Moves all model parameters and buffers to the GPU.\u001b[39;00m\n\u001b[0;32m    665\u001b[0m \n\u001b[0;32m    666\u001b[0m \u001b[38;5;124;03m    This also makes associated parameters and buffers different objects. So\u001b[39;00m\n\u001b[1;32m   (...)\u001b[0m\n\u001b[0;32m    678\u001b[0m \u001b[38;5;124;03m        Module: self\u001b[39;00m\n\u001b[0;32m    679\u001b[0m \u001b[38;5;124;03m    \"\"\"\u001b[39;00m\n\u001b[1;32m--> 680\u001b[0m     \u001b[38;5;28;01mreturn\u001b[39;00m \u001b[38;5;28;43mself\u001b[39;49m\u001b[38;5;241;43m.\u001b[39;49m\u001b[43m_apply\u001b[49m\u001b[43m(\u001b[49m\u001b[38;5;28;43;01mlambda\u001b[39;49;00m\u001b[43m \u001b[49m\u001b[43mt\u001b[49m\u001b[43m:\u001b[49m\u001b[43m \u001b[49m\u001b[43mt\u001b[49m\u001b[38;5;241;43m.\u001b[39;49m\u001b[43mcuda\u001b[49m\u001b[43m(\u001b[49m\u001b[43mdevice\u001b[49m\u001b[43m)\u001b[49m\u001b[43m)\u001b[49m\n",
      "File \u001b[1;32m~\\Miniconda3\\envs\\cnn_comp\\lib\\site-packages\\torch\\nn\\modules\\module.py:570\u001b[0m, in \u001b[0;36mModule._apply\u001b[1;34m(self, fn)\u001b[0m\n\u001b[0;32m    568\u001b[0m \u001b[38;5;28;01mdef\u001b[39;00m \u001b[38;5;21m_apply\u001b[39m(\u001b[38;5;28mself\u001b[39m, fn):\n\u001b[0;32m    569\u001b[0m     \u001b[38;5;28;01mfor\u001b[39;00m module \u001b[38;5;129;01min\u001b[39;00m \u001b[38;5;28mself\u001b[39m\u001b[38;5;241m.\u001b[39mchildren():\n\u001b[1;32m--> 570\u001b[0m         \u001b[43mmodule\u001b[49m\u001b[38;5;241;43m.\u001b[39;49m\u001b[43m_apply\u001b[49m\u001b[43m(\u001b[49m\u001b[43mfn\u001b[49m\u001b[43m)\u001b[49m\n\u001b[0;32m    572\u001b[0m     \u001b[38;5;28;01mdef\u001b[39;00m \u001b[38;5;21mcompute_should_use_set_data\u001b[39m(tensor, tensor_applied):\n\u001b[0;32m    573\u001b[0m         \u001b[38;5;28;01mif\u001b[39;00m torch\u001b[38;5;241m.\u001b[39m_has_compatible_shallow_copy_type(tensor, tensor_applied):\n\u001b[0;32m    574\u001b[0m             \u001b[38;5;66;03m# If the new tensor has compatible tensor type as the existing tensor,\u001b[39;00m\n\u001b[0;32m    575\u001b[0m             \u001b[38;5;66;03m# the current behavior is to change the tensor in-place using `.data =`,\u001b[39;00m\n\u001b[1;32m   (...)\u001b[0m\n\u001b[0;32m    580\u001b[0m             \u001b[38;5;66;03m# global flag to let the user control whether they want the future\u001b[39;00m\n\u001b[0;32m    581\u001b[0m             \u001b[38;5;66;03m# behavior of overwriting the existing tensor or not.\u001b[39;00m\n",
      "File \u001b[1;32m~\\Miniconda3\\envs\\cnn_comp\\lib\\site-packages\\torch\\nn\\modules\\module.py:593\u001b[0m, in \u001b[0;36mModule._apply\u001b[1;34m(self, fn)\u001b[0m\n\u001b[0;32m    589\u001b[0m \u001b[38;5;66;03m# Tensors stored in modules are graph leaves, and we don't want to\u001b[39;00m\n\u001b[0;32m    590\u001b[0m \u001b[38;5;66;03m# track autograd history of `param_applied`, so we have to use\u001b[39;00m\n\u001b[0;32m    591\u001b[0m \u001b[38;5;66;03m# `with torch.no_grad():`\u001b[39;00m\n\u001b[0;32m    592\u001b[0m \u001b[38;5;28;01mwith\u001b[39;00m torch\u001b[38;5;241m.\u001b[39mno_grad():\n\u001b[1;32m--> 593\u001b[0m     param_applied \u001b[38;5;241m=\u001b[39m \u001b[43mfn\u001b[49m\u001b[43m(\u001b[49m\u001b[43mparam\u001b[49m\u001b[43m)\u001b[49m\n\u001b[0;32m    594\u001b[0m should_use_set_data \u001b[38;5;241m=\u001b[39m compute_should_use_set_data(param, param_applied)\n\u001b[0;32m    595\u001b[0m \u001b[38;5;28;01mif\u001b[39;00m should_use_set_data:\n",
      "File \u001b[1;32m~\\Miniconda3\\envs\\cnn_comp\\lib\\site-packages\\torch\\nn\\modules\\module.py:680\u001b[0m, in \u001b[0;36mModule.cuda.<locals>.<lambda>\u001b[1;34m(t)\u001b[0m\n\u001b[0;32m    663\u001b[0m \u001b[38;5;28;01mdef\u001b[39;00m \u001b[38;5;21mcuda\u001b[39m(\u001b[38;5;28mself\u001b[39m: T, device: Optional[Union[\u001b[38;5;28mint\u001b[39m, device]] \u001b[38;5;241m=\u001b[39m \u001b[38;5;28;01mNone\u001b[39;00m) \u001b[38;5;241m-\u001b[39m\u001b[38;5;241m>\u001b[39m T:\n\u001b[0;32m    664\u001b[0m     \u001b[38;5;124mr\u001b[39m\u001b[38;5;124;03m\"\"\"Moves all model parameters and buffers to the GPU.\u001b[39;00m\n\u001b[0;32m    665\u001b[0m \n\u001b[0;32m    666\u001b[0m \u001b[38;5;124;03m    This also makes associated parameters and buffers different objects. So\u001b[39;00m\n\u001b[1;32m   (...)\u001b[0m\n\u001b[0;32m    678\u001b[0m \u001b[38;5;124;03m        Module: self\u001b[39;00m\n\u001b[0;32m    679\u001b[0m \u001b[38;5;124;03m    \"\"\"\u001b[39;00m\n\u001b[1;32m--> 680\u001b[0m     \u001b[38;5;28;01mreturn\u001b[39;00m \u001b[38;5;28mself\u001b[39m\u001b[38;5;241m.\u001b[39m_apply(\u001b[38;5;28;01mlambda\u001b[39;00m t: \u001b[43mt\u001b[49m\u001b[38;5;241;43m.\u001b[39;49m\u001b[43mcuda\u001b[49m\u001b[43m(\u001b[49m\u001b[43mdevice\u001b[49m\u001b[43m)\u001b[49m)\n",
      "File \u001b[1;32m~\\Miniconda3\\envs\\cnn_comp\\lib\\site-packages\\torch\\cuda\\__init__.py:208\u001b[0m, in \u001b[0;36m_lazy_init\u001b[1;34m()\u001b[0m\n\u001b[0;32m    204\u001b[0m     \u001b[38;5;28;01mraise\u001b[39;00m \u001b[38;5;167;01mRuntimeError\u001b[39;00m(\n\u001b[0;32m    205\u001b[0m         \u001b[38;5;124m\"\u001b[39m\u001b[38;5;124mCannot re-initialize CUDA in forked subprocess. To use CUDA with \u001b[39m\u001b[38;5;124m\"\u001b[39m\n\u001b[0;32m    206\u001b[0m         \u001b[38;5;124m\"\u001b[39m\u001b[38;5;124mmultiprocessing, you must use the \u001b[39m\u001b[38;5;124m'\u001b[39m\u001b[38;5;124mspawn\u001b[39m\u001b[38;5;124m'\u001b[39m\u001b[38;5;124m start method\u001b[39m\u001b[38;5;124m\"\u001b[39m)\n\u001b[0;32m    207\u001b[0m \u001b[38;5;28;01mif\u001b[39;00m \u001b[38;5;129;01mnot\u001b[39;00m \u001b[38;5;28mhasattr\u001b[39m(torch\u001b[38;5;241m.\u001b[39m_C, \u001b[38;5;124m'\u001b[39m\u001b[38;5;124m_cuda_getDeviceCount\u001b[39m\u001b[38;5;124m'\u001b[39m):\n\u001b[1;32m--> 208\u001b[0m     \u001b[38;5;28;01mraise\u001b[39;00m \u001b[38;5;167;01mAssertionError\u001b[39;00m(\u001b[38;5;124m\"\u001b[39m\u001b[38;5;124mTorch not compiled with CUDA enabled\u001b[39m\u001b[38;5;124m\"\u001b[39m)\n\u001b[0;32m    209\u001b[0m \u001b[38;5;28;01mif\u001b[39;00m _cudart \u001b[38;5;129;01mis\u001b[39;00m \u001b[38;5;28;01mNone\u001b[39;00m:\n\u001b[0;32m    210\u001b[0m     \u001b[38;5;28;01mraise\u001b[39;00m \u001b[38;5;167;01mAssertionError\u001b[39;00m(\n\u001b[0;32m    211\u001b[0m         \u001b[38;5;124m\"\u001b[39m\u001b[38;5;124mlibcudart functions unavailable. It looks like you have a broken build?\u001b[39m\u001b[38;5;124m\"\u001b[39m)\n",
      "\u001b[1;31mAssertionError\u001b[0m: Torch not compiled with CUDA enabled"
     ]
    }
   ],
   "source": [
    "# Move our network to the GPU memory, as well as our criterion\n",
    "net.cuda()\n",
    "criterion.cuda()\n",
    "\n",
    "# Define the optimizer after we have moved the network to the GPU, so the update is perfomred in GPU momory\n",
    "optimizer = optim.Adam(\n",
    "    params=net.parameters(),\n",
    "    lr=1e-4\n",
    ")"
   ]
  },
  {
   "cell_type": "code",
   "execution_count": 62,
   "id": "ebf14981-9117-48a1-9b80-c1e5f76a82d7",
   "metadata": {},
   "outputs": [
    {
     "ename": "NameError",
     "evalue": "name 'starter' is not defined",
     "output_type": "error",
     "traceback": [
      "\u001b[1;31m---------------------------------------------------------------------------\u001b[0m",
      "\u001b[1;31mNameError\u001b[0m                                 Traceback (most recent call last)",
      "Input \u001b[1;32mIn [62]\u001b[0m, in \u001b[0;36m<cell line: 1>\u001b[1;34m()\u001b[0m\n\u001b[1;32m----> 1\u001b[0m \u001b[43mstarter\u001b[49m\u001b[38;5;241m.\u001b[39mrecord()\n\u001b[0;32m      2\u001b[0m x, t \u001b[38;5;241m=\u001b[39m cifar_data[\u001b[38;5;241m1\u001b[39m]\n\u001b[0;32m      4\u001b[0m optimizer\u001b[38;5;241m.\u001b[39mzero_grad() \u001b[38;5;66;03m# Clean the gradient accumulator\u001b[39;00m\n",
      "\u001b[1;31mNameError\u001b[0m: name 'starter' is not defined"
     ]
    }
   ],
   "source": [
    "starter.record()\n",
    "x, t = cifar_data[1]\n",
    "\n",
    "optimizer.zero_grad() # Clean the gradient accumulator\n",
    "\n",
    "# Move the input to GPU memory before feeding the network with it\n",
    "y = net(x.view(1, 3, 32, 32).cuda())\n",
    "\n",
    "# Move the target as well to compute the loss on the GPU\n",
    "loss = criterion(y, torch.tensor([t]).cuda())\n",
    "\n",
    "loss.backward()\n",
    "\n",
    "optimizer.step()\n",
    "\n",
    "# this is necesary only when measuring the execution time\n",
    "ender.record()\n",
    "torch.cuda.synchronize()"
   ]
  },
  {
   "cell_type": "code",
   "execution_count": 91,
   "id": "0404794e-cc19-48fa-9cb7-1ff83559a16a",
   "metadata": {},
   "outputs": [
    {
     "name": "stdout",
     "output_type": "stream",
     "text": [
      "Loss after one step of optimization 4.5383162498474121 (151.3937225341796875 ms)\n"
     ]
    }
   ],
   "source": [
    "print('Loss after one step of optimization %.16f (%.16f ms)' % (loss, starter.elapsed_time(ender)))"
   ]
  },
  {
   "cell_type": "markdown",
   "id": "fccd03a1-dbfe-44d5-a451-c9c36e5dd7af",
   "metadata": {},
   "source": [
    "***\n",
    "### 5.4 _Implement the training loop_"
   ]
  },
  {
   "cell_type": "markdown",
   "id": "4f4bf9ea-3a7b-4d2d-a352-26ead6360ca4",
   "metadata": {},
   "source": [
    "The DataLoader class in PyTorch is usefull to split the dataset into batches.<br>\n",
    "It also convert the individual targets to tensors that can be used directly by the loss function"
   ]
  },
  {
   "cell_type": "markdown",
   "id": "756a57fb-30e1-42c3-9683-9cbf286dd313",
   "metadata": {},
   "source": [
    "#### Run one *epoch* of training"
   ]
  },
  {
   "cell_type": "code",
   "execution_count": 95,
   "id": "8e50e8e5-260c-4c9b-9b3f-4a5366c4291d",
   "metadata": {},
   "outputs": [
    {
     "name": "stdout",
     "output_type": "stream",
     "text": [
      "[0] Loss 4.81175327\n",
      "[100] Loss 3.89317751\n",
      "[200] Loss 3.62282014\n",
      "[300] Loss 3.34649014\n"
     ]
    }
   ],
   "source": [
    "starter.record()\n",
    "trn_loss = []\n",
    "for i, (x, t) in enumerate(cifar_loader):\n",
    "    optimizer.zero_grad()\n",
    "    \n",
    "    x = x.cuda()\n",
    "    t = t.cuda()\n",
    "    \n",
    "    y = net(x)\n",
    "    \n",
    "    loss = criterion(y, t)\n",
    "    \n",
    "    loss.backward()\n",
    "    \n",
    "    trn_loss.append(loss.item())\n",
    "    \n",
    "    optimizer.step()\n",
    "    \n",
    "    if i % 100 == 0:\n",
    "        print('[%i] Loss %.8f' % (i, loss))\n",
    "        \n",
    "ender.record()\n",
    "torch.cuda.synchronize()"
   ]
  },
  {
   "cell_type": "code",
   "execution_count": 96,
   "id": "4ad25d6d-013a-4ace-ab89-0917451450cd",
   "metadata": {},
   "outputs": [
    {
     "data": {
      "text/plain": [
       "25.8020234375"
      ]
     },
     "execution_count": 96,
     "metadata": {},
     "output_type": "execute_result"
    }
   ],
   "source": [
    "starter.elapsed_time(ender) / 1000"
   ]
  },
  {
   "cell_type": "code",
   "execution_count": 97,
   "id": "2e51dfe8-7c57-43f1-80a1-690e4115d84c",
   "metadata": {},
   "outputs": [
    {
     "data": {
      "text/plain": [
       "[<matplotlib.lines.Line2D at 0x2aaba4df5a00>]"
      ]
     },
     "execution_count": 97,
     "metadata": {},
     "output_type": "execute_result"
    },
    {
     "data": {
      "image/png": "[encoded data removed]",
      "text/plain": [
       "<Figure size 432x288 with 1 Axes>"
      ]
     },
     "metadata": {
      "needs_background": "light"
     },
     "output_type": "display_data"
    }
   ],
   "source": [
    "plt.plot(trn_loss)"
   ]
  },
  {
   "cell_type": "markdown",
   "id": "69e4e5c2-1321-4049-9446-1fd860561a21",
   "metadata": {},
   "source": [
    "#### Run several *epochs*"
   ]
  },
  {
   "cell_type": "code",
   "execution_count": 98,
   "id": "f73264f5-67a0-40e4-8b38-1c90caed3a99",
   "metadata": {
    "tags": []
   },
   "outputs": [
    {
     "name": "stdout",
     "output_type": "stream",
     "text": [
      "[Epoch 00] 2.93849048\n",
      "[Epoch 01] 2.44811500\n",
      "[Epoch 02] 2.02072319\n",
      "[Epoch 03] 1.59845660\n",
      "[Epoch 04] 1.14853404\n",
      "[Epoch 05] 0.72458910\n",
      "[Epoch 06] 0.41159044\n",
      "[Epoch 07] 0.26905134\n",
      "[Epoch 08] 0.19039435\n",
      "[Epoch 09] 0.18367449\n"
     ]
    }
   ],
   "source": [
    "trn_loss = []\n",
    "net.train()\n",
    "\n",
    "starter.record()\n",
    "\n",
    "for e  in range(10):\n",
    "    avg_loss = 0\n",
    "    for i, (x, t) in enumerate(cifar_loader):\n",
    "        optimizer.zero_grad()\n",
    "\n",
    "        x = x.cuda()\n",
    "        t = t.cuda()\n",
    "        \n",
    "        y = net(x)\n",
    "\n",
    "        loss = criterion(y, t)\n",
    "\n",
    "        loss.backward()\n",
    "        \n",
    "        avg_loss += loss.item()\n",
    "        trn_loss.append(loss.item())\n",
    "\n",
    "        optimizer.step()\n",
    "    \n",
    "    avg_loss = avg_loss / len(cifar_loader)\n",
    "    print('[Epoch %02i] %.8f' % (e, avg_loss))\n",
    "\n",
    "ender.record()\n",
    "torch.cuda.synchronize()"
   ]
  },
  {
   "cell_type": "code",
   "execution_count": 99,
   "id": "5c4bfb74-42dd-47e3-a252-ddeef6dd61fb",
   "metadata": {},
   "outputs": [
    {
     "data": {
      "text/plain": [
       "253.455125"
      ]
     },
     "execution_count": 99,
     "metadata": {},
     "output_type": "execute_result"
    }
   ],
   "source": [
    "starter.elapsed_time(ender) / 1000"
   ]
  },
  {
   "cell_type": "code",
   "execution_count": 100,
   "id": "d0b9a845-cfb0-47a4-8a5c-63a6cb3b3b4f",
   "metadata": {},
   "outputs": [
    {
     "data": {
      "text/plain": [
       "[<matplotlib.lines.Line2D at 0x2aaba4ed8ac0>]"
      ]
     },
     "execution_count": 100,
     "metadata": {},
     "output_type": "execute_result"
    },
    {
     "data": {
      "image/png": "[encoded data removed]",
      "text/plain": [
       "<Figure size 432x288 with 1 Axes>"
      ]
     },
     "metadata": {
      "needs_background": "light"
     },
     "output_type": "display_data"
    }
   ],
   "source": [
    "plt.plot(trn_loss)"
   ]
  },
  {
   "cell_type": "markdown",
   "id": "2cde7592-0182-4bd1-9149-09e39d02e87c",
   "metadata": {},
   "source": [
    "#### Save the trained model (checkpoint)"
   ]
  },
  {
   "cell_type": "code",
   "execution_count": 104,
   "id": "4747d070-9288-4bca-aea1-82f797cd4db4",
   "metadata": {},
   "outputs": [],
   "source": [
    "torch.save(net.state_dict(), 'lenet_20220420.pth')"
   ]
  },
  {
   "cell_type": "markdown",
   "id": "2198b928-2b30-49b8-b6cb-c3affee87b17",
   "metadata": {
    "jupyter": {
     "source_hidden": true
    },
    "tags": []
   },
   "source": [
    "***\n",
    "#### Test the trained model\n",
    "Use the test partition of the CIFAR 100 dataset"
   ]
  },
  {
   "cell_type": "code",
   "execution_count": 105,
   "id": "ee59c010-1989-409a-b4ae-2ec101dcb245",
   "metadata": {
    "jupyter": {
     "source_hidden": true
    },
    "tags": []
   },
   "outputs": [],
   "source": [
    "cifar_tst_dataset = CIFAR100(root='/home/cervaf/data', download=False, train=False, transform=cifar_transform)\n",
    "cifar_tst_loader = DataLoader(cifar_tst_dataset, batch_size=128, shuffle=False, pin_memory=True)"
   ]
  },
  {
   "cell_type": "code",
   "execution_count": 106,
   "id": "13c498ae-4b60-49bd-9552-b8d99370efda",
   "metadata": {
    "jupyter": {
     "source_hidden": true
    },
    "tags": []
   },
   "outputs": [],
   "source": [
    "import sklearn.metrics\n",
    "import numpy as np"
   ]
  },
  {
   "cell_type": "code",
   "execution_count": 154,
   "id": "34ef41bd-44cc-455a-91b0-a48c2620d8e4",
   "metadata": {
    "jupyter": {
     "source_hidden": true
    },
    "tags": []
   },
   "outputs": [],
   "source": [
    "# Load the checkpoint\n",
    "state_dict = torch.load('lenet_20220420.pth')"
   ]
  },
  {
   "cell_type": "code",
   "execution_count": 155,
   "id": "493c8ff2-176c-4f6f-92f9-cf2d5ba33cd7",
   "metadata": {
    "collapsed": true,
    "jupyter": {
     "outputs_hidden": true,
     "source_hidden": true
    },
    "tags": []
   },
   "outputs": [
    {
     "name": "stdout",
     "output_type": "stream",
     "text": [
      "embedding.weight\n",
      "bn.weight\n",
      "bn.bias\n",
      "bn.running_mean\n",
      "bn.running_var\n",
      "bn.num_batches_tracked\n",
      "layers.0.conv_1.weight\n",
      "layers.0.downsample.weight\n",
      "layers.0.bn1.weight\n",
      "layers.0.bn1.bias\n",
      "layers.0.bn1.running_mean\n",
      "layers.0.bn1.running_var\n",
      "layers.0.bn1.num_batches_tracked\n",
      "layers.0.conv_2.weight\n",
      "layers.0.bn2.weight\n",
      "layers.0.bn2.bias\n",
      "layers.0.bn2.running_mean\n",
      "layers.0.bn2.running_var\n",
      "layers.0.bn2.num_batches_tracked\n",
      "layers.1.conv_1.weight\n",
      "layers.1.bn1.weight\n",
      "layers.1.bn1.bias\n",
      "layers.1.bn1.running_mean\n",
      "layers.1.bn1.running_var\n",
      "layers.1.bn1.num_batches_tracked\n",
      "layers.1.conv_2.weight\n",
      "layers.1.bn2.weight\n",
      "layers.1.bn2.bias\n",
      "layers.1.bn2.running_mean\n",
      "layers.1.bn2.running_var\n",
      "layers.1.bn2.num_batches_tracked\n",
      "layers.2.conv_1.weight\n",
      "layers.2.downsample.weight\n",
      "layers.2.bn1.weight\n",
      "layers.2.bn1.bias\n",
      "layers.2.bn1.running_mean\n",
      "layers.2.bn1.running_var\n",
      "layers.2.bn1.num_batches_tracked\n",
      "layers.2.conv_2.weight\n",
      "layers.2.bn2.weight\n",
      "layers.2.bn2.bias\n",
      "layers.2.bn2.running_mean\n",
      "layers.2.bn2.running_var\n",
      "layers.2.bn2.num_batches_tracked\n",
      "layers.3.conv_1.weight\n",
      "layers.3.bn1.weight\n",
      "layers.3.bn1.bias\n",
      "layers.3.bn1.running_mean\n",
      "layers.3.bn1.running_var\n",
      "layers.3.bn1.num_batches_tracked\n",
      "layers.3.conv_2.weight\n",
      "layers.3.bn2.weight\n",
      "layers.3.bn2.bias\n",
      "layers.3.bn2.running_mean\n",
      "layers.3.bn2.running_var\n",
      "layers.3.bn2.num_batches_tracked\n",
      "layers.4.conv_1.weight\n",
      "layers.4.downsample.weight\n",
      "layers.4.bn1.weight\n",
      "layers.4.bn1.bias\n",
      "layers.4.bn1.running_mean\n",
      "layers.4.bn1.running_var\n",
      "layers.4.bn1.num_batches_tracked\n",
      "layers.4.conv_2.weight\n",
      "layers.4.bn2.weight\n",
      "layers.4.bn2.bias\n",
      "layers.4.bn2.running_mean\n",
      "layers.4.bn2.running_var\n",
      "layers.4.bn2.num_batches_tracked\n",
      "layers.5.conv_1.weight\n",
      "layers.5.bn1.weight\n",
      "layers.5.bn1.bias\n",
      "layers.5.bn1.running_mean\n",
      "layers.5.bn1.running_var\n",
      "layers.5.bn1.num_batches_tracked\n",
      "layers.5.conv_2.weight\n",
      "layers.5.bn2.weight\n",
      "layers.5.bn2.bias\n",
      "layers.5.bn2.running_mean\n",
      "layers.5.bn2.running_var\n",
      "layers.5.bn2.num_batches_tracked\n",
      "layers.6.conv_1.weight\n",
      "layers.6.downsample.weight\n",
      "layers.6.bn1.weight\n",
      "layers.6.bn1.bias\n",
      "layers.6.bn1.running_mean\n",
      "layers.6.bn1.running_var\n",
      "layers.6.bn1.num_batches_tracked\n",
      "layers.6.conv_2.weight\n",
      "layers.6.bn2.weight\n",
      "layers.6.bn2.bias\n",
      "layers.6.bn2.running_mean\n",
      "layers.6.bn2.running_var\n",
      "layers.6.bn2.num_batches_tracked\n",
      "layers.7.conv_1.weight\n",
      "layers.7.bn1.weight\n",
      "layers.7.bn1.bias\n",
      "layers.7.bn1.running_mean\n",
      "layers.7.bn1.running_var\n",
      "layers.7.bn1.num_batches_tracked\n",
      "layers.7.conv_2.weight\n",
      "layers.7.bn2.weight\n",
      "layers.7.bn2.bias\n",
      "layers.7.bn2.running_mean\n",
      "layers.7.bn2.running_var\n",
      "layers.7.bn2.num_batches_tracked\n",
      "fc.weight\n",
      "fc.bias\n"
     ]
    }
   ],
   "source": [
    "for k in state_dict.keys():\n",
    "    print(k)"
   ]
  },
  {
   "cell_type": "code",
   "execution_count": 156,
   "id": "41a30fa8-0d10-46f0-9404-8f2571504a72",
   "metadata": {
    "jupyter": {
     "source_hidden": true
    },
    "tags": []
   },
   "outputs": [],
   "source": [
    "# Create a new network object\n",
    "test_net = LeNet(in_channels=3, num_classes=100)"
   ]
  },
  {
   "cell_type": "code",
   "execution_count": 157,
   "id": "4ec51378-b4e1-4061-b34a-10e7135c5f3b",
   "metadata": {
    "collapsed": true,
    "jupyter": {
     "outputs_hidden": true,
     "source_hidden": true
    },
    "tags": []
   },
   "outputs": [
    {
     "data": {
      "text/plain": [
       "<All keys matched successfully>"
      ]
     },
     "execution_count": 157,
     "metadata": {},
     "output_type": "execute_result"
    }
   ],
   "source": [
    "# Load the trained weights\n",
    "test_net.load_state_dict(state_dict)"
   ]
  },
  {
   "cell_type": "markdown",
   "id": "b697691f-4195-43a1-8ed2-cc15fd8a7231",
   "metadata": {
    "jupyter": {
     "source_hidden": true
    },
    "tags": []
   },
   "source": [
    "#### Test the accuracy of the trained network"
   ]
  },
  {
   "cell_type": "code",
   "execution_count": 158,
   "id": "22795fcf-2837-4001-887d-5c8b492dcd7b",
   "metadata": {
    "collapsed": true,
    "jupyter": {
     "outputs_hidden": true,
     "source_hidden": true
    },
    "tags": []
   },
   "outputs": [
    {
     "name": "stdout",
     "output_type": "stream",
     "text": [
      "Average test loss 4.78111167, average accuracy 46.62 %, average accuracy@5 73.20 %, average accuracy@10 82.53 %\n"
     ]
    }
   ],
   "source": [
    "tst_avg_loss = 0\n",
    "tst_avg_acc = 0\n",
    "tst_avg_acc_5 = 0\n",
    "tst_avg_acc_10 = 0\n",
    "\n",
    "test_net.cuda()\n",
    "test_net.eval()\n",
    "\n",
    "for i, (x, t) in enumerate(cifar_tst_loader):\n",
    "    with torch.no_grad():\n",
    "        x = x.cuda()\n",
    "        t = t.cuda()\n",
    "        \n",
    "        y = test_net(x)\n",
    "        loss = criterion(y, t)\n",
    "    \n",
    "    tst_avg_loss += loss.item()\n",
    "\n",
    "    tst_avg_acc += sklearn.metrics.accuracy_score(t.cpu().numpy(), y.cpu().argmax(dim=1).numpy(), normalize=False)\n",
    "    tst_avg_acc_5 += sklearn.metrics.top_k_accuracy_score(t.cpu().numpy(), y.cpu().numpy(), k=5, labels=np.arange(100), normalize=False)\n",
    "    tst_avg_acc_10 += sklearn.metrics.top_k_accuracy_score(t.cpu().numpy(), y.cpu().numpy(), k=10, labels=np.arange(100), normalize=False)\n",
    "\n",
    "tst_avg_loss = tst_avg_loss / len(cifar_tst_loader)\n",
    "tst_avg_acc = tst_avg_acc / len(cifar_tst_dataset) * 100\n",
    "tst_avg_acc_5 = tst_avg_acc_5 / len(cifar_tst_dataset) * 100\n",
    "tst_avg_acc_10 = tst_avg_acc_10 / len(cifar_tst_dataset) * 100\n",
    "print('Average test loss %.8f, average accuracy %.2f %%, average accuracy@5 %.2f %%, average accuracy@10 %.2f %%' % (tst_avg_loss, tst_avg_acc, tst_avg_acc_5, tst_avg_acc_10))"
   ]
  },
  {
   "cell_type": "markdown",
   "id": "6b3cdbe9-4df9-490d-9b43-20aa52593ae7",
   "metadata": {
    "jupyter": {
     "source_hidden": true
    },
    "tags": []
   },
   "source": [
    "Check with a sample image from the training set"
   ]
  },
  {
   "cell_type": "code",
   "execution_count": 159,
   "id": "db1af41c-1259-463d-87a2-82702a6ef650",
   "metadata": {
    "jupyter": {
     "source_hidden": true
    },
    "tags": []
   },
   "outputs": [],
   "source": [
    "x, t = cifar_trn_dataset[100]\n",
    "x = x.cuda()\n",
    "y = test_net(x.view(1, 3, 32, 32))"
   ]
  },
  {
   "cell_type": "code",
   "execution_count": 160,
   "id": "09c341d8-f37a-4344-be88-656e6e2669d3",
   "metadata": {},
   "outputs": [
    {
     "data": {
      "image/png": "[encoded data removed]",
      "text/plain": [
       "<Figure size 432x288 with 1 Axes>"
      ]
     },
     "metadata": {
      "needs_background": "light"
     },
     "output_type": "display_data"
    }
   ],
   "source": [
    "plt.imshow(x.cpu().permute(1, 2, 0))\n",
    "plt.title('Real %i (%.2f %%), Predicted %i (%.2f %%)' % (t, torch.softmax(y, dim=1)[0, t].item() * 100, y.cpu().argmax(dim=1)[0].item(), torch.softmax(y, dim=1).max().item() * 100))\n",
    "plt.show()"
   ]
  },
  {
   "cell_type": "markdown",
   "id": "b48001d9-8d3e-4d35-8a4a-3c3b4b668457",
   "metadata": {},
   "source": [
    "Check the labels [here](https://huggingface.co/datasets/cifar100)"
   ]
  },
  {
   "cell_type": "markdown",
   "id": "3b341f7d-55c7-4817-9467-aa9eca701f13",
   "metadata": {},
   "source": [
    "Check one image from the test set"
   ]
  },
  {
   "cell_type": "code",
   "execution_count": 189,
   "id": "57f5b239-30fa-4334-ac55-19fa2df79fe4",
   "metadata": {
    "jupyter": {
     "source_hidden": true
    },
    "tags": []
   },
   "outputs": [],
   "source": [
    "x, t = cifar_tst_dataset[5550]\n",
    "x = x.cuda()\n",
    "y = test_net(x.view(1, 3, 32, 32))"
   ]
  },
  {
   "cell_type": "code",
   "execution_count": 190,
   "id": "eaecbe78-c3aa-44a4-b297-b05aa48250f6",
   "metadata": {
    "collapsed": true,
    "jupyter": {
     "outputs_hidden": true,
     "source_hidden": true
    },
    "tags": []
   },
   "outputs": [
    {
     "data": {
      "image/png": "[encoded data removed]",
      "text/plain": [
       "<Figure size 432x288 with 1 Axes>"
      ]
     },
     "metadata": {
      "needs_background": "light"
     },
     "output_type": "display_data"
    }
   ],
   "source": [
    "plt.imshow(x.cpu().permute(1, 2, 0))\n",
    "plt.title('Real %i (%.2f %%), Predicted %i (%.2f %%)' % (t, torch.softmax(y, dim=1)[0, t].item() * 100, y.cpu().argmax(dim=1)[0].item(), torch.softmax(y, dim=1).max().item() * 100))\n",
    "plt.show()"
   ]
  },
  {
   "cell_type": "code",
   "execution_count": null,
   "id": "09875a83-ecbd-4bdd-8c07-ec90e9e92b66",
   "metadata": {},
   "outputs": [],
   "source": []
  }
 ],
 "metadata": {
  "kernelspec": {
   "display_name": "Python 3 (ipykernel)",
   "language": "python",
   "name": "python3"
  },
  "language_info": {
   "codemirror_mode": {
    "name": "ipython",
    "version": 3
   },
   "file_extension": ".py",
   "mimetype": "text/x-python",
   "name": "python",
   "nbconvert_exporter": "python",
   "pygments_lexer": "ipython3",
   "version": "3.9.11"
  }
 },
 "nbformat": 4,
 "nbformat_minor": 5
}
