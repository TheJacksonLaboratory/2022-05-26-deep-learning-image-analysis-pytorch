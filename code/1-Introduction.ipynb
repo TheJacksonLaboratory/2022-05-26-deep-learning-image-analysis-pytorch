{
 "cells": [
  {
   "cell_type": "markdown",
   "id": "33c68796-1a18-45f6-9a8f-83b4fbd08c43",
   "metadata": {},
   "source": [
    "# **Deep learning for image analysis with Python**"
   ]
  },
  {
   "cell_type": "markdown",
   "id": "cb4b4405-0d4f-4628-a8b9-4366b422ea28",
   "metadata": {},
   "source": [
    "#### Fernando Cervantes, Systems Analyst I, Imaging Solutions, Research IT\n",
    "#### fernando.cervantes@jax.org    (slack) @fernando.cervantes"
   ]
  },
  {
   "cell_type": "markdown",
   "id": "a883c3ef-4e36-402c-a39f-1d42563eaf8a",
   "metadata": {},
   "source": [
    "## **1 Introduction**"
   ]
  },
  {
   "cell_type": "markdown",
   "id": "5f00d6af-675b-4107-b803-d806fa58b0e9",
   "metadata": {},
   "source": [
    "### 1.1 _Artificial neural networks_"
   ]
  },
  {
   "cell_type": "markdown",
   "id": "a2706fd4-40ed-4ccc-9151-6525ef066c45",
   "metadata": {},
   "source": [
    "An artificial neural network (ANN) is a machine learning model composed of interconnected computing units, also called _neurons_.<br>\n",
    "ANN are commonly implemented using linear operations performed by each neuron, followed by a nonlinear operation, also known as _activation function_ ($\\sigma$), as the neuron output.<br>\n",
    "These models have demonstrated to be universal function approximators and have been successfully used in a wide variety of _artificial intelligence_ (AI) problems."
   ]
  },
  {
   "cell_type": "markdown",
   "id": "39b32539-223f-46de-819d-5f37e54e01d2",
   "metadata": {},
   "source": [
    "$N(x) = \\sigma(\\sum{w^{N}_{i} x_{i}} + b^{N})$"
   ]
  },
  {
   "cell_type": "markdown",
   "id": "6d09737b-e8c9-4a5e-b703-7a6406e0af5a",
   "metadata": {},
   "source": [
    "The most common ANN model is the _multilayer perceptron_. This model is an ensemble of neurons arranged in a layered architecture.<br>\n",
    "Each layer receives the output of the previous layer as input and is processed thought its corresponding neurons. <br>\n",
    "This way the layer’s neurons _see_ the same information but processes it differently.<br>\n",
    "Also, the same activation function is used for the layers output."
   ]
  },
  {
   "cell_type": "markdown",
   "id": "474b5a63-421a-4eb5-91fe-6ad76d9f81f0",
   "metadata": {},
   "source": [
    "More complex tasks have been addressed by using more complex models. In the case of multilayer perceptrons, the complexity of the model is increased by adding more layers."
   ]
  },
  {
   "cell_type": "markdown",
   "id": "1ba2fe1f-27e0-47fc-a7a8-cc317d246462",
   "metadata": {},
   "source": [
    "![Image](https://www.mdpi.com/applsci/applsci-09-05507/article_deploy/html/images/applsci-09-05507-g003-550.jpg)"
   ]
  },
  {
   "cell_type": "markdown",
   "id": "aca581e0-dac1-4203-8c35-2aabf4aaa6ba",
   "metadata": {},
   "source": [
    "### 1.2 _Deep learning models_"
   ]
  },
  {
   "cell_type": "markdown",
   "id": "5aeded9e-b1ab-4b10-b5b5-f4442bc779eb",
   "metadata": {},
   "source": [
    "A model that constructs a hierarchical representation from previous layers is considered a deep learning model.<br>\n",
    "It can consist of tens of layers, to hundreds or thousands of them. <br>\n",
    "Deep learning has been widely studied in recent years thanks to the increase of computing capacity of computers and GPUs."
   ]
  },
  {
   "cell_type": "markdown",
   "id": "b2188fe8-e6f8-4275-81d2-d8063c16e974",
   "metadata": {},
   "source": [
    "By using GPUs, operations such as the linear convolution, can be used within the nerons of an ANN.<br>\n",
    "These networks are referred as _Convolutional Neural Networks_ (CNN). <br>\n",
    "For image analaysis, CNN are useful because they can keep the spatial context of images though the subsequent layers."
   ]
  },
  {
   "cell_type": "markdown",
   "id": "beeecaaf-4663-4b29-a2b0-9297d5e27cfc",
   "metadata": {},
   "source": [
    "### 1.2.1 _Operations_"
   ]
  },
  {
   "cell_type": "markdown",
   "id": "35e692eb-01f8-41ed-9d9e-c8c424fd8a94",
   "metadata": {},
   "source": [
    "In deep learning models, each neuron can implement any operation over its respective input.<br>\n",
    "The most common operations are\n",
    "1. Convolution\n",
    "2. Pooling (average, min, max)\n",
    "3. Linear (used on last layers)"
   ]
  },
  {
   "cell_type": "markdown",
   "id": "6ea22671-e2bb-4542-afe3-d5e76fd366e0",
   "metadata": {},
   "source": [
    "#### 1.2.1.1 Convolution"
   ]
  },
  {
   "cell_type": "markdown",
   "id": "282a0eb6-140b-4f91-bc8e-4fd62432a225",
   "metadata": {},
   "source": [
    "This is a linear operation applied locally to a neighborhood of each location of the input image. <br>\n",
    "Convolutions can be applied in multiple dimensions, however, in this workshop only two dimensional convolutions are used for image analysis.<br>\n",
    "A two dimensonal convolution applies the same _kernel_ (set of weights) to every pixel in the image. <br>\n",
    "The size of the kernel, the spacing between pixels, and the number of output channels generated are some of the customizable parameters of this operation."
   ]
  },
  {
   "cell_type": "markdown",
   "id": "0a97846c-5a05-4881-aa33-fe71554b8cd5",
   "metadata": {},
   "source": [
    "#### 1.2.1.2 Pooling"
   ]
  },
  {
   "cell_type": "markdown",
   "id": "a23b526b-4fed-4c31-bd82-0f7f619c1806",
   "metadata": {},
   "source": [
    "These operations reduce spatial information in each pixel's neighborhood.<br>\n",
    "The pooling operations can be used to downsample the resolution of the latent feature maps (layer's outputs). <br>\n",
    "The most used operations applied to the pixel's neighborhood are the average, min, and max pooling."
   ]
  },
  {
   "cell_type": "markdown",
   "id": "1e8cbaee-d81b-40f2-9507-1ceceaff3a8b",
   "metadata": {},
   "source": [
    "#### 1.2.1.3 Linear"
   ]
  },
  {
   "cell_type": "markdown",
   "id": "3053479f-e9f1-4915-b73c-77c8c61e9b35",
   "metadata": {},
   "source": [
    "This operation applies a _Matrix vector_ multiplication and addition of a _bias_ term.<br>\n",
    "The linear operation is used on the last layers of a CNN when the spatial information has been condensated to perform high level computer vision tasks."
   ]
  },
  {
   "cell_type": "markdown",
   "id": "049cbcef-2229-4db3-aeb7-03d81fb51161",
   "metadata": {},
   "source": [
    "### 1.2.2 _Activation functions_"
   ]
  },
  {
   "cell_type": "markdown",
   "id": "8945e2c5-c912-4b43-9300-08e29fd1a9c6",
   "metadata": {},
   "source": [
    "After each linear operation (or convolution), a nonlinear function can be applied to break the linearity of the neural network model.<br>\n",
    "This gives the model flexibility to address more complex tasks.<br>\n",
    "The most used activation functions are based on the _Rectified linear Unit_ (ReLU) that is differentiable and inexpensive to compute.<br>"
   ]
  },
  {
   "cell_type": "markdown",
   "id": "7b9d320e-1435-4199-8e0d-03810570a72d",
   "metadata": {},
   "source": [
    "![Image](https://pytorch.org/docs/stable/_images/ReLU.png)"
   ]
  },
  {
   "cell_type": "markdown",
   "id": "f1026d9f-2cd6-4fd4-aadb-d9e8682961d4",
   "metadata": {},
   "source": [
    "Other nonlienar functions can be used, such as sigmoid, hyperbolic tangents, and their variants.<br>\n",
    "However, the simplest activation functions are preferred when a high number of layers are used to reduce the model's overhead."
   ]
  },
  {
   "cell_type": "markdown",
   "id": "ccc08576-9f2f-4962-a6cd-0235ed405727",
   "metadata": {},
   "source": [
    "![Image](https://pytorch.org/docs/stable/_images/Sigmoid.png)"
   ]
  },
  {
   "cell_type": "markdown",
   "id": "565514f8-878b-4328-8f4b-b08f8aedce58",
   "metadata": {},
   "source": [
    "### 1.3 _Nerual network architecture_"
   ]
  },
  {
   "cell_type": "markdown",
   "id": "40fc49bf-56b6-42c0-9764-d821dedabb0c",
   "metadata": {},
   "source": [
    "The performance of a deep learning model depends highly in the topology or _architecture_ of its network. <br>\n",
    "The network's architecture comprises the information to build the nerual network, such as the number of layers, the number of neurons, the size of the kernels for the convution operations, etc."
   ]
  },
  {
   "cell_type": "markdown",
   "id": "f90d0c36-05a7-45f3-8ca4-77a92dfbc379",
   "metadata": {},
   "source": [
    "In recent years, the architecture of a network also defines if especial operation (drop out, batch normalization, residual connections) are applied between each layer."
   ]
  },
  {
   "cell_type": "markdown",
   "id": "fe317410-5a28-4a0f-8476-7793ab381993",
   "metadata": {},
   "source": [
    "It is common to find illustrated the architecture of the neural network in research papers.<br>\n",
    "The following figure is the representation of the LeNet CNN architecture.<br>"
   ]
  },
  {
   "cell_type": "markdown",
   "id": "a79a8860-5119-4860-933d-ca04b9684aad",
   "metadata": {},
   "source": [
    "![Image](https://pytorch.org/tutorials/_images/mnist.png)"
   ]
  },
  {
   "cell_type": "markdown",
   "id": "55a17319-8de6-4e4d-90f9-7e76795da3bf",
   "metadata": {},
   "source": [
    "In the LeNet illustration, what is actually shown are the input and outputs of each layer. <br>\n",
    "It is also common to find the architecture as a table defining in order the type of operation, the parameters, and the shape of the input/output of each layer.<br>\n",
    "The following table is the architecture of the Inception v3 CNN."
   ]
  },
  {
   "cell_type": "markdown",
   "id": "b8904017-e5d1-4f8c-9624-316155e1c8e9",
   "metadata": {},
   "source": [
    "![Image](https://pytorch.org/assets/images/inception_v3.png)"
   ]
  },
  {
   "cell_type": "markdown",
   "id": "1f5c52c6-e872-472f-b7e3-ea184fc02363",
   "metadata": {},
   "source": [
    "More illustrative representations of the architectures show the connections and type of operations, when the output of each layer could be more difficult to represent.<br>\n",
    "The next illustration is the same Inception V3 model."
   ]
  },
  {
   "cell_type": "markdown",
   "id": "f306f507-9267-41fd-8443-8976b15131a9",
   "metadata": {},
   "source": [
    "![Image](https://production-media.paperswithcode.com/methods/inceptionv3onc--oview_vjAbOfw.png)"
   ]
  },
  {
   "cell_type": "code",
   "execution_count": null,
   "id": "ddf27016-9264-44c7-b3cc-1242d1593ab7",
   "metadata": {},
   "outputs": [],
   "source": []
  }
 ],
 "metadata": {
  "kernelspec": {
   "display_name": "Python 3 (ipykernel)",
   "language": "python",
   "name": "python3"
  },
  "language_info": {
   "codemirror_mode": {
    "name": "ipython",
    "version": 3
   },
   "file_extension": ".py",
   "mimetype": "text/x-python",
   "name": "python",
   "nbconvert_exporter": "python",
   "pygments_lexer": "ipython3",
   "version": "3.9.11"
  }
 },
 "nbformat": 4,
 "nbformat_minor": 5
}
