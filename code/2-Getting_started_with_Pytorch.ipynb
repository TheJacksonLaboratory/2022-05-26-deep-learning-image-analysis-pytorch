{
 "cells": [
  {
   "cell_type": "markdown",
   "id": "a83faaea-4ae9-4450-a5d6-ea2568469539",
   "metadata": {},
   "source": [
    "# **Deep learning for image analysis with Python**"
   ]
  },
  {
   "cell_type": "markdown",
   "id": "93b27df3-4ac5-4fd6-8653-df07dd8d2257",
   "metadata": {},
   "source": [
    "#### Fernando Cervantes, Systems Analyst I, Imaging Solutions, Research IT\n",
    "#### fernando.cervantes@jax.org    (slack) @fernando.cervantes"
   ]
  },
  {
   "cell_type": "markdown",
   "id": "494d58f6-aa1d-4801-b0d2-819093f32981",
   "metadata": {},
   "source": [
    "Use ssh, or create a tunnel using MobaXTerm, or Putty to connect to the GCP<br>\n",
    "**ssh -nNfg -L8888:computenodename:8080 student-##@###.###.###.### <br>**\n",
    "_To be used only during the workshop only. To login into JAX HPC use ssh as usual_<br>"
   ]
  },
  {
   "cell_type": "markdown",
   "id": "d003209e-3384-4c2a-9eed-4e1766900617",
   "metadata": {},
   "source": [
    "Run the singularity container using the following command:<br>\n",
    "**singularity run --nv --env CUDA_VISIBLE_DEVICES=0 --bind /fastscratch/data/:/mnt/data/:ro,/fastscratch/models/:/mnt/models/:ro /fastscratch/pytorch_jupyter.sif -m jupyterlab --no-browser --ip=$(hostname -i)**<br>\n",
    "- **--nv** tells Singularity to use the NVIDIA drivers and allows us to use the GPUs inside the container\n",
    "- **--env CUDA_VISIBLE_DEVICES=0** sets an environment variable that specifies what GPU device is going to be used by PyTorch\n",
    "- **--bind /fastscratch/data/:/mnt/data/:ro** bind the location of the datasets to be visible inside the container (under the path _/mnt/data/_)"
   ]
  },
  {
   "cell_type": "markdown",
   "id": "0c187865-aee5-48f3-9503-5bc7f894ceba",
   "metadata": {},
   "source": [
    "Copy the URL and paste into the search bar of your browser.<br>\n",
    "If jupyter asks for a password setup, use the token from the URL that you copied and use as password: **student-#**<br>\n",
    "The token looks something like: http://some-ip:8888/lab?token= **A-long-alphanumeric-string**"
   ]
  },
  {
   "cell_type": "markdown",
   "id": "54e618ba-4f2c-451d-ac57-fecd2b8aeb73",
   "metadata": {},
   "source": [
    "## **2 Getting started with PyTorch**"
   ]
  },
  {
   "cell_type": "markdown",
   "id": "4678fa4b-a9b0-4b81-8325-e865940af8ff",
   "metadata": {},
   "source": [
    "### 2.1 _Tensors_"
   ]
  },
  {
   "cell_type": "markdown",
   "id": "bfe382c2-8dc4-4885-90d3-dc4555c2c8b2",
   "metadata": {},
   "source": [
    "The PyTorch library in python is called _torch_"
   ]
  },
  {
   "cell_type": "code",
   "execution_count": 3,
   "id": "b774f4a5-6b50-4c3c-b795-e45a7e2c9ae9",
   "metadata": {},
   "outputs": [],
   "source": [
    "import torch"
   ]
  },
  {
   "cell_type": "markdown",
   "id": "6869a62e-cf5b-4094-9be8-d76b9f078bb5",
   "metadata": {},
   "source": [
    "PyTorch basic object is the tensor (multidimensional array), with default 32-bytes float datype."
   ]
  },
  {
   "cell_type": "code",
   "execution_count": 10,
   "id": "f46babb6-ca04-4ea3-a175-bbbea2e7009c",
   "metadata": {},
   "outputs": [],
   "source": [
    "x = torch.tensor(\n",
    "    [[1., 0.], \n",
    "     [0., 1.]]\n",
    ")"
   ]
  },
  {
   "cell_type": "code",
   "execution_count": 11,
   "id": "aa405318-a0ab-426e-98ca-79913a40ed82",
   "metadata": {},
   "outputs": [
    {
     "data": {
      "text/plain": [
       "tensor([[1., 0.],\n",
       "        [0., 1.]])"
      ]
     },
     "execution_count": 11,
     "metadata": {},
     "output_type": "execute_result"
    }
   ],
   "source": [
    "x"
   ]
  },
  {
   "cell_type": "code",
   "execution_count": 12,
   "id": "8ae6a41a-8a58-40d8-8887-6086809b73f8",
   "metadata": {},
   "outputs": [
    {
     "data": {
      "text/plain": [
       "torch.float32"
      ]
     },
     "execution_count": 12,
     "metadata": {},
     "output_type": "execute_result"
    }
   ],
   "source": [
    "x.dtype"
   ]
  },
  {
   "cell_type": "markdown",
   "id": "7c0ddd59-a37d-463f-b1ae-848cb6054c3c",
   "metadata": {},
   "source": [
    "***\n",
    "PyTorch has a from_numpy function to convert numpy arrays to tensors.<br>\n",
    "The datatype and shape of the source numpy array are kept when converted to a pytorch tensor"
   ]
  },
  {
   "cell_type": "code",
   "execution_count": 15,
   "id": "cc7f3b2e-0367-42c8-ba55-a80e176f61a0",
   "metadata": {},
   "outputs": [],
   "source": [
    "import numpy as np"
   ]
  },
  {
   "cell_type": "code",
   "execution_count": 16,
   "id": "c2e6e969-0c0f-49bc-96ec-52cf297ecf55",
   "metadata": {},
   "outputs": [],
   "source": [
    "a = np.array([\n",
    "        [[0., 1.],\n",
    "         [1., 0.]],\n",
    "        [[0., 2.],\n",
    "         [2., 0.]]\n",
    "    ])"
   ]
  },
  {
   "cell_type": "code",
   "execution_count": 17,
   "id": "921a013c-b3da-4cfd-a416-0d8e4a2d55b0",
   "metadata": {},
   "outputs": [
    {
     "data": {
      "text/plain": [
       "array([[[0., 1.],\n",
       "        [1., 0.]],\n",
       "\n",
       "       [[0., 2.],\n",
       "        [2., 0.]]])"
      ]
     },
     "execution_count": 17,
     "metadata": {},
     "output_type": "execute_result"
    }
   ],
   "source": [
    "a"
   ]
  },
  {
   "cell_type": "code",
   "execution_count": 18,
   "id": "5de819fa-1bdc-4758-addc-5022b3a74b92",
   "metadata": {},
   "outputs": [
    {
     "data": {
      "text/plain": [
       "(numpy.ndarray, dtype('float64'), (2, 2, 2))"
      ]
     },
     "execution_count": 18,
     "metadata": {},
     "output_type": "execute_result"
    }
   ],
   "source": [
    "type(a), a.dtype, a.shape"
   ]
  },
  {
   "cell_type": "code",
   "execution_count": 20,
   "id": "d239f981-29fc-48a8-9813-b7caf7fa807a",
   "metadata": {},
   "outputs": [],
   "source": [
    "b = torch.from_numpy(a)"
   ]
  },
  {
   "cell_type": "code",
   "execution_count": 21,
   "id": "b1ea9ccc-d129-4bb2-893d-5b96064f9890",
   "metadata": {},
   "outputs": [
    {
     "data": {
      "text/plain": [
       "tensor([[[0., 1.],\n",
       "         [1., 0.]],\n",
       "\n",
       "        [[0., 2.],\n",
       "         [2., 0.]]], dtype=torch.float64)"
      ]
     },
     "execution_count": 21,
     "metadata": {},
     "output_type": "execute_result"
    }
   ],
   "source": [
    "b"
   ]
  },
  {
   "cell_type": "code",
   "execution_count": 22,
   "id": "e4bacb09-8ec8-4afb-93a6-59a2153591ec",
   "metadata": {},
   "outputs": [
    {
     "data": {
      "text/plain": [
       "(torch.Tensor, torch.float64, torch.Size([2, 2, 2]))"
      ]
     },
     "execution_count": 22,
     "metadata": {},
     "output_type": "execute_result"
    }
   ],
   "source": [
    "type(b), b.dtype, b.shape"
   ]
  },
  {
   "cell_type": "markdown",
   "id": "bf8ad883-fbb8-4686-832f-98f25c113f4e",
   "metadata": {},
   "source": [
    "***\n",
    "Tensors have built-in function to convert them to numpy arrays"
   ]
  },
  {
   "cell_type": "code",
   "execution_count": 23,
   "id": "d2794c9d-89fa-4c9f-b02e-97ee403413dc",
   "metadata": {},
   "outputs": [],
   "source": [
    "c = b.numpy()"
   ]
  },
  {
   "cell_type": "code",
   "execution_count": 24,
   "id": "19995634-5fcd-4704-a427-2e14a1399ddc",
   "metadata": {},
   "outputs": [
    {
     "data": {
      "text/plain": [
       "array([[[0., 1.],\n",
       "        [1., 0.]],\n",
       "\n",
       "       [[0., 2.],\n",
       "        [2., 0.]]])"
      ]
     },
     "execution_count": 24,
     "metadata": {},
     "output_type": "execute_result"
    }
   ],
   "source": [
    "c"
   ]
  },
  {
   "cell_type": "code",
   "execution_count": 25,
   "id": "6d77227a-0eeb-4e17-9046-e9b9c61174c7",
   "metadata": {},
   "outputs": [
    {
     "data": {
      "text/plain": [
       "(numpy.ndarray, dtype('float64'), (2, 2, 2))"
      ]
     },
     "execution_count": 25,
     "metadata": {},
     "output_type": "execute_result"
    }
   ],
   "source": [
    "type(c), c.dtype, c.shape"
   ]
  },
  {
   "cell_type": "markdown",
   "id": "58da0f91-fa10-474e-87db-9afefb0dc21c",
   "metadata": {},
   "source": [
    "***\n",
    "In PyTorch, the shape of a tensor is retrieved using the built-in function _size_"
   ]
  },
  {
   "cell_type": "code",
   "execution_count": 26,
   "id": "279c4521-6a92-4885-bcaf-0899c163fab4",
   "metadata": {},
   "outputs": [
    {
     "name": "stdout",
     "output_type": "stream",
     "text": [
      "torch.Size([2, 2, 2])\n",
      "torch.Size([2, 2, 2])\n"
     ]
    }
   ],
   "source": [
    "print(b.size())\n",
    "print(b.shape)"
   ]
  },
  {
   "cell_type": "markdown",
   "id": "8a0bf6cc-3fe4-4c1d-b8f1-c4647a8d2302",
   "metadata": {
    "jupyter": {
     "source_hidden": true
    },
    "tags": []
   },
   "source": [
    "### 2.2 _Initializing tensors_"
   ]
  },
  {
   "cell_type": "markdown",
   "id": "2acd419c-99cf-47aa-bbe8-70bfbe5b25c4",
   "metadata": {
    "jupyter": {
     "source_hidden": true
    },
    "tags": []
   },
   "source": [
    "Like in numpy, tensors can be initialized by giving the desired shape and datatype"
   ]
  },
  {
   "cell_type": "code",
   "execution_count": 18,
   "id": "6d2b947d-e4bb-44f2-ad9c-a8cf885e42d7",
   "metadata": {
    "jupyter": {
     "source_hidden": true
    },
    "tags": []
   },
   "outputs": [],
   "source": [
    "x = torch.zeros((2, 3, 1, 5))"
   ]
  },
  {
   "cell_type": "code",
   "execution_count": 19,
   "id": "8809c988-df3f-4a4c-94f0-3085010fba43",
   "metadata": {
    "collapsed": true,
    "jupyter": {
     "outputs_hidden": true,
     "source_hidden": true
    },
    "tags": []
   },
   "outputs": [
    {
     "data": {
      "text/plain": [
       "(torch.Size([2, 3, 1, 5]), torch.float32)"
      ]
     },
     "execution_count": 19,
     "metadata": {},
     "output_type": "execute_result"
    }
   ],
   "source": [
    "x.size(), x.dtype"
   ]
  },
  {
   "cell_type": "code",
   "execution_count": 20,
   "id": "4e6e3c9a-3468-451d-9e11-4596d5883cbb",
   "metadata": {
    "collapsed": true,
    "jupyter": {
     "outputs_hidden": true,
     "source_hidden": true
    },
    "tags": []
   },
   "outputs": [
    {
     "data": {
      "text/plain": [
       "tensor([[[[0., 0., 0., 0., 0.]],\n",
       "\n",
       "         [[0., 0., 0., 0., 0.]],\n",
       "\n",
       "         [[0., 0., 0., 0., 0.]]],\n",
       "\n",
       "\n",
       "        [[[0., 0., 0., 0., 0.]],\n",
       "\n",
       "         [[0., 0., 0., 0., 0.]],\n",
       "\n",
       "         [[0., 0., 0., 0., 0.]]]])"
      ]
     },
     "execution_count": 20,
     "metadata": {},
     "output_type": "execute_result"
    }
   ],
   "source": [
    "x"
   ]
  },
  {
   "cell_type": "code",
   "execution_count": 19,
   "id": "6ff55d8f-fa80-4404-bcb7-c15fcbaf3b6d",
   "metadata": {
    "jupyter": {
     "source_hidden": true
    },
    "tags": []
   },
   "outputs": [],
   "source": [
    "x = torch.ones((4, 1, 1, 5), dtype=torch.float64)"
   ]
  },
  {
   "cell_type": "code",
   "execution_count": 20,
   "id": "65293cf4-29a9-4481-b4d6-27d6150cdb6c",
   "metadata": {
    "collapsed": true,
    "jupyter": {
     "outputs_hidden": true,
     "source_hidden": true
    },
    "tags": []
   },
   "outputs": [
    {
     "data": {
      "text/plain": [
       "(torch.Size([4, 1, 1, 5]), torch.float64)"
      ]
     },
     "execution_count": 20,
     "metadata": {},
     "output_type": "execute_result"
    }
   ],
   "source": [
    "x.size(), x.dtype"
   ]
  },
  {
   "cell_type": "code",
   "execution_count": 21,
   "id": "1a1ad00c-ce11-425d-b83f-f71b1f7e410b",
   "metadata": {
    "collapsed": true,
    "jupyter": {
     "outputs_hidden": true,
     "source_hidden": true
    },
    "tags": []
   },
   "outputs": [
    {
     "data": {
      "text/plain": [
       "tensor([[[[1., 1., 1., 1., 1.]]],\n",
       "\n",
       "\n",
       "        [[[1., 1., 1., 1., 1.]]],\n",
       "\n",
       "\n",
       "        [[[1., 1., 1., 1., 1.]]],\n",
       "\n",
       "\n",
       "        [[[1., 1., 1., 1., 1.]]]], dtype=torch.float64)"
      ]
     },
     "execution_count": 21,
     "metadata": {},
     "output_type": "execute_result"
    }
   ],
   "source": [
    "x"
   ]
  },
  {
   "cell_type": "markdown",
   "id": "31aece8f-839b-466e-b0d8-7c621f45ae77",
   "metadata": {},
   "source": [
    "### 2.3 _Operations on tensors_"
   ]
  },
  {
   "cell_type": "markdown",
   "id": "d3a4a595-e174-4082-bccf-a18fce9b9ad8",
   "metadata": {},
   "source": [
    "There is a wide variety of arithmetic, linear algebra, and matix manipulation operations already implemented to be performed on tensors."
   ]
  },
  {
   "cell_type": "code",
   "execution_count": 27,
   "id": "ece5ab72-f87f-4164-bac1-5e021cdfca5d",
   "metadata": {},
   "outputs": [],
   "source": [
    "x = torch.tensor([7.])"
   ]
  },
  {
   "cell_type": "code",
   "execution_count": 28,
   "id": "32e5bf82-8e83-4852-9efb-c2306855d64a",
   "metadata": {},
   "outputs": [
    {
     "data": {
      "text/plain": [
       "tensor([17.])"
      ]
     },
     "execution_count": 28,
     "metadata": {},
     "output_type": "execute_result"
    }
   ],
   "source": [
    "2 * x + 3"
   ]
  },
  {
   "cell_type": "markdown",
   "id": "0b6c9335-35b1-48dc-b287-8b383320e190",
   "metadata": {},
   "source": [
    "Mathematical operations can be applied directly as build-in functions from tensor objects, or calling the torch library"
   ]
  },
  {
   "cell_type": "code",
   "execution_count": 30,
   "id": "d4db5605-7c77-4061-84ae-8d5d6d5a8d73",
   "metadata": {},
   "outputs": [
    {
     "data": {
      "text/plain": [
       "tensor([0.7539])"
      ]
     },
     "execution_count": 30,
     "metadata": {},
     "output_type": "execute_result"
    }
   ],
   "source": [
    "x.cos()"
   ]
  },
  {
   "cell_type": "code",
   "execution_count": 31,
   "id": "7abe2574-1a60-416d-b92d-16b0f2716a08",
   "metadata": {},
   "outputs": [
    {
     "data": {
      "text/plain": [
       "tensor([0.7539])"
      ]
     },
     "execution_count": 31,
     "metadata": {},
     "output_type": "execute_result"
    }
   ],
   "source": [
    "torch.cos(x)"
   ]
  },
  {
   "cell_type": "markdown",
   "id": "3d9fe9d6-242f-4962-b971-785f1b13bffa",
   "metadata": {},
   "source": [
    "Most operations are applied _element-wise_ to each entry of the tensor"
   ]
  },
  {
   "cell_type": "code",
   "execution_count": 32,
   "id": "760bcdfb-752d-4daa-99f0-5f98f06eaafa",
   "metadata": {},
   "outputs": [
    {
     "data": {
      "text/plain": [
       "tensor([[1., 1.],\n",
       "        [1., 1.]])"
      ]
     },
     "execution_count": 32,
     "metadata": {},
     "output_type": "execute_result"
    }
   ],
   "source": [
    "x = torch.zeros((2, 2))\n",
    "x.cos()"
   ]
  },
  {
   "cell_type": "markdown",
   "id": "2e5d5569-907b-4d1c-8593-f661a4c5cf02",
   "metadata": {
    "jupyter": {
     "source_hidden": true
    },
    "tags": []
   },
   "source": [
    "### 2.4 _Random tensors_"
   ]
  },
  {
   "cell_type": "markdown",
   "id": "656f5dfd-3317-443f-a41e-48a70388b0e3",
   "metadata": {
    "jupyter": {
     "source_hidden": true
    },
    "tags": []
   },
   "source": [
    "PyTorch has a random number generator to create random tensors"
   ]
  },
  {
   "cell_type": "code",
   "execution_count": 27,
   "id": "5a8f3687-efe7-456c-958e-1d3bd3b19b93",
   "metadata": {
    "collapsed": true,
    "jupyter": {
     "outputs_hidden": true,
     "source_hidden": true
    },
    "tags": []
   },
   "outputs": [
    {
     "data": {
      "text/plain": [
       "tensor([[[0.0983, 0.8942, 0.6058]],\n",
       "\n",
       "        [[0.2269, 0.7339, 0.2170]]])"
      ]
     },
     "execution_count": 27,
     "metadata": {},
     "output_type": "execute_result"
    }
   ],
   "source": [
    "x = torch.rand((2, 1, 3)) # Random numbers drawn from an uniform distribution in [0, 1]\n",
    "x"
   ]
  },
  {
   "cell_type": "code",
   "execution_count": 28,
   "id": "7f0c246d-b0e4-4371-aa49-5fa26e70f3b5",
   "metadata": {
    "collapsed": true,
    "jupyter": {
     "outputs_hidden": true,
     "source_hidden": true
    },
    "tags": []
   },
   "outputs": [
    {
     "data": {
      "text/plain": [
       "tensor([[[ 2.3141, -0.4175, -1.1024],\n",
       "         [-2.0188,  0.3515,  1.2695],\n",
       "         [ 0.4859, -0.1608, -1.1287],\n",
       "         [-0.2285,  0.0831, -2.0106]],\n",
       "\n",
       "        [[ 1.0596,  0.4435, -1.5947],\n",
       "         [-0.9315, -1.8303,  0.5007],\n",
       "         [ 0.6654, -0.1618,  0.4161],\n",
       "         [-1.3791,  0.6069, -0.0822]],\n",
       "\n",
       "        [[ 0.6490,  1.4369, -0.1554],\n",
       "         [-1.2000, -0.4331,  1.2428],\n",
       "         [ 0.5684,  1.1465,  2.1853],\n",
       "         [-0.3433,  0.2023, -0.7520]],\n",
       "\n",
       "        [[-1.4547,  0.5643,  0.9124],\n",
       "         [ 0.8602,  0.9191, -1.3361],\n",
       "         [-0.8196, -0.0540, -0.0645],\n",
       "         [-0.1562, -1.1308,  0.5527]],\n",
       "\n",
       "        [[ 0.0237,  0.6260,  0.8046],\n",
       "         [-1.8154,  0.0738, -1.2893],\n",
       "         [ 0.5735, -0.2795, -1.8737],\n",
       "         [-0.1437,  0.7811,  0.4386]]])"
      ]
     },
     "execution_count": 28,
     "metadata": {},
     "output_type": "execute_result"
    }
   ],
   "source": [
    "x = torch.randn((5, 4, 3)) # Random numbers drawn from a normal distribution N(0, 1)\n",
    "x"
   ]
  },
  {
   "cell_type": "markdown",
   "id": "774089be-afcc-463f-8126-9f6b35f25905",
   "metadata": {
    "jupyter": {
     "source_hidden": true
    },
    "tags": []
   },
   "source": [
    "For reproducibility, the seed for random number generation is set using torch.random.manual_seed"
   ]
  },
  {
   "cell_type": "code",
   "execution_count": 29,
   "id": "6c6660bb-d257-4ce3-9846-0e345a0e8790",
   "metadata": {
    "collapsed": true,
    "jupyter": {
     "outputs_hidden": true,
     "source_hidden": true
    },
    "tags": []
   },
   "outputs": [
    {
     "data": {
      "text/plain": [
       "tensor([0.0819])"
      ]
     },
     "execution_count": 29,
     "metadata": {},
     "output_type": "execute_result"
    }
   ],
   "source": [
    "torch.random.manual_seed(777)\n",
    "x = torch.rand(1)\n",
    "x"
   ]
  },
  {
   "cell_type": "code",
   "execution_count": 30,
   "id": "dc64f936-8cc6-4641-8326-c813f9109076",
   "metadata": {
    "collapsed": true,
    "jupyter": {
     "outputs_hidden": true,
     "source_hidden": true
    },
    "tags": []
   },
   "outputs": [
    {
     "data": {
      "text/plain": [
       "tensor([0.4911])"
      ]
     },
     "execution_count": 30,
     "metadata": {},
     "output_type": "execute_result"
    }
   ],
   "source": [
    "x = torch.rand(1)\n",
    "x"
   ]
  },
  {
   "cell_type": "code",
   "execution_count": 31,
   "id": "818c906f-2daf-41bc-9585-8770f0908b93",
   "metadata": {
    "collapsed": true,
    "jupyter": {
     "outputs_hidden": true,
     "source_hidden": true
    },
    "tags": []
   },
   "outputs": [
    {
     "data": {
      "text/plain": [
       "tensor([0.0819])"
      ]
     },
     "execution_count": 31,
     "metadata": {},
     "output_type": "execute_result"
    }
   ],
   "source": [
    "torch.random.manual_seed(777)\n",
    "x = torch.rand(1)\n",
    "x"
   ]
  },
  {
   "cell_type": "code",
   "execution_count": 32,
   "id": "962924aa-92dc-449d-adf4-84b6358079a7",
   "metadata": {
    "collapsed": true,
    "jupyter": {
     "outputs_hidden": true,
     "source_hidden": true
    },
    "tags": []
   },
   "outputs": [
    {
     "data": {
      "text/plain": [
       "tensor([0.4911])"
      ]
     },
     "execution_count": 32,
     "metadata": {},
     "output_type": "execute_result"
    }
   ],
   "source": [
    "x = torch.rand(1)\n",
    "x"
   ]
  },
  {
   "cell_type": "markdown",
   "id": "c3905e4c-2092-41ce-bdb5-8fe42e429957",
   "metadata": {},
   "source": [
    "### 2.5 _Automatic differentiation (autograd)_"
   ]
  },
  {
   "cell_type": "markdown",
   "id": "13e9ccdd-4f8e-4f1f-b63b-abc545fd2ee4",
   "metadata": {},
   "source": [
    "The autograd module of PyTorch allows to compute the gradient of _almost_ any operation on tensors that are implemented and applied using torch"
   ]
  },
  {
   "cell_type": "code",
   "execution_count": 39,
   "id": "b6b9ad29-8a60-4221-904b-9d2e9988bbe3",
   "metadata": {},
   "outputs": [],
   "source": [
    "x = torch.tensor(4.)\n",
    "y = torch.tensor(5.)"
   ]
  },
  {
   "cell_type": "code",
   "execution_count": 40,
   "id": "85a3af04-bded-483c-b63b-74a5259909b6",
   "metadata": {},
   "outputs": [
    {
     "data": {
      "text/plain": [
       "tensor(33.)"
      ]
     },
     "execution_count": 40,
     "metadata": {},
     "output_type": "execute_result"
    }
   ],
   "source": [
    "z = 2*x + y + x * y\n",
    "z"
   ]
  },
  {
   "cell_type": "markdown",
   "id": "c8982407-3b1c-4f01-906c-79ba51dedaa2",
   "metadata": {},
   "source": [
    "The autograd functionality of PyTorch is enabled when at least for one tensor, its gradient is required to be computed.<br>\n",
    "That means that internally, a graph is generated to compute the gradients on the tensors."
   ]
  },
  {
   "cell_type": "code",
   "execution_count": 47,
   "id": "64bb5994-54a3-4902-a572-a8dd9cf51e8c",
   "metadata": {},
   "outputs": [],
   "source": [
    "x = torch.tensor(4., requires_grad=True)\n",
    "y = torch.tensor(5., requires_grad=True)"
   ]
  },
  {
   "cell_type": "code",
   "execution_count": 48,
   "id": "fb1949ac-290f-45f9-bb7f-91e5c6cbee15",
   "metadata": {},
   "outputs": [],
   "source": [
    "z = 2*x + y + x * y"
   ]
  },
  {
   "cell_type": "code",
   "execution_count": 49,
   "id": "c69a4a50-1bdb-4394-8e63-38917b36c9dc",
   "metadata": {},
   "outputs": [
    {
     "data": {
      "text/plain": [
       "tensor(33., grad_fn=<AddBackward0>)"
      ]
     },
     "execution_count": 49,
     "metadata": {},
     "output_type": "execute_result"
    }
   ],
   "source": [
    "z"
   ]
  },
  {
   "cell_type": "markdown",
   "id": "5093aa89-c916-4f83-a42b-a9936464b55b",
   "metadata": {},
   "source": [
    "***"
   ]
  },
  {
   "cell_type": "markdown",
   "id": "96a1bed3-0184-4ec0-8d4a-34a13ce9b0c6",
   "metadata": {},
   "source": [
    "The gradient is computed when the _backward_ built-in function is called.<br>\n",
    "This will compute the gradients of all involved tensors. Then the graph is destroyed to save memory (cannot call _backward_ twice)"
   ]
  },
  {
   "cell_type": "code",
   "execution_count": 50,
   "id": "b0c3f246-4457-4d71-aefb-47b23a7bcd60",
   "metadata": {},
   "outputs": [],
   "source": [
    "z.backward()"
   ]
  },
  {
   "cell_type": "markdown",
   "id": "898712ba-e621-4733-b3d7-a94d35d604c6",
   "metadata": {},
   "source": [
    "We expect the following result for function $f$.<br>\n",
    "$z = f(x, y) = 2 x + y + x y$<br>\n",
    "$\\frac{\\delta f}{\\delta x} = 2 + y = 2 + 5 = 7$<br>\n",
    "$\\frac{\\delta f}{\\delta y} = 1 + x = 1 + 4 = 5$"
   ]
  },
  {
   "cell_type": "code",
   "execution_count": 51,
   "id": "62fa54e6-e011-4b00-b472-fef1404710f0",
   "metadata": {},
   "outputs": [
    {
     "data": {
      "text/plain": [
       "tensor(7.)"
      ]
     },
     "execution_count": 51,
     "metadata": {},
     "output_type": "execute_result"
    }
   ],
   "source": [
    "x.grad"
   ]
  },
  {
   "cell_type": "code",
   "execution_count": 52,
   "id": "bd3d8fcc-389f-47d7-bc1d-fd6ef13acf4c",
   "metadata": {},
   "outputs": [
    {
     "data": {
      "text/plain": [
       "tensor(5.)"
      ]
     },
     "execution_count": 52,
     "metadata": {},
     "output_type": "execute_result"
    }
   ],
   "source": [
    "y.grad"
   ]
  },
  {
   "cell_type": "markdown",
   "id": "7af1db24-7a59-4c23-a81b-ed6293cb248f",
   "metadata": {
    "jupyter": {
     "source_hidden": true
    },
    "tags": []
   },
   "source": [
    "***\n",
    "Example of a linear transform on $x$"
   ]
  },
  {
   "cell_type": "code",
   "execution_count": 51,
   "id": "60b504eb-658e-4690-82e2-d2d951f76e37",
   "metadata": {
    "jupyter": {
     "source_hidden": true
    },
    "tags": []
   },
   "outputs": [],
   "source": [
    "x = torch.tensor([1., 2., 1., 2., 3.])  # input tensor\n",
    "w = torch.randn(3, 5, requires_grad=True)\n",
    "b = torch.randn(3, requires_grad=True)"
   ]
  },
  {
   "cell_type": "code",
   "execution_count": 52,
   "id": "49337900-0396-4925-b1e6-aa50c2b1d418",
   "metadata": {
    "jupyter": {
     "source_hidden": true
    },
    "tags": []
   },
   "outputs": [],
   "source": [
    "z = torch.matmul(w, x)+b"
   ]
  },
  {
   "cell_type": "code",
   "execution_count": 53,
   "id": "5a77f9af-b823-4a7c-bf94-9b618d761990",
   "metadata": {
    "collapsed": true,
    "jupyter": {
     "outputs_hidden": true,
     "source_hidden": true
    },
    "tags": []
   },
   "outputs": [
    {
     "data": {
      "text/plain": [
       "tensor([-4.6712,  6.6213,  3.7979], grad_fn=<AddBackward0>)"
      ]
     },
     "execution_count": 53,
     "metadata": {},
     "output_type": "execute_result"
    }
   ],
   "source": [
    "z"
   ]
  },
  {
   "cell_type": "markdown",
   "id": "4bf00ba2-9726-4610-9bb1-4430aab757af",
   "metadata": {
    "jupyter": {
     "source_hidden": true
    },
    "tags": []
   },
   "source": [
    "z is of dimension 1$\\times$3, so to compute the gradient on z, we need a tensor with shape 1$\\times$3 "
   ]
  },
  {
   "cell_type": "code",
   "execution_count": 54,
   "id": "42b91c4d-25bd-42f9-8975-52ab9d93a242",
   "metadata": {
    "jupyter": {
     "source_hidden": true
    },
    "tags": []
   },
   "outputs": [],
   "source": [
    "z.backward(torch.tensor([1., 1., 1.]))"
   ]
  },
  {
   "cell_type": "code",
   "execution_count": 55,
   "id": "0dd5c34d-0a26-4bb1-8e28-63ed95474998",
   "metadata": {
    "collapsed": true,
    "jupyter": {
     "outputs_hidden": true,
     "source_hidden": true
    },
    "tags": []
   },
   "outputs": [
    {
     "data": {
      "text/plain": [
       "tensor([[1., 2., 1., 2., 3.],\n",
       "        [1., 2., 1., 2., 3.],\n",
       "        [1., 2., 1., 2., 3.]])"
      ]
     },
     "execution_count": 55,
     "metadata": {},
     "output_type": "execute_result"
    }
   ],
   "source": [
    "w.grad"
   ]
  },
  {
   "cell_type": "code",
   "execution_count": 56,
   "id": "842b3e0c-f831-4a37-9e1d-c4ebdab42a7e",
   "metadata": {
    "collapsed": true,
    "jupyter": {
     "outputs_hidden": true,
     "source_hidden": true
    },
    "tags": []
   },
   "outputs": [
    {
     "data": {
      "text/plain": [
       "tensor([1., 1., 1.])"
      ]
     },
     "execution_count": 56,
     "metadata": {},
     "output_type": "execute_result"
    }
   ],
   "source": [
    "b.grad"
   ]
  },
  {
   "cell_type": "markdown",
   "id": "c576fbef-316d-45ab-b9f7-4bb1900ecaa8",
   "metadata": {
    "jupyter": {
     "source_hidden": true
    },
    "tags": []
   },
   "source": [
    "***\n",
    "Compute the gradient for a loss function in an optimization problem"
   ]
  },
  {
   "cell_type": "code",
   "execution_count": 58,
   "id": "5ee40b61-341e-4428-93ca-343cacdbce05",
   "metadata": {
    "jupyter": {
     "source_hidden": true
    },
    "tags": []
   },
   "outputs": [],
   "source": [
    "w = torch.randn(3, 5, requires_grad=True)\n",
    "b = torch.randn(3, requires_grad=True)\n",
    "z = torch.matmul(w, x)+b"
   ]
  },
  {
   "cell_type": "markdown",
   "id": "0e4499f4-39fe-42c4-96f4-593afe20c2f2",
   "metadata": {
    "jupyter": {
     "source_hidden": true
    },
    "tags": []
   },
   "source": [
    "For this example, lets use the Mean Squared Error (MSE) as target function"
   ]
  },
  {
   "cell_type": "code",
   "execution_count": 59,
   "id": "fa563579-b417-4336-9c85-e47ec8db6e96",
   "metadata": {
    "jupyter": {
     "source_hidden": true
    },
    "tags": []
   },
   "outputs": [],
   "source": [
    "y = torch.zeros(3)  # target output, ground-truth"
   ]
  },
  {
   "cell_type": "code",
   "execution_count": 60,
   "id": "27bf2cf4-5bcd-4623-8bfd-643958c29a48",
   "metadata": {
    "jupyter": {
     "source_hidden": true
    },
    "tags": []
   },
   "outputs": [],
   "source": [
    "loss = torch.mean((y - z) ** 2)"
   ]
  },
  {
   "cell_type": "code",
   "execution_count": 61,
   "id": "d6408d37-2368-4181-a607-e2f77f44448d",
   "metadata": {
    "collapsed": true,
    "jupyter": {
     "outputs_hidden": true,
     "source_hidden": true
    },
    "tags": []
   },
   "outputs": [
    {
     "data": {
      "text/plain": [
       "tensor(8.5013, grad_fn=<MeanBackward0>)"
      ]
     },
     "execution_count": 61,
     "metadata": {},
     "output_type": "execute_result"
    }
   ],
   "source": [
    "loss"
   ]
  },
  {
   "cell_type": "code",
   "execution_count": 62,
   "id": "505e960f-21c7-407c-b5a0-b5afed00d3de",
   "metadata": {
    "jupyter": {
     "source_hidden": true
    },
    "tags": []
   },
   "outputs": [],
   "source": [
    "loss.backward()"
   ]
  },
  {
   "cell_type": "code",
   "execution_count": 63,
   "id": "26659e01-c1b3-4565-9e01-1cfa04944d70",
   "metadata": {
    "collapsed": true,
    "jupyter": {
     "outputs_hidden": true,
     "source_hidden": true
    },
    "tags": []
   },
   "outputs": [
    {
     "data": {
      "text/plain": [
       "tensor([[ 3.2374,  6.4749,  3.2374,  6.4749,  9.7123],\n",
       "        [-0.7039, -1.4077, -0.7039, -1.4077, -2.1116],\n",
       "        [ 0.5989,  1.1977,  0.5989,  1.1977,  1.7966]])"
      ]
     },
     "execution_count": 63,
     "metadata": {},
     "output_type": "execute_result"
    }
   ],
   "source": [
    "w.grad"
   ]
  },
  {
   "cell_type": "code",
   "execution_count": 64,
   "id": "4da1c9ec-44e8-4961-83ef-85f380f8f431",
   "metadata": {
    "collapsed": true,
    "jupyter": {
     "outputs_hidden": true,
     "source_hidden": true
    },
    "tags": []
   },
   "outputs": [
    {
     "data": {
      "text/plain": [
       "tensor([ 3.2374, -0.7039,  0.5989])"
      ]
     },
     "execution_count": 64,
     "metadata": {},
     "output_type": "execute_result"
    }
   ],
   "source": [
    "b.grad"
   ]
  },
  {
   "cell_type": "markdown",
   "id": "96cee964-f914-480d-a37f-5a5f577966b3",
   "metadata": {
    "jupyter": {
     "source_hidden": true
    },
    "tags": []
   },
   "source": [
    "In an optimization step (e.g. gradient descent), the new values for **w** and **b** are updated from the computed gradient"
   ]
  },
  {
   "cell_type": "markdown",
   "id": "33176d2b-045f-47d0-bcf8-45b35165874f",
   "metadata": {
    "jupyter": {
     "source_hidden": true
    },
    "tags": []
   },
   "source": [
    "### 2.6 _Loss functions_"
   ]
  },
  {
   "cell_type": "markdown",
   "id": "a7e44a60-273b-488b-a9cc-39aad5de9ccd",
   "metadata": {
    "jupyter": {
     "source_hidden": true
    },
    "tags": []
   },
   "source": [
    "PyTorch has implemented several loss functions that are ready for use.<br>\n",
    "These can be found in the *nn* (neural networks) module.<br>\n",
    "In most of the cases, these functions have some level of optimization in their code."
   ]
  },
  {
   "cell_type": "code",
   "execution_count": 90,
   "id": "294f5531-1911-4225-bce2-6937b0e0512c",
   "metadata": {
    "jupyter": {
     "source_hidden": true
    },
    "tags": []
   },
   "outputs": [],
   "source": [
    "import torch.nn as nn"
   ]
  },
  {
   "cell_type": "code",
   "execution_count": 91,
   "id": "ce0475ef-2a34-45a1-9b91-17e66c61b895",
   "metadata": {
    "collapsed": true,
    "jupyter": {
     "outputs_hidden": true,
     "source_hidden": true
    },
    "tags": []
   },
   "outputs": [
    {
     "data": {
      "text/plain": [
       "torch.nn.modules.loss.MSELoss"
      ]
     },
     "execution_count": 91,
     "metadata": {},
     "output_type": "execute_result"
    }
   ],
   "source": [
    "nn.MSELoss"
   ]
  },
  {
   "cell_type": "code",
   "execution_count": 92,
   "id": "c94d44d1-e5af-42a4-a088-1481b023e3bb",
   "metadata": {
    "collapsed": true,
    "jupyter": {
     "outputs_hidden": true,
     "source_hidden": true
    },
    "tags": []
   },
   "outputs": [
    {
     "data": {
      "text/plain": [
       "tensor(4.5112, grad_fn=<MseLossBackward0>)"
      ]
     },
     "execution_count": 92,
     "metadata": {},
     "output_type": "execute_result"
    }
   ],
   "source": [
    "criterion = nn.MSELoss()\n",
    "loss = criterion(y, z)\n",
    "loss"
   ]
  },
  {
   "cell_type": "code",
   "execution_count": 93,
   "id": "31949828-9daa-476f-a481-ef0dcb240578",
   "metadata": {
    "collapsed": true,
    "jupyter": {
     "outputs_hidden": true,
     "source_hidden": true
    },
    "tags": []
   },
   "outputs": [
    {
     "data": {
      "text/plain": [
       "torch.nn.modules.loss.CrossEntropyLoss"
      ]
     },
     "execution_count": 93,
     "metadata": {},
     "output_type": "execute_result"
    }
   ],
   "source": [
    "nn.CrossEntropyLoss"
   ]
  },
  {
   "cell_type": "code",
   "execution_count": 94,
   "id": "85e2bed1-2ffe-4d25-91d3-ea6ac3487d3b",
   "metadata": {
    "collapsed": true,
    "jupyter": {
     "outputs_hidden": true,
     "source_hidden": true
    },
    "tags": []
   },
   "outputs": [
    {
     "data": {
      "text/plain": [
       "torch.nn.modules.loss.BCEWithLogitsLoss"
      ]
     },
     "execution_count": 94,
     "metadata": {},
     "output_type": "execute_result"
    }
   ],
   "source": [
    "nn.BCEWithLogitsLoss"
   ]
  },
  {
   "cell_type": "markdown",
   "id": "98a9b0ee-9c64-4257-b5ae-ef31ed58576e",
   "metadata": {
    "jupyter": {
     "source_hidden": true
    },
    "tags": []
   },
   "source": [
    "The complete list of loss functions can be found in this [link](https://pytorch.org/docs/stable/nn.html#loss-functions)"
   ]
  }
 ],
 "metadata": {
  "kernelspec": {
   "display_name": "Python 3 (ipykernel)",
   "language": "python",
   "name": "python3"
  },
  "language_info": {
   "codemirror_mode": {
    "name": "ipython",
    "version": 3
   },
   "file_extension": ".py",
   "mimetype": "text/x-python",
   "name": "python",
   "nbconvert_exporter": "python",
   "pygments_lexer": "ipython3",
   "version": "3.9.10"
  }
 },
 "nbformat": 4,
 "nbformat_minor": 5
}
